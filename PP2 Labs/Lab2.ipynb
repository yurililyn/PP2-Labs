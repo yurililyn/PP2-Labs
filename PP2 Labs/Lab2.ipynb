{
 "cells": [
  {
   "cell_type": "markdown",
   "id": "04672cb5-e6cd-40c1-b61a-4fc5fa0f6856",
   "metadata": {},
   "source": [
    "Python Boolean Values:"
   ]
  },
  {
   "cell_type": "code",
   "execution_count": 2,
   "id": "327e2dc6-7bbe-4c59-858a-c275ae634b73",
   "metadata": {},
   "outputs": [
    {
     "name": "stdout",
     "output_type": "stream",
     "text": [
      "True\n",
      "False\n",
      "False\n"
     ]
    }
   ],
   "source": [
    "print(10 > 9)\n",
    "print(10 == 9)\n",
    "print(10 < 9)"
   ]
  },
  {
   "cell_type": "markdown",
   "id": "c49fa40a-3c42-425a-8ccd-8fba83ba0c9e",
   "metadata": {},
   "source": [
    "When you run a condition in an if statement, Python returns True or False:"
   ]
  },
  {
   "cell_type": "code",
   "execution_count": 5,
   "id": "f7442aec-4548-4d93-b198-a45ee6f2d8a7",
   "metadata": {},
   "outputs": [
    {
     "name": "stdout",
     "output_type": "stream",
     "text": [
      "b is not greater than a\n"
     ]
    }
   ],
   "source": [
    "a = 200\n",
    "b = 33\n",
    "\n",
    "if b > a:\n",
    "  print(\"b is greater than a\")\n",
    "else:\n",
    "  print(\"b is not greater than a\")"
   ]
  },
  {
   "cell_type": "markdown",
   "id": "760a4bb7-cec9-4af7-b077-a0e06b54fd64",
   "metadata": {},
   "source": [
    "The bool() function allows you to evaluate any value, and give you True or False in return:"
   ]
  },
  {
   "cell_type": "code",
   "execution_count": 9,
   "id": "1195b2e1-502e-42c5-a4ee-a0c344858304",
   "metadata": {},
   "outputs": [
    {
     "name": "stdout",
     "output_type": "stream",
     "text": [
      "True\n",
      "True\n"
     ]
    }
   ],
   "source": [
    "print(bool(\"Hello\"))\n",
    "print(bool(15))"
   ]
  },
  {
   "cell_type": "code",
   "execution_count": 11,
   "id": "4dcede4f-d59b-4ad9-b66c-22a2a5381ed1",
   "metadata": {},
   "outputs": [
    {
     "name": "stdout",
     "output_type": "stream",
     "text": [
      "True\n",
      "True\n"
     ]
    }
   ],
   "source": [
    "x = \"Hello\"\n",
    "y = 15\n",
    "\n",
    "print(bool(x))\n",
    "print(bool(y))"
   ]
  },
  {
   "cell_type": "markdown",
   "id": "eaaf44a4-c56e-4766-a148-2eda2053a6c8",
   "metadata": {},
   "source": [
    "Any string is True, except empty strings.\n",
    "Any number is True, except 0.\n",
    "Any list, tuple, set, and dictionary are True, except empty ones."
   ]
  },
  {
   "cell_type": "code",
   "execution_count": 14,
   "id": "be6d4fa1-62e4-4b0b-b0d5-d90600d09b8c",
   "metadata": {},
   "outputs": [
    {
     "data": {
      "text/plain": [
       "True"
      ]
     },
     "execution_count": 14,
     "metadata": {},
     "output_type": "execute_result"
    }
   ],
   "source": [
    "bool(\"abc\")\n",
    "bool(123)\n",
    "bool([\"apple\", \"cherry\", \"banana\"])"
   ]
  },
  {
   "cell_type": "markdown",
   "id": "ead819e5-7a20-49b0-baf1-d6cfc8061d29",
   "metadata": {},
   "source": [
    "Examples of values that evaluate to False:"
   ]
  },
  {
   "cell_type": "code",
   "execution_count": 17,
   "id": "7842f348-bfb5-41ca-80ec-7a8442995b9e",
   "metadata": {},
   "outputs": [
    {
     "data": {
      "text/plain": [
       "False"
      ]
     },
     "execution_count": 17,
     "metadata": {},
     "output_type": "execute_result"
    }
   ],
   "source": [
    "bool(False)\n",
    "bool(None)\n",
    "bool(0)\n",
    "bool(\"\")\n",
    "bool(())\n",
    "bool([])\n",
    "bool({})"
   ]
  },
  {
   "cell_type": "markdown",
   "id": "50a20486-d9f8-4947-81ee-9502d411f7f9",
   "metadata": {},
   "source": [
    "Object that is made from a class with a __len__ function that returns 0 or False:"
   ]
  },
  {
   "cell_type": "code",
   "execution_count": 19,
   "id": "c9948ceb-70c3-49bd-9679-36078f31e076",
   "metadata": {},
   "outputs": [
    {
     "name": "stdout",
     "output_type": "stream",
     "text": [
      "False\n"
     ]
    }
   ],
   "source": [
    "class myclass():\n",
    "  def __len__(self):\n",
    "    return 0\n",
    "\n",
    "myobj = myclass()\n",
    "print(bool(myobj))"
   ]
  },
  {
   "cell_type": "markdown",
   "id": "5e99e066-63bf-4e8f-b030-19cf2e69f70b",
   "metadata": {},
   "source": [
    "Functions can Return a Boolean:"
   ]
  },
  {
   "cell_type": "code",
   "execution_count": 34,
   "id": "950b8f1f-979d-447a-accd-128fc8e45e57",
   "metadata": {},
   "outputs": [
    {
     "name": "stdout",
     "output_type": "stream",
     "text": [
      "True\n"
     ]
    }
   ],
   "source": [
    "def myFunction():\n",
    "    return True\n",
    "\n",
    "print(myFunction())"
   ]
  },
  {
   "cell_type": "markdown",
   "id": "c351b4e0-e0e5-4e09-b2c2-bd0c2198e16d",
   "metadata": {},
   "source": [
    "You can execute code based on the Boolean answer of a function:"
   ]
  },
  {
   "cell_type": "code",
   "execution_count": 36,
   "id": "883840df-388a-4572-a9c8-17b82cbda915",
   "metadata": {},
   "outputs": [
    {
     "name": "stdout",
     "output_type": "stream",
     "text": [
      "YES!\n"
     ]
    }
   ],
   "source": [
    "def myFunction() :\n",
    "  return True\n",
    "\n",
    "if myFunction():\n",
    "  print(\"YES!\")\n",
    "else:\n",
    "  print(\"NO!\")"
   ]
  },
  {
   "cell_type": "markdown",
   "id": "b0d7e50e-3968-4dd5-8d6c-c343348d4874",
   "metadata": {},
   "source": [
    "isinstance() function:"
   ]
  },
  {
   "cell_type": "code",
   "execution_count": 47,
   "id": "59225587-a013-4134-bcae-71f3f74622c2",
   "metadata": {},
   "outputs": [
    {
     "name": "stdout",
     "output_type": "stream",
     "text": [
      "True\n"
     ]
    }
   ],
   "source": [
    "x = 200\n",
    "print(isinstance(x, int))"
   ]
  },
  {
   "cell_type": "markdown",
   "id": "72157852-058c-4738-a42d-d0bd4537a015",
   "metadata": {},
   "source": [
    "Python Operators:"
   ]
  },
  {
   "cell_type": "markdown",
   "id": "95c73192-b7e5-425a-9e41-94eed0f3b7e2",
   "metadata": {},
   "source": [
    "Python Arithmetic Operators:"
   ]
  },
  {
   "cell_type": "markdown",
   "id": "68330e76-120c-4724-a5a6-7cc35add7495",
   "metadata": {},
   "source": [
    "Addition:"
   ]
  },
  {
   "cell_type": "code",
   "execution_count": 68,
   "id": "7625ef45-e4eb-45e9-bc0b-7dfd2485c495",
   "metadata": {},
   "outputs": [
    {
     "name": "stdout",
     "output_type": "stream",
     "text": [
      "15\n"
     ]
    }
   ],
   "source": [
    "x = 5\n",
    "y = 10\n",
    "print(x + y)"
   ]
  },
  {
   "cell_type": "markdown",
   "id": "19a057b8-5ec1-472d-8ddf-0c7acef10cf3",
   "metadata": {},
   "source": [
    "Subtraction:"
   ]
  },
  {
   "cell_type": "code",
   "execution_count": 70,
   "id": "897a8f4e-a174-4d73-9d5d-d979ce9729e8",
   "metadata": {},
   "outputs": [
    {
     "name": "stdout",
     "output_type": "stream",
     "text": [
      "5\n"
     ]
    }
   ],
   "source": [
    "x = 10\n",
    "y = 5\n",
    "print(x - y)"
   ]
  },
  {
   "cell_type": "markdown",
   "id": "5fbe4c5e-5ef0-4b01-93a3-9f64adaf3e6d",
   "metadata": {},
   "source": [
    "Multiplication:"
   ]
  },
  {
   "cell_type": "code",
   "execution_count": 72,
   "id": "378a0dc3-a5ac-450b-b7f8-ec8b29f66cf3",
   "metadata": {},
   "outputs": [
    {
     "name": "stdout",
     "output_type": "stream",
     "text": [
      "50\n"
     ]
    }
   ],
   "source": [
    "x = 10\n",
    "y = 5\n",
    "print(x * y)"
   ]
  },
  {
   "cell_type": "markdown",
   "id": "b7bf5f73-3694-4a9e-8310-7a9cdb1fc912",
   "metadata": {},
   "source": [
    "Division:"
   ]
  },
  {
   "cell_type": "code",
   "execution_count": 75,
   "id": "7bdfe3e8-990b-4745-85c7-e407a5307d5f",
   "metadata": {},
   "outputs": [
    {
     "name": "stdout",
     "output_type": "stream",
     "text": [
      "2.0\n"
     ]
    }
   ],
   "source": [
    "x = 10\n",
    "y = 5\n",
    "print(x / y)"
   ]
  },
  {
   "cell_type": "markdown",
   "id": "19e95929-fbdd-48ce-878d-a60906b71fa1",
   "metadata": {},
   "source": [
    "Modulus:"
   ]
  },
  {
   "cell_type": "code",
   "execution_count": 80,
   "id": "359029a8-169e-4160-b17a-ef80625ebf56",
   "metadata": {},
   "outputs": [
    {
     "name": "stdout",
     "output_type": "stream",
     "text": [
      "4\n"
     ]
    }
   ],
   "source": [
    "x = 9\n",
    "y = 5\n",
    "print(x % y)"
   ]
  },
  {
   "cell_type": "markdown",
   "id": "01873fcf-5637-43cb-b1d9-1b20def8a0a5",
   "metadata": {},
   "source": [
    "Exponentiation:"
   ]
  },
  {
   "cell_type": "code",
   "execution_count": 83,
   "id": "87cf092e-04ae-4c22-b9e4-841a493eb881",
   "metadata": {},
   "outputs": [
    {
     "name": "stdout",
     "output_type": "stream",
     "text": [
      "100000\n"
     ]
    }
   ],
   "source": [
    "x = 10\n",
    "y = 5\n",
    "print(x ** y)"
   ]
  },
  {
   "cell_type": "markdown",
   "id": "b53dfe17-f722-48ca-85bf-ab78d2d11220",
   "metadata": {},
   "source": [
    "Floor division:"
   ]
  },
  {
   "cell_type": "code",
   "execution_count": 86,
   "id": "17174b41-c17f-442a-8378-0755c772cdce",
   "metadata": {},
   "outputs": [
    {
     "name": "stdout",
     "output_type": "stream",
     "text": [
      "2\n"
     ]
    }
   ],
   "source": [
    "x = 10\n",
    "y = 5\n",
    "print(x // y)"
   ]
  },
  {
   "cell_type": "markdown",
   "id": "d3d4879c-460b-42a3-bfa5-093a27f64d64",
   "metadata": {},
   "source": [
    "Python Assignment Operators:"
   ]
  },
  {
   "cell_type": "code",
   "execution_count": 101,
   "id": "9ae52ea3-3ce1-4611-83b7-3ef9461c7282",
   "metadata": {},
   "outputs": [
    {
     "name": "stdout",
     "output_type": "stream",
     "text": [
      "2\n",
      "5\n"
     ]
    }
   ],
   "source": [
    "x = 2\n",
    "for i in range(x):\n",
    "    print(x)\n",
    "    x += 3 # x = x + 3"
   ]
  },
  {
   "cell_type": "code",
   "execution_count": 105,
   "id": "993e875f-2fe6-41ac-ab02-7562139107e8",
   "metadata": {},
   "outputs": [
    {
     "name": "stdout",
     "output_type": "stream",
     "text": [
      "2\n",
      "-1\n"
     ]
    }
   ],
   "source": [
    "x = 2\n",
    "for i in range(x):\n",
    "    print(x)\n",
    "    x -= 3 # x = x - 3"
   ]
  },
  {
   "cell_type": "code",
   "execution_count": 107,
   "id": "68840d62-1bf5-4b30-a441-30dcf2c2b8fb",
   "metadata": {},
   "outputs": [
    {
     "name": "stdout",
     "output_type": "stream",
     "text": [
      "2\n",
      "6\n"
     ]
    }
   ],
   "source": [
    "x = 2\n",
    "for i in range(x):\n",
    "    print(x)\n",
    "    x *= 3 # x = x * 3"
   ]
  },
  {
   "cell_type": "code",
   "execution_count": 109,
   "id": "cd45da9e-74f5-4067-a209-0b3e56d48954",
   "metadata": {},
   "outputs": [
    {
     "name": "stdout",
     "output_type": "stream",
     "text": [
      "2\n",
      "0.6666666666666666\n"
     ]
    }
   ],
   "source": [
    "x = 2\n",
    "for i in range(x):\n",
    "    print(x)\n",
    "    x /= 3 # x = x / 3"
   ]
  },
  {
   "cell_type": "code",
   "execution_count": 111,
   "id": "8858159d-e219-4007-8d89-065c1d3a37bd",
   "metadata": {},
   "outputs": [
    {
     "name": "stdout",
     "output_type": "stream",
     "text": [
      "2\n",
      "2\n"
     ]
    }
   ],
   "source": [
    "x = 2\n",
    "for i in range(x):\n",
    "    print(x)\n",
    "    x %= 3 # x = x % 3"
   ]
  },
  {
   "cell_type": "code",
   "execution_count": 113,
   "id": "cfdb37ec-a5e7-45dc-bdb8-5e6741fd14d3",
   "metadata": {},
   "outputs": [
    {
     "name": "stdout",
     "output_type": "stream",
     "text": [
      "2\n",
      "0\n"
     ]
    }
   ],
   "source": [
    "x = 2\n",
    "for i in range(x):\n",
    "    print(x)\n",
    "    x //= 3 # x = x // 3"
   ]
  },
  {
   "cell_type": "code",
   "execution_count": 115,
   "id": "ce7a888f-0393-448c-9528-1db59ed8e895",
   "metadata": {},
   "outputs": [
    {
     "name": "stdout",
     "output_type": "stream",
     "text": [
      "2\n",
      "8\n"
     ]
    }
   ],
   "source": [
    "x = 2\n",
    "for i in range(x):\n",
    "    print(x)\n",
    "    x **= 3 # x = x ** 3"
   ]
  },
  {
   "cell_type": "code",
   "execution_count": 117,
   "id": "f8a9b38f-9909-4929-94c4-7795e2b8e425",
   "metadata": {},
   "outputs": [
    {
     "name": "stdout",
     "output_type": "stream",
     "text": [
      "2\n",
      "2\n"
     ]
    }
   ],
   "source": [
    "x = 2\n",
    "for i in range(x):\n",
    "    print(x)\n",
    "    x &= 3 # x = x & 3"
   ]
  },
  {
   "cell_type": "code",
   "execution_count": 119,
   "id": "47abb351-48f1-477a-8b22-f23e607f0a9d",
   "metadata": {},
   "outputs": [
    {
     "name": "stdout",
     "output_type": "stream",
     "text": [
      "2\n",
      "3\n"
     ]
    }
   ],
   "source": [
    "x = 2\n",
    "for i in range(x):\n",
    "    print(x)\n",
    "    x |= 3 # x = x | 3"
   ]
  },
  {
   "cell_type": "code",
   "execution_count": 121,
   "id": "1ee567a5-90a2-44f7-b7f3-271edbe4e006",
   "metadata": {},
   "outputs": [
    {
     "name": "stdout",
     "output_type": "stream",
     "text": [
      "2\n",
      "1\n"
     ]
    }
   ],
   "source": [
    "x = 2\n",
    "for i in range(x):\n",
    "    print(x)\n",
    "    x ^= 3 # x = x ^ 3"
   ]
  },
  {
   "cell_type": "code",
   "execution_count": 123,
   "id": "be5bfe58-04cf-4a7a-b734-3b1e7af8b869",
   "metadata": {},
   "outputs": [
    {
     "name": "stdout",
     "output_type": "stream",
     "text": [
      "2\n",
      "0\n"
     ]
    }
   ],
   "source": [
    "x = 2\n",
    "for i in range(x):\n",
    "    print(x)\n",
    "    x >>= 3 # x = x >> 3"
   ]
  },
  {
   "cell_type": "code",
   "execution_count": 125,
   "id": "6d641cfc-10c7-4f05-8467-295d8783d380",
   "metadata": {},
   "outputs": [
    {
     "name": "stdout",
     "output_type": "stream",
     "text": [
      "2\n",
      "16\n"
     ]
    }
   ],
   "source": [
    "x = 2\n",
    "for i in range(x):\n",
    "    print(x)\n",
    "    x <<= 3 # x = x << 3"
   ]
  },
  {
   "cell_type": "code",
   "execution_count": 139,
   "id": "f6ea592c-a689-47c0-8043-2bbef3057dd2",
   "metadata": {},
   "outputs": [
    {
     "name": "stdout",
     "output_type": "stream",
     "text": [
      "3\n"
     ]
    }
   ],
   "source": [
    "print(x := 3) # x = 3\n",
    "              # print(x)"
   ]
  },
  {
   "cell_type": "markdown",
   "id": "d106aa0e-128b-4dfb-9052-097947b6a870",
   "metadata": {},
   "source": [
    "Python Comparison Operators:"
   ]
  },
  {
   "cell_type": "code",
   "execution_count": 153,
   "id": "07654687-313a-43d8-9d52-5a1b86718572",
   "metadata": {},
   "outputs": [
    {
     "name": "stdout",
     "output_type": "stream",
     "text": [
      "False\n",
      "True\n",
      "False\n",
      "True\n",
      "False\n",
      "True\n"
     ]
    }
   ],
   "source": [
    "x = 5\n",
    "y = 10\n",
    "print(x == y) # equal\n",
    "print(x != y) # not equal\n",
    "print(x > y) # greater than\n",
    "print(x < y) # less than\n",
    "print(x >= y) # greater than or equal to\n",
    "print(x <= y) # less than or equal to"
   ]
  },
  {
   "cell_type": "markdown",
   "id": "679ba167-69b7-43be-b397-6548693569ed",
   "metadata": {},
   "source": [
    "Python Logical Operators:"
   ]
  },
  {
   "cell_type": "code",
   "execution_count": 166,
   "id": "37619a7e-80e0-42a9-b1ab-e70479e729fd",
   "metadata": {},
   "outputs": [
    {
     "name": "stdout",
     "output_type": "stream",
     "text": [
      "True\n",
      "True\n",
      "True\n"
     ]
    }
   ],
   "source": [
    "x = 5\n",
    "y = 10\n",
    "print(x < 6 and  y < 11) # True if both statements are true\n",
    "print(x < 6 or y < 4) # True if at least one is true\n",
    "print(not(x < 5 and x < 10)) # reversed result"
   ]
  },
  {
   "cell_type": "markdown",
   "id": "3cfa16c3-8e46-4ab1-af2c-c7d135e08ecf",
   "metadata": {},
   "source": [
    "Python Identity Operators:"
   ]
  },
  {
   "cell_type": "markdown",
   "id": "69981741-ea92-4509-8f52-2ae7b9aee8e1",
   "metadata": {},
   "source": [
    "Identity operators are used to compare the objects, not if they are equal, but if they are actually the same object, with the same memory location:"
   ]
  },
  {
   "cell_type": "code",
   "execution_count": 182,
   "id": "195045e8-9fdd-4df5-b6d7-3fd82255a62b",
   "metadata": {},
   "outputs": [
    {
     "name": "stdout",
     "output_type": "stream",
     "text": [
      "True\n"
     ]
    }
   ],
   "source": [
    "x = 5\n",
    "y = y\n",
    "print(x is y)"
   ]
  },
  {
   "cell_type": "code",
   "execution_count": 190,
   "id": "72b0fa6c-d8df-4e51-8748-d2d8f426a7a9",
   "metadata": {},
   "outputs": [
    {
     "name": "stdout",
     "output_type": "stream",
     "text": [
      "True\n",
      "False\n",
      "False\n",
      "True\n"
     ]
    }
   ],
   "source": [
    "x = [\"apple\", \"banana\"]\n",
    "y = [\"apple\", \"banana\"]\n",
    "z = x\n",
    "print(x is z) # returns True because z is the same object as x\n",
    "\n",
    "print(x is not z) # returns False because z is the same object as x\n",
    "\n",
    "print(x is y) # returns False because x is not the same object as y, even if they have the same content\n",
    "\n",
    "print(x == y) # to demonstrate the difference betweeen \"is\" and \"==\": this comparison rewturns True because x is equal to y"
   ]
  },
  {
   "cell_type": "markdown",
   "id": "84903c25-63fd-4716-9eef-3297a8ba9c39",
   "metadata": {},
   "source": [
    "Python Membership Operators:"
   ]
  },
  {
   "cell_type": "code",
   "execution_count": 201,
   "id": "a4c79c32-b120-431c-a9d8-1580016b944a",
   "metadata": {},
   "outputs": [
    {
     "name": "stdout",
     "output_type": "stream",
     "text": [
      "True\n",
      "True\n"
     ]
    }
   ],
   "source": [
    "x = [\"apple\", \"banana\"]\n",
    "\n",
    "print(\"banana\" in x) # returns True because a sequence with the value \"banana\" is in the list\n",
    "\n",
    "print(\"orange\" not in x) # returns True because a sequence with the value \"orange\" is  not in the list"
   ]
  },
  {
   "cell_type": "markdown",
   "id": "17697bd3-b561-40b0-b3ff-058fdd3896ca",
   "metadata": {},
   "source": [
    "Python Bitwise Operators:"
   ]
  },
  {
   "cell_type": "code",
   "execution_count": 57,
   "id": "efef11aa-7d30-46d3-844d-012a86555abc",
   "metadata": {},
   "outputs": [
    {
     "name": "stdout",
     "output_type": "stream",
     "text": [
      "2\n",
      "7\n",
      "5\n",
      "-7\n",
      "24\n",
      "1\n"
     ]
    }
   ],
   "source": [
    "x = 6 #110 as binary value\n",
    "y = 3 #011 as binary value\n",
    "print(x & y) #Sets each bit to 1 if both bits are 1\n",
    "print(x | y) #Sets each bit to 1 if one of two bits is 1\n",
    "print(x ^ y) #Sets each bit to 1 if only one of two bits is 1\n",
    "print(~x) #inverts all the bits 000000110 -> 111111001\n",
    "print(x << 2) #Shift left by pushing zeros in from the right and let the leftmost bits fall off 00110 -> 11000\n",
    "print(x >> 2) #Shift right by pushing copies of the leftmost bit in from the left, and let the rightmost bits fall off 00110 -> 00001"
   ]
  },
  {
   "cell_type": "markdown",
   "id": "10b42127-b2ce-43fd-a819-e2e3cf9692cb",
   "metadata": {},
   "source": [
    "Operator Precedence:"
   ]
  },
  {
   "cell_type": "markdown",
   "id": "f7b9f14e-dd5b-4844-b55f-65109d108259",
   "metadata": {},
   "source": [
    "Parentheses has the highest precedence, meaning that expressions inside parentheses must be evaluated first:"
   ]
  },
  {
   "cell_type": "code",
   "execution_count": 232,
   "id": "48285e50-87b9-408e-b798-17d42d1ec0e0",
   "metadata": {},
   "outputs": [
    {
     "name": "stdout",
     "output_type": "stream",
     "text": [
      "0\n"
     ]
    }
   ],
   "source": [
    "print((6 + 3) - (6 + 3))"
   ]
  },
  {
   "cell_type": "markdown",
   "id": "500896b4-661a-4390-b001-7a2189f5fe6e",
   "metadata": {},
   "source": [
    "Multiplication * has higher precedence than addition +, and therefor multiplications are evaluated before additions:"
   ]
  },
  {
   "cell_type": "code",
   "execution_count": 237,
   "id": "cfb77d5c-2bae-43fa-bd74-28786f888cd2",
   "metadata": {},
   "outputs": [
    {
     "name": "stdout",
     "output_type": "stream",
     "text": [
      "115\n"
     ]
    }
   ],
   "source": [
    "print(100 + 5 * 3)"
   ]
  },
  {
   "cell_type": "markdown",
   "id": "e852566d-2ca3-46e3-81a4-3b6cec1dd208",
   "metadata": {},
   "source": [
    "Addition + and subtraction - has the same precedence, and therefor we evaluate the expression from left to right:"
   ]
  },
  {
   "cell_type": "code",
   "execution_count": 243,
   "id": "a36ffddf-645f-4d0b-a694-1c7026195cd4",
   "metadata": {},
   "outputs": [
    {
     "name": "stdout",
     "output_type": "stream",
     "text": [
      "5\n"
     ]
    }
   ],
   "source": [
    "print(5 + 4 - 7 + 3)"
   ]
  },
  {
   "cell_type": "markdown",
   "id": "2a328aa0-270a-4e6b-a2c2-d1a295bbc979",
   "metadata": {},
   "source": [
    "Python List:"
   ]
  },
  {
   "cell_type": "code",
   "execution_count": 246,
   "id": "250040c4-f170-4bac-95d8-4ce3d95f0b9f",
   "metadata": {},
   "outputs": [
    {
     "name": "stdout",
     "output_type": "stream",
     "text": [
      "['apple', 'banana', 'cherry']\n"
     ]
    }
   ],
   "source": [
    "thislist = [\"apple\", \"banana\", \"cherry\"]\n",
    "print(thislist)"
   ]
  },
  {
   "cell_type": "markdown",
   "id": "4dbb1eb8-0c0a-4a51-992c-885f3ff0ad71",
   "metadata": {},
   "source": [
    "Lists allow duplicate values:"
   ]
  },
  {
   "cell_type": "code",
   "execution_count": 249,
   "id": "76eca1a0-85d6-4d61-96ba-ef44850cfeee",
   "metadata": {},
   "outputs": [
    {
     "name": "stdout",
     "output_type": "stream",
     "text": [
      "['apple', 'banana', 'cherry', 'apple', 'cherry']\n"
     ]
    }
   ],
   "source": [
    "thislist = [\"apple\", \"banana\", \"cherry\", \"apple\", \"cherry\"]\n",
    "print(thislist)"
   ]
  },
  {
   "cell_type": "markdown",
   "id": "90c411d9-1b91-48f5-80dc-63ef9f34450d",
   "metadata": {},
   "source": [
    "To determine how many items a list has, use the len() function:"
   ]
  },
  {
   "cell_type": "code",
   "execution_count": 252,
   "id": "134dfa70-f1e6-4444-bf5f-7b7ad679d088",
   "metadata": {},
   "outputs": [
    {
     "name": "stdout",
     "output_type": "stream",
     "text": [
      "3\n"
     ]
    }
   ],
   "source": [
    "thislist = [\"apple\", \"banana\", \"cherry\"]\n",
    "print(len(thislist))"
   ]
  },
  {
   "cell_type": "markdown",
   "id": "d4f95917-e680-4ef6-8e4d-09048b9125a8",
   "metadata": {},
   "source": [
    "Data types of elements of list:"
   ]
  },
  {
   "cell_type": "markdown",
   "id": "2756b29e-60b9-41d9-98c6-e95da36cafd0",
   "metadata": {},
   "source": [
    "String, int and boolean data types:"
   ]
  },
  {
   "cell_type": "code",
   "execution_count": 258,
   "id": "36aa5570-cf2c-4bba-8b90-baf8004da62d",
   "metadata": {},
   "outputs": [
    {
     "name": "stdout",
     "output_type": "stream",
     "text": [
      "['apple', 'banana', 'cherry']\n",
      "[1, 5, 7, 9, 3]\n",
      "[True, False, False]\n"
     ]
    }
   ],
   "source": [
    "list1 = [\"apple\", \"banana\", \"cherry\"]\n",
    "list2 = [1, 5, 7, 9, 3]\n",
    "list3 = [True, False, False]\n",
    "print(list1)\n",
    "print(list2)\n",
    "print(list3)"
   ]
  },
  {
   "cell_type": "markdown",
   "id": "b1e2a169-f284-4938-9814-582e462b0366",
   "metadata": {},
   "source": [
    "A list with strings, integers and boolean values:"
   ]
  },
  {
   "cell_type": "code",
   "execution_count": 263,
   "id": "e71e8617-3bef-4bbd-9daf-01c9e07d34de",
   "metadata": {},
   "outputs": [
    {
     "name": "stdout",
     "output_type": "stream",
     "text": [
      "['abc', 34, True, 40, 'male']\n"
     ]
    }
   ],
   "source": [
    "list1 = [\"abc\", 34, True, 40, \"male\"]\n",
    "print(list1)"
   ]
  },
  {
   "cell_type": "markdown",
   "id": "615d0350-217f-44d8-bdb5-e6ab93e7f6be",
   "metadata": {},
   "source": [
    "What is the data type of a list?"
   ]
  },
  {
   "cell_type": "code",
   "execution_count": 266,
   "id": "c92e5ede-4b64-47dd-8f0e-841b263a71e7",
   "metadata": {},
   "outputs": [
    {
     "name": "stdout",
     "output_type": "stream",
     "text": [
      "<class 'list'>\n"
     ]
    }
   ],
   "source": [
    "mylist = [\"apple\", \"banana\", \"cherry\"]\n",
    "print(type(mylist))"
   ]
  },
  {
   "cell_type": "markdown",
   "id": "1874c62d-82c0-40ea-8193-d8e9c231614c",
   "metadata": {},
   "source": [
    "It is also possible to use the list() constructor when creating a new list:"
   ]
  },
  {
   "cell_type": "code",
   "execution_count": 270,
   "id": "9d5fdbfe-630b-4344-9d67-8fef173716bb",
   "metadata": {},
   "outputs": [
    {
     "name": "stdout",
     "output_type": "stream",
     "text": [
      "['apple', 'banana', 'cherry']\n"
     ]
    }
   ],
   "source": [
    "thislist = list((\"apple\", \"banana\", \"cherry\")) # note the double round-brackets\n",
    "print(thislist)"
   ]
  },
  {
   "cell_type": "markdown",
   "id": "374a0410-00d3-4680-8e5d-8386e286f9d0",
   "metadata": {},
   "source": [
    "Access Items"
   ]
  },
  {
   "cell_type": "markdown",
   "id": "9dd7813e-e536-4bcc-8886-5a9151739bf1",
   "metadata": {},
   "source": [
    "Print the second item of the list:"
   ]
  },
  {
   "cell_type": "code",
   "execution_count": 274,
   "id": "f645f452-eb5c-4e35-843a-dfd4138900e6",
   "metadata": {},
   "outputs": [
    {
     "name": "stdout",
     "output_type": "stream",
     "text": [
      "banana\n"
     ]
    }
   ],
   "source": [
    "thislist = [\"apple\", \"banana\", \"cherry\"]\n",
    "print(thislist[1])"
   ]
  },
  {
   "cell_type": "markdown",
   "id": "c97f2949-f744-4f95-aa74-67566b791c55",
   "metadata": {},
   "source": [
    "Print the last item of the list:"
   ]
  },
  {
   "cell_type": "code",
   "execution_count": 277,
   "id": "382d6f01-a59b-42c6-a810-de3b67cb1142",
   "metadata": {},
   "outputs": [
    {
     "name": "stdout",
     "output_type": "stream",
     "text": [
      "cherry\n"
     ]
    }
   ],
   "source": [
    "thislist = [\"apple\", \"banana\", \"cherry\"]\n",
    "print(thislist[-1])"
   ]
  },
  {
   "cell_type": "markdown",
   "id": "f08604a2-02b7-4696-b187-32a82f57095c",
   "metadata": {},
   "source": [
    "Return the third, fourth, and fifth item:"
   ]
  },
  {
   "cell_type": "code",
   "execution_count": 280,
   "id": "305803d8-23d1-4002-b309-857a0f1609c8",
   "metadata": {},
   "outputs": [
    {
     "name": "stdout",
     "output_type": "stream",
     "text": [
      "['cherry', 'orange', 'kiwi']\n"
     ]
    }
   ],
   "source": [
    "thislist = [\"apple\", \"banana\", \"cherry\", \"orange\", \"kiwi\", \"melon\", \"mango\"]\n",
    "print(thislist[2:5])"
   ]
  },
  {
   "cell_type": "markdown",
   "id": "94661dde-9cbc-4cd8-80fb-c276301e4080",
   "metadata": {},
   "source": [
    "This example returns the items from the beginning to, but NOT including, \"kiwi\":"
   ]
  },
  {
   "cell_type": "code",
   "execution_count": 283,
   "id": "367b796a-3415-4328-ae3f-f6268a349a3b",
   "metadata": {},
   "outputs": [
    {
     "name": "stdout",
     "output_type": "stream",
     "text": [
      "['apple', 'banana', 'cherry', 'orange']\n"
     ]
    }
   ],
   "source": [
    "thislist = [\"apple\", \"banana\", \"cherry\", \"orange\", \"kiwi\", \"melon\", \"mango\"]\n",
    "print(thislist[:4])"
   ]
  },
  {
   "cell_type": "markdown",
   "id": "e00bce2e-7cb7-413a-a3a0-24cba2c9a707",
   "metadata": {},
   "source": [
    "This example returns the items from \"cherry\" to the end:"
   ]
  },
  {
   "cell_type": "code",
   "execution_count": 286,
   "id": "0629b6fb-2230-4617-9436-7a263231266f",
   "metadata": {},
   "outputs": [
    {
     "name": "stdout",
     "output_type": "stream",
     "text": [
      "['cherry', 'orange', 'kiwi', 'melon', 'mango']\n"
     ]
    }
   ],
   "source": [
    "thislist = [\"apple\", \"banana\", \"cherry\", \"orange\", \"kiwi\", \"melon\", \"mango\"]\n",
    "print(thislist[2:])"
   ]
  },
  {
   "cell_type": "markdown",
   "id": "847d0ed1-768e-4bee-ad39-890858050509",
   "metadata": {},
   "source": [
    "This example returns the items from \"orange\" (-4) to, but NOT including \"mango\" (-1):"
   ]
  },
  {
   "cell_type": "code",
   "execution_count": 289,
   "id": "5a19cd7d-ca25-4d6c-9091-6675eb57ac67",
   "metadata": {},
   "outputs": [
    {
     "name": "stdout",
     "output_type": "stream",
     "text": [
      "['orange', 'kiwi', 'melon']\n"
     ]
    }
   ],
   "source": [
    "thislist = [\"apple\", \"banana\", \"cherry\", \"orange\", \"kiwi\", \"melon\", \"mango\"]\n",
    "print(thislist[-4:-1])"
   ]
  },
  {
   "cell_type": "markdown",
   "id": "0bdee58d-fe6b-4e52-8b27-33b325010fa9",
   "metadata": {},
   "source": [
    "Check if \"apple\" is present in the list:"
   ]
  },
  {
   "cell_type": "code",
   "execution_count": 292,
   "id": "a5948bac-9a28-48e9-8aeb-57ff2b9a1591",
   "metadata": {},
   "outputs": [
    {
     "name": "stdout",
     "output_type": "stream",
     "text": [
      "Yes, 'apple' is in the fruits list\n"
     ]
    }
   ],
   "source": [
    "thislist = [\"apple\", \"banana\", \"cherry\"]\n",
    "if \"apple\" in thislist:\n",
    "  print(\"Yes, 'apple' is in the fruits list\")"
   ]
  },
  {
   "cell_type": "code",
   "execution_count": 296,
   "id": "7806c6de-ef7e-4ffe-a4d5-a2ceb0dc45dd",
   "metadata": {},
   "outputs": [
    {
     "name": "stdout",
     "output_type": "stream",
     "text": [
      "[3, 4]\n"
     ]
    }
   ],
   "source": [
    "list = [1, 2, 3, 4]\n",
    "print(list[2:4])"
   ]
  },
  {
   "cell_type": "markdown",
   "id": "5936dcbd-8bb6-4d0e-8f4e-58dbad1d11e4",
   "metadata": {},
   "source": [
    "Change List Items"
   ]
  },
  {
   "cell_type": "markdown",
   "id": "87d6456d-de18-40b3-9855-8acb7b716709",
   "metadata": {},
   "source": [
    "Change the second item:"
   ]
  },
  {
   "cell_type": "code",
   "execution_count": 300,
   "id": "dbbe905d-4897-4a7f-81b6-1c70fafd4190",
   "metadata": {},
   "outputs": [
    {
     "name": "stdout",
     "output_type": "stream",
     "text": [
      "['apple', 'blackcurrant', 'cherry']\n"
     ]
    }
   ],
   "source": [
    "thislist = [\"apple\", \"banana\", \"cherry\"]\n",
    "thislist[1] = \"blackcurrant\"\n",
    "print(thislist)"
   ]
  },
  {
   "cell_type": "markdown",
   "id": "c9df14b0-1c8b-4541-bdf3-5b2b3222ac45",
   "metadata": {},
   "source": [
    "Change the values \"banana\" and \"cherry\" with the values \"blackcurrant\" and \"watermelon\":"
   ]
  },
  {
   "cell_type": "code",
   "execution_count": 303,
   "id": "807f439a-1c6f-4e64-87d2-918304d98fe1",
   "metadata": {},
   "outputs": [
    {
     "name": "stdout",
     "output_type": "stream",
     "text": [
      "['apple', 'blackcurrant', 'watermelon', 'orange', 'kiwi', 'mango']\n"
     ]
    }
   ],
   "source": [
    "thislist = [\"apple\", \"banana\", \"cherry\", \"orange\", \"kiwi\", \"mango\"]\n",
    "thislist[1:3] = [\"blackcurrant\", \"watermelon\"]\n",
    "print(thislist)"
   ]
  },
  {
   "cell_type": "markdown",
   "id": "3ab8b76d-4961-4d44-a6e4-2589a651d55c",
   "metadata": {},
   "source": [
    "Change the second value by replacing it with two new values:"
   ]
  },
  {
   "cell_type": "code",
   "execution_count": 306,
   "id": "63a02813-f612-4dc9-8de9-1c61e130dafa",
   "metadata": {},
   "outputs": [
    {
     "name": "stdout",
     "output_type": "stream",
     "text": [
      "['apple', 'blackcurrant', 'watermelon', 'cherry']\n"
     ]
    }
   ],
   "source": [
    "thislist = [\"apple\", \"banana\", \"cherry\"]\n",
    "thislist[1:2] = [\"blackcurrant\", \"watermelon\"]\n",
    "print(thislist)"
   ]
  },
  {
   "cell_type": "markdown",
   "id": "89485221-b49b-4584-bf39-3f1e34ca8f2a",
   "metadata": {},
   "source": [
    "Change the second and third value by replacing it with one value:"
   ]
  },
  {
   "cell_type": "code",
   "execution_count": 309,
   "id": "fae81df9-f451-4837-bee6-8d43117d10ac",
   "metadata": {},
   "outputs": [
    {
     "name": "stdout",
     "output_type": "stream",
     "text": [
      "['apple', 'watermelon']\n"
     ]
    }
   ],
   "source": [
    "thislist = [\"apple\", \"banana\", \"cherry\"]\n",
    "thislist[1:3] = [\"watermelon\"]\n",
    "print(thislist)"
   ]
  },
  {
   "cell_type": "markdown",
   "id": "972c0d1d-432a-4f41-93db-0ceb3f1a83fd",
   "metadata": {},
   "source": [
    "Insert \"watermelon\" as the third item:"
   ]
  },
  {
   "cell_type": "code",
   "execution_count": 312,
   "id": "e0858cf3-02ab-41db-af9d-697fdbab59da",
   "metadata": {},
   "outputs": [
    {
     "name": "stdout",
     "output_type": "stream",
     "text": [
      "['apple', 'banana', 'watermelon', 'cherry']\n"
     ]
    }
   ],
   "source": [
    "thislist = [\"apple\", \"banana\", \"cherry\"]\n",
    "thislist.insert(2, \"watermelon\")\n",
    "print(thislist)"
   ]
  },
  {
   "cell_type": "markdown",
   "id": "dfaa08b3-dc22-4ed0-9c89-3b6fb24c7bf8",
   "metadata": {},
   "source": [
    "Add List Items:"
   ]
  },
  {
   "cell_type": "markdown",
   "id": "24de925d-731b-4664-b1d8-56e12ae68379",
   "metadata": {},
   "source": [
    "Using the append() method to append an item:"
   ]
  },
  {
   "cell_type": "code",
   "execution_count": 316,
   "id": "93cee7e8-7f27-4765-be76-69e8a13c62a9",
   "metadata": {},
   "outputs": [
    {
     "name": "stdout",
     "output_type": "stream",
     "text": [
      "['apple', 'banana', 'cherry', 'orange']\n"
     ]
    }
   ],
   "source": [
    "thislist = [\"apple\", \"banana\", \"cherry\"]\n",
    "thislist.append(\"orange\")\n",
    "print(thislist)"
   ]
  },
  {
   "cell_type": "markdown",
   "id": "2ba731ff-35fb-4c1a-8673-781eda4e5634",
   "metadata": {},
   "source": [
    "Insert an item as the second position:"
   ]
  },
  {
   "cell_type": "code",
   "execution_count": 319,
   "id": "c31f18d3-b6ca-417b-ae6c-4a011f19adc6",
   "metadata": {},
   "outputs": [
    {
     "name": "stdout",
     "output_type": "stream",
     "text": [
      "['apple', 'orange', 'banana', 'cherry']\n"
     ]
    }
   ],
   "source": [
    "thislist = [\"apple\", \"banana\", \"cherry\"]\n",
    "thislist.insert(1, \"orange\")\n",
    "print(thislist)"
   ]
  },
  {
   "cell_type": "markdown",
   "id": "61de1238-e51f-450c-9063-4c4a874a9f6d",
   "metadata": {},
   "source": [
    "Add the elements of tropical to thislist:"
   ]
  },
  {
   "cell_type": "code",
   "execution_count": 328,
   "id": "59165e11-3213-4a20-8849-bf6cdf01be55",
   "metadata": {},
   "outputs": [
    {
     "name": "stdout",
     "output_type": "stream",
     "text": [
      "['apple', 'banana', 'cherry', 'mango', 'pineapple', 'papaya']\n"
     ]
    }
   ],
   "source": [
    "thislist = [\"apple\", \"banana\", \"cherry\"]\n",
    "tropical = [\"mango\", \"pineapple\", \"papaya\"]\n",
    "thislist.extend(tropical)\n",
    "print(thislist)"
   ]
  },
  {
   "cell_type": "markdown",
   "id": "e521caaf-3d54-4780-9257-c1627de36e68",
   "metadata": {},
   "source": [
    "Add elements of a tuple to a list:"
   ]
  },
  {
   "cell_type": "code",
   "execution_count": 331,
   "id": "639bf3ca-7191-4dba-b270-e9b5e307d28a",
   "metadata": {},
   "outputs": [
    {
     "name": "stdout",
     "output_type": "stream",
     "text": [
      "['apple', 'banana', 'cherry', 'kiwi', 'orange']\n"
     ]
    }
   ],
   "source": [
    "thislist = [\"apple\", \"banana\", \"cherry\"]\n",
    "thistuple = (\"kiwi\", \"orange\")\n",
    "thislist.extend(thistuple)\n",
    "print(thislist)"
   ]
  },
  {
   "cell_type": "markdown",
   "id": "e9485d9e-bbbb-4fb3-869d-5b11bfbe0c01",
   "metadata": {},
   "source": [
    "Remove List Items"
   ]
  },
  {
   "cell_type": "markdown",
   "id": "c9c837d3-8f76-49ef-9555-9a889065ac3d",
   "metadata": {},
   "source": [
    "Remove \"banana\":"
   ]
  },
  {
   "cell_type": "code",
   "execution_count": 335,
   "id": "0e65bbe8-58f2-4a21-aca1-054d65890a45",
   "metadata": {},
   "outputs": [
    {
     "name": "stdout",
     "output_type": "stream",
     "text": [
      "['apple', 'cherry']\n"
     ]
    }
   ],
   "source": [
    "thislist = [\"apple\", \"banana\", \"cherry\"]\n",
    "thislist.remove(\"banana\")\n",
    "print(thislist)"
   ]
  },
  {
   "cell_type": "markdown",
   "id": "51b11ed2-082e-442d-af53-dc4c910d242d",
   "metadata": {},
   "source": [
    "Remove the first occurrence of \"banana\":"
   ]
  },
  {
   "cell_type": "code",
   "execution_count": 338,
   "id": "4f1f9a58-e41d-41b6-9ce3-33a94ea345dc",
   "metadata": {},
   "outputs": [
    {
     "name": "stdout",
     "output_type": "stream",
     "text": [
      "['apple', 'cherry', 'banana', 'kiwi']\n"
     ]
    }
   ],
   "source": [
    "thislist = [\"apple\", \"banana\", \"cherry\", \"banana\", \"kiwi\"]\n",
    "thislist.remove(\"banana\")\n",
    "print(thislist)"
   ]
  },
  {
   "cell_type": "markdown",
   "id": "3aabf506-2d86-4e08-8cdc-eca539ebf3c1",
   "metadata": {},
   "source": [
    "Remove the second item:"
   ]
  },
  {
   "cell_type": "code",
   "execution_count": 341,
   "id": "46ad7b48-3179-40a3-815e-e5b12d40841a",
   "metadata": {},
   "outputs": [
    {
     "name": "stdout",
     "output_type": "stream",
     "text": [
      "['apple', 'cherry']\n"
     ]
    }
   ],
   "source": [
    "thislist = [\"apple\", \"banana\", \"cherry\"]\n",
    "thislist.pop(1)\n",
    "print(thislist)"
   ]
  },
  {
   "cell_type": "markdown",
   "id": "29600672-3d8a-4816-903a-2ded200db688",
   "metadata": {},
   "source": [
    "Remove the last item:"
   ]
  },
  {
   "cell_type": "code",
   "execution_count": 346,
   "id": "2423e86f-a37f-4dbe-8975-20851b375b08",
   "metadata": {},
   "outputs": [
    {
     "name": "stdout",
     "output_type": "stream",
     "text": [
      "['apple', 'banana']\n"
     ]
    }
   ],
   "source": [
    "thislist = [\"apple\", \"banana\", \"cherry\"]\n",
    "thislist.pop()\n",
    "print(thislist)"
   ]
  },
  {
   "cell_type": "markdown",
   "id": "73afc8ae-ebe2-4db1-bf40-2bc4014004da",
   "metadata": {},
   "source": [
    "Remove the first item:"
   ]
  },
  {
   "cell_type": "code",
   "execution_count": 349,
   "id": "19bd452c-21b3-42c4-9687-87342bf7117a",
   "metadata": {},
   "outputs": [
    {
     "name": "stdout",
     "output_type": "stream",
     "text": [
      "['banana', 'cherry']\n"
     ]
    }
   ],
   "source": [
    "thislist = [\"apple\", \"banana\", \"cherry\"]\n",
    "del thislist[0]\n",
    "print(thislist)"
   ]
  },
  {
   "cell_type": "markdown",
   "id": "f0d21fb1-0fe1-4056-817b-1d4549b87056",
   "metadata": {},
   "source": [
    "Delete the entire list:"
   ]
  },
  {
   "cell_type": "code",
   "execution_count": 358,
   "id": "05702ceb-825a-498b-ac02-6351bf8e2041",
   "metadata": {},
   "outputs": [],
   "source": [
    "thislist = [\"apple\", \"banana\", \"cherry\"]\n",
    "del thislist"
   ]
  },
  {
   "cell_type": "markdown",
   "id": "ed9db7c8-b138-48ef-9b20-f78b342841c5",
   "metadata": {},
   "source": [
    "Clear the list content:"
   ]
  },
  {
   "cell_type": "code",
   "execution_count": 361,
   "id": "7365319b-14d6-41e3-aa62-db84e08d712a",
   "metadata": {},
   "outputs": [
    {
     "name": "stdout",
     "output_type": "stream",
     "text": [
      "[]\n"
     ]
    }
   ],
   "source": [
    "thislist = [\"apple\", \"banana\", \"cherry\"]\n",
    "thislist.clear()\n",
    "print(thislist)"
   ]
  },
  {
   "cell_type": "markdown",
   "id": "71024bd0-7e3d-4ab2-b2a6-50862712b20c",
   "metadata": {},
   "source": [
    "Loop Through a List"
   ]
  },
  {
   "cell_type": "markdown",
   "id": "d0bcbb92-d20e-4788-8c8e-bc4e724fe2aa",
   "metadata": {},
   "source": [
    "Print all items in the list, one by one:"
   ]
  },
  {
   "cell_type": "code",
   "execution_count": 366,
   "id": "6f582389-13f1-4c8a-83ad-be1438a38a9c",
   "metadata": {},
   "outputs": [
    {
     "name": "stdout",
     "output_type": "stream",
     "text": [
      "apple\n",
      "banana\n",
      "cherry\n"
     ]
    }
   ],
   "source": [
    "thislist = [\"apple\", \"banana\", \"cherry\"]\n",
    "for x in thislist:\n",
    "  print(x)"
   ]
  },
  {
   "cell_type": "markdown",
   "id": "3fe05714-6c56-4cba-8a2e-39abf632dc95",
   "metadata": {},
   "source": [
    "Print all items by referring to their index number:"
   ]
  },
  {
   "cell_type": "code",
   "execution_count": 369,
   "id": "7e0764d1-1fec-4a4b-a324-97e711ed6eca",
   "metadata": {},
   "outputs": [
    {
     "name": "stdout",
     "output_type": "stream",
     "text": [
      "apple\n",
      "banana\n",
      "cherry\n"
     ]
    }
   ],
   "source": [
    "thislist = [\"apple\", \"banana\", \"cherry\"]\n",
    "for i in range(len(thislist)):\n",
    "  print(thislist[i])"
   ]
  },
  {
   "cell_type": "markdown",
   "id": "27d80393-8e95-443d-abde-ebf0ab2a98fe",
   "metadata": {},
   "source": [
    "Print all items, using a while loop to go through all the index numbers:"
   ]
  },
  {
   "cell_type": "code",
   "execution_count": 373,
   "id": "d3216308-39da-47aa-909f-5b3d4fc3f8df",
   "metadata": {},
   "outputs": [
    {
     "name": "stdout",
     "output_type": "stream",
     "text": [
      "apple\n",
      "banana\n",
      "cherry\n"
     ]
    }
   ],
   "source": [
    "thislist = [\"apple\", \"banana\", \"cherry\"]\n",
    "i = 0\n",
    "while i < len(thislist):\n",
    "  print(thislist[i])\n",
    "  i = i + 1"
   ]
  },
  {
   "cell_type": "markdown",
   "id": "f9e6e95e-3109-496b-b19b-8f1adb9ff48f",
   "metadata": {},
   "source": [
    "A short hand for loop that will print all items in a list:"
   ]
  },
  {
   "cell_type": "code",
   "execution_count": 380,
   "id": "b4373ae3-8af7-4909-a0ba-4a3829dca842",
   "metadata": {},
   "outputs": [
    {
     "name": "stdout",
     "output_type": "stream",
     "text": [
      "apple\n",
      "banana\n",
      "cherry\n"
     ]
    },
    {
     "data": {
      "text/plain": [
       "[None, None, None]"
      ]
     },
     "execution_count": 380,
     "metadata": {},
     "output_type": "execute_result"
    }
   ],
   "source": [
    "thislist = [\"apple\", \"banana\", \"cherry\"]\n",
    "[print(x) for x in thislist]"
   ]
  },
  {
   "cell_type": "markdown",
   "id": "27220e88-a6cc-405b-b7a5-938012481ab3",
   "metadata": {},
   "source": [
    "List Comprehension"
   ]
  },
  {
   "cell_type": "markdown",
   "id": "feecc0e7-cc5d-4841-8130-8db3db410e02",
   "metadata": {},
   "source": [
    "Based on a list of fruits, you want a new list, containing only the fruits with the letter \"a\" in the name:"
   ]
  },
  {
   "cell_type": "code",
   "execution_count": 388,
   "id": "4f2a0682-3a4d-4cb1-b870-e80e5656f233",
   "metadata": {},
   "outputs": [
    {
     "name": "stdout",
     "output_type": "stream",
     "text": [
      "['apple', 'banana', 'mango']\n"
     ]
    }
   ],
   "source": [
    "fruits = [\"apple\", \"banana\", \"cherry\", \"kiwi\", \"mango\"]\n",
    "newlist = []\n",
    "\n",
    "for x in fruits:\n",
    "  if \"a\" in x:\n",
    "    newlist.append(x)\n",
    "\n",
    "print(newlist)"
   ]
  },
  {
   "cell_type": "code",
   "execution_count": 433,
   "id": "7b45c420-aae7-4146-af82-93a35a753741",
   "metadata": {},
   "outputs": [
    {
     "name": "stdout",
     "output_type": "stream",
     "text": [
      "['apple', 'banana', 'mango']\n"
     ]
    }
   ],
   "source": [
    "newlist = [x for x in fruits if \"a\" in x]\n",
    "print(newlist)"
   ]
  },
  {
   "cell_type": "markdown",
   "id": "135c77b9-225b-4a18-b32d-ed81045fe7a3",
   "metadata": {},
   "source": [
    "Only accept items that are not \"apple\":"
   ]
  },
  {
   "cell_type": "code",
   "execution_count": 431,
   "id": "1cbc264e-a028-42ba-a637-159dd017da75",
   "metadata": {},
   "outputs": [
    {
     "name": "stdout",
     "output_type": "stream",
     "text": [
      "['banana', 'cherry', 'kiwi', 'mango']\n"
     ]
    }
   ],
   "source": [
    "newlist = [x for x in fruits if x != \"apple\"]\n",
    "print(newlist)"
   ]
  },
  {
   "cell_type": "markdown",
   "id": "589de636-adc4-410c-bf8a-623ac89d7615",
   "metadata": {},
   "source": [
    "With no if statement:"
   ]
  },
  {
   "cell_type": "code",
   "execution_count": 429,
   "id": "39ff496e-cf2f-40f3-9344-de1968732073",
   "metadata": {},
   "outputs": [
    {
     "name": "stdout",
     "output_type": "stream",
     "text": [
      "['apple', 'banana', 'cherry', 'kiwi', 'mango']\n"
     ]
    }
   ],
   "source": [
    "newlist = [x for x in fruits]\n",
    "print(newlist)"
   ]
  },
  {
   "cell_type": "markdown",
   "id": "0762443d-3dcb-4e12-9997-defe2ff8daa2",
   "metadata": {},
   "source": [
    "You can use the range() function to create an iterable:"
   ]
  },
  {
   "cell_type": "code",
   "execution_count": 415,
   "id": "4927b3c2-041d-43b1-97f5-7935e30207d1",
   "metadata": {},
   "outputs": [
    {
     "name": "stdout",
     "output_type": "stream",
     "text": [
      "[0, 1, 2, 3, 4, 5, 6, 7, 8, 9]\n"
     ]
    }
   ],
   "source": [
    "newlist = [x for x in range(10)]\n",
    "print(newlist)"
   ]
  },
  {
   "cell_type": "markdown",
   "id": "2e1c8376-b76f-4764-b5ae-71c98510b2b9",
   "metadata": {},
   "source": [
    "Accept only numbers lower than 5:"
   ]
  },
  {
   "cell_type": "code",
   "execution_count": 420,
   "id": "d7430293-91d3-4b5c-8e9f-dbf8eb8580a2",
   "metadata": {},
   "outputs": [
    {
     "name": "stdout",
     "output_type": "stream",
     "text": [
      "[0, 1, 2, 3, 4]\n"
     ]
    }
   ],
   "source": [
    "newlist = [x for x in range(10) if x < 5]\n",
    "print(newlist)"
   ]
  },
  {
   "cell_type": "markdown",
   "id": "ed2d96e7-6e67-43f0-ace3-899a5297a699",
   "metadata": {},
   "source": [
    "Set the values in the new list to upper case:"
   ]
  },
  {
   "cell_type": "code",
   "execution_count": 427,
   "id": "3d8ed958-3353-45c7-abaf-c4d1751f2876",
   "metadata": {},
   "outputs": [
    {
     "name": "stdout",
     "output_type": "stream",
     "text": [
      "['APPLE', 'BANANA', 'CHERRY', 'KIWI', 'MANGO']\n"
     ]
    }
   ],
   "source": [
    "newlist = [x.upper() for x in fruits]\n",
    "print(newlist)"
   ]
  },
  {
   "cell_type": "markdown",
   "id": "9514fec0-8348-4cef-8548-73c6d1b4158b",
   "metadata": {},
   "source": [
    "Set all values in the new list to 'hello':"
   ]
  },
  {
   "cell_type": "code",
   "execution_count": 436,
   "id": "2577d761-3daf-43c1-98a0-0fb7feacc7e8",
   "metadata": {},
   "outputs": [
    {
     "name": "stdout",
     "output_type": "stream",
     "text": [
      "['hello', 'hello', 'hello', 'hello', 'hello']\n"
     ]
    }
   ],
   "source": [
    "newlist = ['hello' for x in fruits]\n",
    "print(newlist)"
   ]
  },
  {
   "cell_type": "markdown",
   "id": "f2398493-5210-413e-90e2-c137a963df68",
   "metadata": {},
   "source": [
    "Return \"orange\" instead of \"banana\":"
   ]
  },
  {
   "cell_type": "code",
   "execution_count": 449,
   "id": "b595a2df-097d-4209-8550-0bae04a99bb3",
   "metadata": {},
   "outputs": [
    {
     "name": "stdout",
     "output_type": "stream",
     "text": [
      "['apple', 'orange', 'cherry', 'kiwi', 'mango']\n"
     ]
    }
   ],
   "source": [
    "newlist = [x if x != \"banana\" else \"orange\" for x in fruits]\n",
    "print(newlist)"
   ]
  },
  {
   "cell_type": "markdown",
   "id": "825f812d-5623-492e-b396-1a340a97636d",
   "metadata": {},
   "source": [
    "Sort Lists"
   ]
  },
  {
   "cell_type": "markdown",
   "id": "da75a2ed-ff77-4a58-ae06-78d461c9413f",
   "metadata": {},
   "source": [
    "Sort the list alphabetically:"
   ]
  },
  {
   "cell_type": "code",
   "execution_count": 455,
   "id": "3f9abfb2-9321-4cd7-91fa-5c40b477d753",
   "metadata": {},
   "outputs": [
    {
     "name": "stdout",
     "output_type": "stream",
     "text": [
      "['banana', 'kiwi', 'mango', 'orange', 'pineapple']\n"
     ]
    }
   ],
   "source": [
    "thislist = [\"orange\", \"mango\", \"kiwi\", \"pineapple\", \"banana\"]\n",
    "thislist.sort()\n",
    "print(thislist)"
   ]
  },
  {
   "cell_type": "markdown",
   "id": "55a6f817-f691-4f09-93c8-3a376e99aad9",
   "metadata": {},
   "source": [
    "Sort the list numerically:"
   ]
  },
  {
   "cell_type": "code",
   "execution_count": 458,
   "id": "aadcb0c0-6dde-4ef9-87dd-1c2de4add9e9",
   "metadata": {},
   "outputs": [
    {
     "name": "stdout",
     "output_type": "stream",
     "text": [
      "[23, 50, 65, 82, 100]\n"
     ]
    }
   ],
   "source": [
    "thislist = [100, 50, 65, 82, 23]\n",
    "thislist.sort()\n",
    "print(thislist)"
   ]
  },
  {
   "cell_type": "markdown",
   "id": "52acc1ce-f53c-4522-9481-59f0518035ba",
   "metadata": {},
   "source": [
    "Sort the list descending:"
   ]
  },
  {
   "cell_type": "code",
   "execution_count": 461,
   "id": "03e3d3d3-5de4-4e01-97b2-03d16415fe34",
   "metadata": {},
   "outputs": [
    {
     "name": "stdout",
     "output_type": "stream",
     "text": [
      "['pineapple', 'orange', 'mango', 'kiwi', 'banana']\n"
     ]
    }
   ],
   "source": [
    "thislist = [\"orange\", \"mango\", \"kiwi\", \"pineapple\", \"banana\"]\n",
    "thislist.sort(reverse = True)\n",
    "print(thislist)"
   ]
  },
  {
   "cell_type": "markdown",
   "id": "4e9976b6-5df1-4649-b208-36c456cf319f",
   "metadata": {},
   "source": [
    "Sort the list descending:"
   ]
  },
  {
   "cell_type": "code",
   "execution_count": 464,
   "id": "9be9af28-1a4e-47ec-bed7-463481f01d52",
   "metadata": {},
   "outputs": [
    {
     "name": "stdout",
     "output_type": "stream",
     "text": [
      "[100, 82, 65, 50, 23]\n"
     ]
    }
   ],
   "source": [
    "thislist = [100, 50, 65, 82, 23]\n",
    "thislist.sort(reverse = True)\n",
    "print(thislist)"
   ]
  },
  {
   "cell_type": "markdown",
   "id": "2c4ac75b-ac2f-43c9-9c2b-6ea1011d69f7",
   "metadata": {},
   "source": [
    "Sort the list based on how close the number is to 50:"
   ]
  },
  {
   "cell_type": "code",
   "execution_count": 467,
   "id": "3ff2fca8-dc70-4372-a144-09cbcc62fb91",
   "metadata": {},
   "outputs": [
    {
     "name": "stdout",
     "output_type": "stream",
     "text": [
      "[50, 65, 23, 82, 100]\n"
     ]
    }
   ],
   "source": [
    "def myfunc(n):\n",
    "  return abs(n - 50)\n",
    "\n",
    "thislist = [100, 50, 65, 82, 23]\n",
    "thislist.sort(key = myfunc)\n",
    "print(thislist)"
   ]
  },
  {
   "cell_type": "markdown",
   "id": "cde2d326-7d82-4221-b8b5-2aae18e2c916",
   "metadata": {},
   "source": [
    "Case sensitive sorting can give an unexpected result:"
   ]
  },
  {
   "cell_type": "code",
   "execution_count": 484,
   "id": "17e7834c-20e3-4a24-a6e0-38699c0ae3e7",
   "metadata": {},
   "outputs": [
    {
     "name": "stdout",
     "output_type": "stream",
     "text": [
      "['banana', 'cherry', 'Kiwi', 'Orange']\n"
     ]
    }
   ],
   "source": [
    "thislist = [\"banana\", \"Orange\", \"Kiwi\", \"cherry\"]\n",
    "thislist.sort(key = str.lower)\n",
    "print(thislist)"
   ]
  },
  {
   "cell_type": "markdown",
   "id": "f35e3b2a-3f35-4deb-937e-c72a518752de",
   "metadata": {},
   "source": [
    "Reverse the order of the list items:"
   ]
  },
  {
   "cell_type": "code",
   "execution_count": 487,
   "id": "5b7e83e2-099b-4c4c-9936-b3247336508b",
   "metadata": {},
   "outputs": [
    {
     "name": "stdout",
     "output_type": "stream",
     "text": [
      "['cherry', 'Kiwi', 'Orange', 'banana']\n"
     ]
    }
   ],
   "source": [
    "thislist = [\"banana\", \"Orange\", \"Kiwi\", \"cherry\"]\n",
    "thislist.reverse()\n",
    "print(thislist)"
   ]
  },
  {
   "cell_type": "markdown",
   "id": "1d1960ad-6df3-4778-8c65-a3d0de1b2f95",
   "metadata": {},
   "source": [
    "Copy Lists"
   ]
  },
  {
   "cell_type": "markdown",
   "id": "dd4f5b64-c59d-48b9-a050-973eb76da906",
   "metadata": {},
   "source": [
    "Make a copy of a list with the copy() method:"
   ]
  },
  {
   "cell_type": "code",
   "execution_count": 495,
   "id": "69567222-4373-45fd-9141-16a7dd9974b3",
   "metadata": {},
   "outputs": [
    {
     "name": "stdout",
     "output_type": "stream",
     "text": [
      "['apple', 'banana', 'cherry']\n"
     ]
    }
   ],
   "source": [
    "thislist = [\"apple\", \"banana\", \"cherry\"]\n",
    "mylist = thislist.copy()\n",
    "print(mylist)"
   ]
  },
  {
   "cell_type": "markdown",
   "id": "e747f1f8-8369-4420-b63d-e59e8fd2b5db",
   "metadata": {},
   "source": [
    "Make a copy of a list with the list() method:"
   ]
  },
  {
   "cell_type": "code",
   "execution_count": 13,
   "id": "292a4b3c-d710-412a-9556-26b5dff57bed",
   "metadata": {},
   "outputs": [
    {
     "name": "stdout",
     "output_type": "stream",
     "text": [
      "['apple', 'banana', 'cherry']\n"
     ]
    }
   ],
   "source": [
    "thislist = [\"apple\", \"banana\", \"cherry\"]\n",
    "mylist = list(thislist)\n",
    "print(mylist)"
   ]
  },
  {
   "cell_type": "markdown",
   "id": "5d7e43b7-4510-4253-8e5c-df010ed7ba81",
   "metadata": {},
   "source": [
    "Make a copy of a list with the : operator:"
   ]
  },
  {
   "cell_type": "code",
   "execution_count": 16,
   "id": "cc1eb4b1-a04c-46b9-8618-ca38593edf63",
   "metadata": {},
   "outputs": [
    {
     "name": "stdout",
     "output_type": "stream",
     "text": [
      "['apple', 'banana', 'cherry']\n"
     ]
    }
   ],
   "source": [
    "thislist = [\"apple\", \"banana\", \"cherry\"]\n",
    "mylist = thislist[:]\n",
    "print(mylist)"
   ]
  },
  {
   "cell_type": "markdown",
   "id": "b375fb5f-925a-47c5-bd22-a5f0bb82f7f6",
   "metadata": {},
   "source": [
    "Join Lists"
   ]
  },
  {
   "cell_type": "markdown",
   "id": "7f30dd74-728f-4a0a-9aae-98d5742cc13e",
   "metadata": {},
   "source": [
    "Join two list:"
   ]
  },
  {
   "cell_type": "code",
   "execution_count": 20,
   "id": "a0a77648-3a97-4df8-be09-bb3497a420f6",
   "metadata": {},
   "outputs": [
    {
     "name": "stdout",
     "output_type": "stream",
     "text": [
      "['a', 'b', 'c', 1, 2, 3]\n"
     ]
    }
   ],
   "source": [
    "list1 = [\"a\", \"b\", \"c\"]\n",
    "list2 = [1, 2, 3]\n",
    "\n",
    "list3 = list1 + list2\n",
    "print(list3)"
   ]
  },
  {
   "cell_type": "markdown",
   "id": "c0141099-9440-498b-bdb2-fbb31ff5278a",
   "metadata": {},
   "source": [
    "Append list2 into list1:"
   ]
  },
  {
   "cell_type": "code",
   "execution_count": 23,
   "id": "9e19e5a6-ed24-49ca-970c-c2c571f5fc5c",
   "metadata": {},
   "outputs": [
    {
     "name": "stdout",
     "output_type": "stream",
     "text": [
      "['a', 'b', 'c', 1, 2, 3]\n"
     ]
    }
   ],
   "source": [
    "list1 = [\"a\", \"b\" , \"c\"]\n",
    "list2 = [1, 2, 3]\n",
    "\n",
    "for x in list2:\n",
    "  list1.append(x)\n",
    "\n",
    "print(list1)"
   ]
  },
  {
   "cell_type": "markdown",
   "id": "1e88aa68-2386-4248-badd-65297c36c546",
   "metadata": {},
   "source": [
    "Use the extend() method to add list2 at the end of list1:"
   ]
  },
  {
   "cell_type": "code",
   "execution_count": 26,
   "id": "535bfcc8-a778-4674-9a95-c5b64edaae6b",
   "metadata": {},
   "outputs": [
    {
     "name": "stdout",
     "output_type": "stream",
     "text": [
      "['a', 'b', 'c', 1, 2, 3]\n"
     ]
    }
   ],
   "source": [
    "list1 = [\"a\", \"b\" , \"c\"]\n",
    "list2 = [1, 2, 3]\n",
    "\n",
    "list1.extend(list2)\n",
    "print(list1)"
   ]
  },
  {
   "cell_type": "markdown",
   "id": "be6c647f-4306-4a98-b28e-0e40de6dd256",
   "metadata": {},
   "source": [
    "List Methods"
   ]
  },
  {
   "cell_type": "markdown",
   "id": "80b5ebc1-104f-4dec-bdb0-284da198f5cd",
   "metadata": {},
   "source": [
    "append() Method:"
   ]
  },
  {
   "cell_type": "code",
   "execution_count": 32,
   "id": "4428c097-5590-4663-8149-96f5efbbe540",
   "metadata": {},
   "outputs": [
    {
     "name": "stdout",
     "output_type": "stream",
     "text": [
      "[1, 2, 3, 4]\n"
     ]
    }
   ],
   "source": [
    "list1 = [1, 2, 3]\n",
    "list1.append(4)\n",
    "print(list1)"
   ]
  },
  {
   "cell_type": "markdown",
   "id": "17303ca7-c612-415e-86a3-7a3bc3a03e79",
   "metadata": {},
   "source": [
    "clear() Method:"
   ]
  },
  {
   "cell_type": "code",
   "execution_count": 92,
   "id": "76f4558e-6e17-4190-b3b3-7b0be5f6fa83",
   "metadata": {},
   "outputs": [
    {
     "name": "stdout",
     "output_type": "stream",
     "text": [
      "[]\n"
     ]
    }
   ],
   "source": [
    "list1 = [1, 2, 3]\n",
    "list1.clear()\n",
    "print(list1)"
   ]
  },
  {
   "cell_type": "markdown",
   "id": "76f825ab-7a25-4b05-9618-1f2938b830fa",
   "metadata": {},
   "source": [
    "copy() Method:"
   ]
  },
  {
   "cell_type": "code",
   "execution_count": 84,
   "id": "c882a368-c3a5-4cf7-9be2-a1f438c87067",
   "metadata": {},
   "outputs": [
    {
     "name": "stdout",
     "output_type": "stream",
     "text": [
      "[1, 2, 3]\n"
     ]
    }
   ],
   "source": [
    "list1 = [1, 2, 3]\n",
    "list2 = list1.copy()\n",
    "print(list2)"
   ]
  },
  {
   "cell_type": "markdown",
   "id": "d006f3c4-1a17-47a8-88ae-f4316834646b",
   "metadata": {},
   "source": [
    "extend() Method:"
   ]
  },
  {
   "cell_type": "code",
   "execution_count": 50,
   "id": "6f984283-e27f-4356-9aba-628be3ec6cd8",
   "metadata": {},
   "outputs": [
    {
     "name": "stdout",
     "output_type": "stream",
     "text": [
      "[1, 2, 3]\n"
     ]
    }
   ],
   "source": [
    "list1 = [1, 2, 3]\n",
    "list2 = []\n",
    "list2.extend(list1)\n",
    "print(list2)"
   ]
  },
  {
   "cell_type": "markdown",
   "id": "5ccfe2a7-d67b-4e3d-a49c-fc431899f120",
   "metadata": {},
   "source": [
    "index() Method:"
   ]
  },
  {
   "cell_type": "code",
   "execution_count": 55,
   "id": "69c27754-fde0-4b76-875d-03a68a7d6c37",
   "metadata": {},
   "outputs": [
    {
     "name": "stdout",
     "output_type": "stream",
     "text": [
      "1\n"
     ]
    }
   ],
   "source": [
    "list1 = [1, 2, 3]\n",
    "print(list1.index(2)) #index of value 2 is 1"
   ]
  },
  {
   "cell_type": "markdown",
   "id": "1882cd30-ba32-41d7-946d-c765e53e9a00",
   "metadata": {},
   "source": [
    "insert Method():"
   ]
  },
  {
   "cell_type": "code",
   "execution_count": 62,
   "id": "f63e0602-c15b-4263-ab13-19c0004009d5",
   "metadata": {},
   "outputs": [
    {
     "name": "stdout",
     "output_type": "stream",
     "text": [
      "[1, 4, 2, 3]\n"
     ]
    }
   ],
   "source": [
    "list1 = [1, 2, 3]\n",
    "list1.insert(1, 4)\n",
    "print(list1)"
   ]
  },
  {
   "cell_type": "markdown",
   "id": "2e1a0d64-cab2-4102-ad6b-b83647b1c172",
   "metadata": {},
   "source": [
    "pop() Method:"
   ]
  },
  {
   "cell_type": "code",
   "execution_count": 77,
   "id": "5895bc49-57bf-4878-bff3-ef3cd883d5f7",
   "metadata": {},
   "outputs": [
    {
     "name": "stdout",
     "output_type": "stream",
     "text": [
      "[2, 3]\n"
     ]
    }
   ],
   "source": [
    "list1 = [1, 2, 3]\n",
    "list1.pop(0) #removes the last value as a default\n",
    "print(list1)"
   ]
  },
  {
   "cell_type": "markdown",
   "id": "ec8f948c-ebb5-4e6f-ab09-918f4676813c",
   "metadata": {},
   "source": [
    "reverse() Method:"
   ]
  },
  {
   "cell_type": "code",
   "execution_count": 94,
   "id": "ca506fb2-4a9c-46ae-bbae-412c86214110",
   "metadata": {},
   "outputs": [
    {
     "name": "stdout",
     "output_type": "stream",
     "text": [
      "[3, 2, 1]\n"
     ]
    }
   ],
   "source": [
    "list1 = [1, 2, 3]\n",
    "list1.reverse()\n",
    "print(list1)"
   ]
  },
  {
   "cell_type": "markdown",
   "id": "e0752ff1-5b9c-42bc-ac83-bc5eeeb30620",
   "metadata": {},
   "source": [
    "sort() Method:"
   ]
  },
  {
   "cell_type": "code",
   "execution_count": 103,
   "id": "af2bd3de-c8ab-4526-ac6c-50a43684976b",
   "metadata": {},
   "outputs": [
    {
     "name": "stdout",
     "output_type": "stream",
     "text": [
      "[3, 2, 1]\n"
     ]
    }
   ],
   "source": [
    "list1 = [3, 1, 2]\n",
    "list1.sort(reverse = True) #sorting in ASC order as a default\n",
    "print(list1)"
   ]
  },
  {
   "cell_type": "markdown",
   "id": "73696c70-5222-4bd1-b94e-f80a086d97e9",
   "metadata": {},
   "source": [
    "Python Tuples"
   ]
  },
  {
   "cell_type": "markdown",
   "id": "7f60e415-ccab-4827-b295-b247137a7942",
   "metadata": {},
   "source": [
    "A tuple is a collection which is ordered and unchangeable."
   ]
  },
  {
   "cell_type": "code",
   "execution_count": 106,
   "id": "050adc25-99ce-4a8d-a298-c2c66975c124",
   "metadata": {},
   "outputs": [
    {
     "name": "stdout",
     "output_type": "stream",
     "text": [
      "('apple', 'banana', 'cherry')\n"
     ]
    }
   ],
   "source": [
    "thistuple = (\"apple\", \"banana\", \"cherry\")\n",
    "print(thistuple)"
   ]
  },
  {
   "cell_type": "markdown",
   "id": "2fad3c44-9a12-46eb-9df6-dd409fc9c496",
   "metadata": {},
   "source": [
    "Tuples allow duplicate values:"
   ]
  },
  {
   "cell_type": "code",
   "execution_count": 110,
   "id": "382d6941-9019-462a-a4b1-b2533f82d27a",
   "metadata": {},
   "outputs": [
    {
     "name": "stdout",
     "output_type": "stream",
     "text": [
      "('apple', 'banana', 'cherry', 'apple', 'cherry')\n"
     ]
    }
   ],
   "source": [
    "thistuple = (\"apple\", \"banana\", \"cherry\", \"apple\", \"cherry\")\n",
    "print(thistuple)"
   ]
  },
  {
   "cell_type": "markdown",
   "id": "e6e26f84-ef42-43d3-9c85-15dc9976d534",
   "metadata": {},
   "source": [
    "Print the number of items in the tuple:"
   ]
  },
  {
   "cell_type": "code",
   "execution_count": 114,
   "id": "6088a515-8231-4fb7-9a9a-61974a1301a0",
   "metadata": {},
   "outputs": [
    {
     "name": "stdout",
     "output_type": "stream",
     "text": [
      "3\n"
     ]
    }
   ],
   "source": [
    "thistuple = (\"apple\", \"banana\", \"cherry\")\n",
    "print(len(thistuple))"
   ]
  },
  {
   "cell_type": "markdown",
   "id": "da9612fa-43f8-4fd1-af8b-38e3771a35c2",
   "metadata": {},
   "source": [
    "One item tuple, remember the comma:"
   ]
  },
  {
   "cell_type": "code",
   "execution_count": 117,
   "id": "a5c31fe7-010e-426b-9ddc-4348fb1803e9",
   "metadata": {},
   "outputs": [
    {
     "name": "stdout",
     "output_type": "stream",
     "text": [
      "<class 'tuple'>\n",
      "<class 'str'>\n"
     ]
    }
   ],
   "source": [
    "thistuple = (\"apple\",)\n",
    "print(type(thistuple))\n",
    "\n",
    "#NOT a tuple\n",
    "thistuple = (\"apple\")\n",
    "print(type(thistuple))"
   ]
  },
  {
   "cell_type": "markdown",
   "id": "d72f3b54-c353-4484-899f-14f5e40eaa77",
   "metadata": {},
   "source": [
    "Tuple Items - Data Types"
   ]
  },
  {
   "cell_type": "markdown",
   "id": "d86a89da-24aa-4553-99a1-aae029ea1e5c",
   "metadata": {},
   "source": [
    "String, int and boolean data types:"
   ]
  },
  {
   "cell_type": "code",
   "execution_count": 125,
   "id": "9322b383-98e9-4fcb-bd99-34565c7c6638",
   "metadata": {},
   "outputs": [
    {
     "name": "stdout",
     "output_type": "stream",
     "text": [
      "('apple', 'banana', 'cherry')\n",
      "(1, 5, 7, 9, 3)\n",
      "(True, False, False)\n"
     ]
    }
   ],
   "source": [
    "tuple1 = (\"apple\", \"banana\", \"cherry\")\n",
    "tuple2 = (1, 5, 7, 9, 3)\n",
    "tuple3 = (True, False, False)\n",
    "print(tuple1)\n",
    "print(tuple2)\n",
    "print(tuple3)"
   ]
  },
  {
   "cell_type": "markdown",
   "id": "5025fba2-c782-49b3-9c5a-f503512e8e29",
   "metadata": {},
   "source": [
    "A tuple with strings, integers and boolean values:"
   ]
  },
  {
   "cell_type": "code",
   "execution_count": 130,
   "id": "092968d3-e048-4a4c-8217-64c7829892b2",
   "metadata": {},
   "outputs": [
    {
     "name": "stdout",
     "output_type": "stream",
     "text": [
      "('abc', 34, True, 40, 'male')\n"
     ]
    }
   ],
   "source": [
    "tuple1 = (\"abc\", 34, True, 40, \"male\")\n",
    "print(tuple1)"
   ]
  },
  {
   "cell_type": "markdown",
   "id": "f213eeaf-c104-45d7-9750-b09276921ea3",
   "metadata": {},
   "source": [
    "What is the data type of a tuple?"
   ]
  },
  {
   "cell_type": "code",
   "execution_count": 135,
   "id": "5e740e8d-b1f3-4f4b-a25e-ce7ad2958c76",
   "metadata": {},
   "outputs": [
    {
     "name": "stdout",
     "output_type": "stream",
     "text": [
      "<class 'tuple'>\n"
     ]
    }
   ],
   "source": [
    "mytuple = (\"apple\", \"banana\", \"cherry\")\n",
    "print(type(mytuple))"
   ]
  },
  {
   "cell_type": "markdown",
   "id": "bff73f30-d3cd-4287-adb6-c787960f7a24",
   "metadata": {},
   "source": [
    "Using the tuple() method to make a tuple:"
   ]
  },
  {
   "cell_type": "code",
   "execution_count": 138,
   "id": "574a428f-e2aa-42b4-a4da-0e992eb0005d",
   "metadata": {},
   "outputs": [
    {
     "name": "stdout",
     "output_type": "stream",
     "text": [
      "('apple', 'banana', 'cherry')\n"
     ]
    }
   ],
   "source": [
    "thistuple = tuple((\"apple\", \"banana\", \"cherry\")) # note the double round-brackets\n",
    "print(thistuple)"
   ]
  },
  {
   "cell_type": "markdown",
   "id": "54c25601-c090-42dc-8865-b2ef60d58cfb",
   "metadata": {},
   "source": [
    "Access Tuple Items"
   ]
  },
  {
   "cell_type": "markdown",
   "id": "841a3012-3104-4509-8d7d-4f6ac9d6cd7b",
   "metadata": {},
   "source": [
    "Print the second item in the tuple:"
   ]
  },
  {
   "cell_type": "code",
   "execution_count": 142,
   "id": "197e231d-00e1-46d9-b3fb-78d7184a93f6",
   "metadata": {},
   "outputs": [
    {
     "name": "stdout",
     "output_type": "stream",
     "text": [
      "banana\n"
     ]
    }
   ],
   "source": [
    "thistuple = (\"apple\", \"banana\", \"cherry\")\n",
    "print(thistuple[1])"
   ]
  },
  {
   "cell_type": "markdown",
   "id": "d330f933-6602-4256-b463-d6d4fe7dec7b",
   "metadata": {},
   "source": [
    "Print the last item of the tuple:"
   ]
  },
  {
   "cell_type": "code",
   "execution_count": 145,
   "id": "28a82b62-e686-4f5c-bad0-1e1d1a9aff5d",
   "metadata": {},
   "outputs": [
    {
     "name": "stdout",
     "output_type": "stream",
     "text": [
      "cherry\n"
     ]
    }
   ],
   "source": [
    "thistuple = (\"apple\", \"banana\", \"cherry\")\n",
    "print(thistuple[-1])"
   ]
  },
  {
   "cell_type": "markdown",
   "id": "ddb93d9b-c82d-482a-bc3d-5679f79d4a64",
   "metadata": {},
   "source": [
    "Return the third, fourth, and fifth item:"
   ]
  },
  {
   "cell_type": "code",
   "execution_count": 150,
   "id": "2d98ec65-e6e8-4cd4-8f3b-cd93b42f9a46",
   "metadata": {},
   "outputs": [
    {
     "name": "stdout",
     "output_type": "stream",
     "text": [
      "('cherry', 'orange', 'kiwi')\n"
     ]
    }
   ],
   "source": [
    "thistuple = (\"apple\", \"banana\", \"cherry\", \"orange\", \"kiwi\", \"melon\", \"mango\")\n",
    "print(thistuple[2:5])"
   ]
  },
  {
   "cell_type": "markdown",
   "id": "ca07dccd-6bb2-43ba-acea-bde0559d9240",
   "metadata": {},
   "source": [
    "This example returns the items from the beginning to, but NOT included, \"kiwi\":"
   ]
  },
  {
   "cell_type": "code",
   "execution_count": 153,
   "id": "fa76d701-d65a-4295-8752-35215383b2ee",
   "metadata": {},
   "outputs": [
    {
     "name": "stdout",
     "output_type": "stream",
     "text": [
      "('apple', 'banana', 'cherry', 'orange')\n"
     ]
    }
   ],
   "source": [
    "thistuple = (\"apple\", \"banana\", \"cherry\", \"orange\", \"kiwi\", \"melon\", \"mango\")\n",
    "print(thistuple[:4])"
   ]
  },
  {
   "cell_type": "markdown",
   "id": "6699fac4-4785-48a8-a4a9-b3d0e0b2c4da",
   "metadata": {},
   "source": [
    "This example returns the items from \"cherry\" and to the end:"
   ]
  },
  {
   "cell_type": "code",
   "execution_count": 156,
   "id": "5b0eeba6-e965-48fa-99fe-3a294a1d1899",
   "metadata": {},
   "outputs": [
    {
     "name": "stdout",
     "output_type": "stream",
     "text": [
      "('cherry', 'orange', 'kiwi', 'melon', 'mango')\n"
     ]
    }
   ],
   "source": [
    "thistuple = (\"apple\", \"banana\", \"cherry\", \"orange\", \"kiwi\", \"melon\", \"mango\")\n",
    "print(thistuple[2:])"
   ]
  },
  {
   "cell_type": "markdown",
   "id": "bbef4c7f-5317-4015-a9c7-7f0e4ad2ce6b",
   "metadata": {},
   "source": [
    "This example returns the items from index -4 (included) to index -1 (excluded):"
   ]
  },
  {
   "cell_type": "code",
   "execution_count": 162,
   "id": "da8276a9-7b7a-4954-a6b9-a0c0bbc2994c",
   "metadata": {},
   "outputs": [
    {
     "name": "stdout",
     "output_type": "stream",
     "text": [
      "('orange', 'kiwi', 'melon')\n"
     ]
    }
   ],
   "source": [
    "thistuple = (\"apple\", \"banana\", \"cherry\", \"orange\", \"kiwi\", \"melon\", \"mango\")\n",
    "print(thistuple[-4:-1])"
   ]
  },
  {
   "cell_type": "markdown",
   "id": "3f1c0339-5a86-4c1f-8755-591ddcdd3c7c",
   "metadata": {},
   "source": [
    "Check if \"apple\" is present in the tuple:"
   ]
  },
  {
   "cell_type": "code",
   "execution_count": 165,
   "id": "64566153-2326-4f8a-8c62-45a7cba5d83b",
   "metadata": {},
   "outputs": [
    {
     "name": "stdout",
     "output_type": "stream",
     "text": [
      "Yes, 'apple' is in the fruits tuple\n"
     ]
    }
   ],
   "source": [
    "thistuple = (\"apple\", \"banana\", \"cherry\")\n",
    "if \"apple\" in thistuple:\n",
    "  print(\"Yes, 'apple' is in the fruits tuple\")"
   ]
  },
  {
   "cell_type": "markdown",
   "id": "b0e34c73-82dd-4926-b6d0-e85abc281698",
   "metadata": {},
   "source": [
    "Update Tuples"
   ]
  },
  {
   "cell_type": "markdown",
   "id": "c7d226e7-6830-4851-ab7d-c25dbc5582f8",
   "metadata": {},
   "source": [
    "Convert the tuple into a list to be able to change it:"
   ]
  },
  {
   "cell_type": "code",
   "execution_count": 171,
   "id": "8cf461e2-c6db-412c-b3f5-02c358b4288a",
   "metadata": {},
   "outputs": [
    {
     "name": "stdout",
     "output_type": "stream",
     "text": [
      "('apple', 'kiwi', 'cherry')\n"
     ]
    }
   ],
   "source": [
    "x = (\"apple\", \"banana\", \"cherry\")\n",
    "y = list(x)\n",
    "y[1] = \"kiwi\"\n",
    "x = tuple(y)\n",
    "\n",
    "print(x)"
   ]
  },
  {
   "cell_type": "markdown",
   "id": "810bd526-426f-4747-abf9-ac3d2dde8c0d",
   "metadata": {},
   "source": [
    "Convert the tuple into a list, add \"orange\", and convert it back into a tuple:"
   ]
  },
  {
   "cell_type": "code",
   "execution_count": 179,
   "id": "a5a69a4b-6064-4763-8065-a75eb09d9486",
   "metadata": {},
   "outputs": [
    {
     "name": "stdout",
     "output_type": "stream",
     "text": [
      "('apple', 'banana', 'cherry', 'orange')\n"
     ]
    }
   ],
   "source": [
    "thistuple = (\"apple\", \"banana\", \"cherry\")\n",
    "y = list(thistuple)\n",
    "y.append(\"orange\")\n",
    "thistuple = tuple(y)\n",
    "print(thistuple)"
   ]
  },
  {
   "cell_type": "markdown",
   "id": "0a17873f-1199-428f-a53f-84d3e9d6ec42",
   "metadata": {},
   "source": [
    "Create a new tuple with the value \"orange\", and add that tuple:"
   ]
  },
  {
   "cell_type": "code",
   "execution_count": 182,
   "id": "b784ea2d-187f-4c08-9796-f18e5ee6b6ab",
   "metadata": {},
   "outputs": [
    {
     "name": "stdout",
     "output_type": "stream",
     "text": [
      "('apple', 'banana', 'cherry', 'orange')\n"
     ]
    }
   ],
   "source": [
    "thistuple = (\"apple\", \"banana\", \"cherry\")\n",
    "y = (\"orange\",)\n",
    "thistuple += y\n",
    "\n",
    "print(thistuple)"
   ]
  },
  {
   "cell_type": "markdown",
   "id": "f61eb9cd-b32c-4dd9-a6b2-1bc62a74cf83",
   "metadata": {},
   "source": [
    "Convert the tuple into a list, remove \"apple\", and convert it back into a tuple:"
   ]
  },
  {
   "cell_type": "code",
   "execution_count": 185,
   "id": "af0fbe67-b815-4a64-9717-6dcac9331633",
   "metadata": {},
   "outputs": [
    {
     "name": "stdout",
     "output_type": "stream",
     "text": [
      "('banana', 'cherry')\n"
     ]
    }
   ],
   "source": [
    "thistuple = (\"apple\", \"banana\", \"cherry\")\n",
    "y = list(thistuple)\n",
    "y.remove(\"apple\")\n",
    "thistuple = tuple(y)\n",
    "print(thistuple)"
   ]
  },
  {
   "cell_type": "markdown",
   "id": "8b3f17c2-3579-493d-8633-d3e72e15f931",
   "metadata": {},
   "source": [
    "The del keyword can delete the tuple completely:"
   ]
  },
  {
   "cell_type": "code",
   "execution_count": 188,
   "id": "a048511a-f2df-4113-9409-0791a96d0590",
   "metadata": {},
   "outputs": [
    {
     "ename": "NameError",
     "evalue": "name 'thistuple' is not defined",
     "output_type": "error",
     "traceback": [
      "\u001b[1;31m---------------------------------------------------------------------------\u001b[0m",
      "\u001b[1;31mNameError\u001b[0m                                 Traceback (most recent call last)",
      "Cell \u001b[1;32mIn[188], line 3\u001b[0m\n\u001b[0;32m      1\u001b[0m thistuple \u001b[38;5;241m=\u001b[39m (\u001b[38;5;124m\"\u001b[39m\u001b[38;5;124mapple\u001b[39m\u001b[38;5;124m\"\u001b[39m, \u001b[38;5;124m\"\u001b[39m\u001b[38;5;124mbanana\u001b[39m\u001b[38;5;124m\"\u001b[39m, \u001b[38;5;124m\"\u001b[39m\u001b[38;5;124mcherry\u001b[39m\u001b[38;5;124m\"\u001b[39m)\n\u001b[0;32m      2\u001b[0m \u001b[38;5;28;01mdel\u001b[39;00m thistuple\n\u001b[1;32m----> 3\u001b[0m \u001b[38;5;28mprint\u001b[39m(thistuple)\n",
      "\u001b[1;31mNameError\u001b[0m: name 'thistuple' is not defined"
     ]
    }
   ],
   "source": [
    "thistuple = (\"apple\", \"banana\", \"cherry\")\n",
    "del thistuple\n",
    "print(thistuple) #this will raise an error because the tuple no longer exists"
   ]
  },
  {
   "cell_type": "markdown",
   "id": "bf63ff79-e2fa-4031-bd43-e490889d4b75",
   "metadata": {},
   "source": [
    "Unpack Tuples"
   ]
  },
  {
   "cell_type": "markdown",
   "id": "62df383e-270d-46f3-a830-e6556688a41e",
   "metadata": {},
   "source": [
    "Packing a tuple:"
   ]
  },
  {
   "cell_type": "code",
   "execution_count": 194,
   "id": "2ff2f514-7a5b-4fea-b819-fdc075dd932f",
   "metadata": {},
   "outputs": [
    {
     "name": "stdout",
     "output_type": "stream",
     "text": [
      "('apple', 'banana', 'cherry')\n"
     ]
    }
   ],
   "source": [
    "fruits = (\"apple\", \"banana\", \"cherry\")\n",
    "print(fruits)"
   ]
  },
  {
   "cell_type": "markdown",
   "id": "33c8f90f-994d-4204-a896-221c86ab4be9",
   "metadata": {},
   "source": [
    "Unpacking a tuple:"
   ]
  },
  {
   "cell_type": "code",
   "execution_count": 197,
   "id": "333e6cd3-6511-44f0-bca5-4d31194e803e",
   "metadata": {},
   "outputs": [
    {
     "name": "stdout",
     "output_type": "stream",
     "text": [
      "apple\n",
      "banana\n",
      "cherry\n"
     ]
    }
   ],
   "source": [
    "fruits = (\"apple\", \"banana\", \"cherry\")\n",
    "\n",
    "(green, yellow, red) = fruits\n",
    "\n",
    "print(green)\n",
    "print(yellow)\n",
    "print(red)"
   ]
  },
  {
   "cell_type": "markdown",
   "id": "538aa41e-51a6-40cb-bd48-656b6479dad8",
   "metadata": {},
   "source": [
    "Assign the rest of the values as a list called \"red\":"
   ]
  },
  {
   "cell_type": "code",
   "execution_count": 200,
   "id": "6e358348-29e1-43a6-8106-d9fd9e82a7d7",
   "metadata": {},
   "outputs": [
    {
     "name": "stdout",
     "output_type": "stream",
     "text": [
      "apple\n",
      "banana\n",
      "['cherry', 'strawberry', 'raspberry']\n"
     ]
    }
   ],
   "source": [
    "fruits = (\"apple\", \"banana\", \"cherry\", \"strawberry\", \"raspberry\")\n",
    "\n",
    "(green, yellow, *red) = fruits\n",
    "\n",
    "print(green)\n",
    "print(yellow)\n",
    "print(red)"
   ]
  },
  {
   "cell_type": "markdown",
   "id": "9f42e9b2-cbf4-4f32-b989-007b18e011a1",
   "metadata": {},
   "source": [
    "Add a list of values the \"tropic\" variable:"
   ]
  },
  {
   "cell_type": "code",
   "execution_count": 203,
   "id": "3ac10397-363f-43af-b7bd-5107616ecd79",
   "metadata": {},
   "outputs": [
    {
     "name": "stdout",
     "output_type": "stream",
     "text": [
      "apple\n",
      "['mango', 'papaya', 'pineapple']\n",
      "cherry\n"
     ]
    }
   ],
   "source": [
    "fruits = (\"apple\", \"mango\", \"papaya\", \"pineapple\", \"cherry\")\n",
    "\n",
    "(green, *tropic, red) = fruits\n",
    "\n",
    "print(green)\n",
    "print(tropic)\n",
    "print(red)"
   ]
  },
  {
   "cell_type": "markdown",
   "id": "64642bfb-ed3a-411c-9da6-23cf7934d7f2",
   "metadata": {},
   "source": [
    "Loop Tuples"
   ]
  },
  {
   "cell_type": "markdown",
   "id": "b0bce5f1-381e-4c43-aa37-002d21174060",
   "metadata": {},
   "source": [
    "Iterate through the items and print the values:"
   ]
  },
  {
   "cell_type": "code",
   "execution_count": 207,
   "id": "923e2463-9c69-4a64-af1a-7a27a95aeb40",
   "metadata": {},
   "outputs": [
    {
     "name": "stdout",
     "output_type": "stream",
     "text": [
      "apple\n",
      "banana\n",
      "cherry\n"
     ]
    }
   ],
   "source": [
    "thistuple = (\"apple\", \"banana\", \"cherry\")\n",
    "for x in thistuple:\n",
    "  print(x)"
   ]
  },
  {
   "cell_type": "markdown",
   "id": "37227416-d4cb-4dbb-9e29-fddfb5f0abe9",
   "metadata": {},
   "source": [
    "Print all items by referring to their index number:"
   ]
  },
  {
   "cell_type": "code",
   "execution_count": 210,
   "id": "b7def1d1-f43a-4aac-87c6-9c1c0d6ccad6",
   "metadata": {},
   "outputs": [
    {
     "name": "stdout",
     "output_type": "stream",
     "text": [
      "apple\n",
      "banana\n",
      "cherry\n"
     ]
    }
   ],
   "source": [
    "thistuple = (\"apple\", \"banana\", \"cherry\")\n",
    "for i in range(len(thistuple)):\n",
    "  print(thistuple[i])"
   ]
  },
  {
   "cell_type": "markdown",
   "id": "127e8722-ded8-4656-9f6d-3a97dd96b928",
   "metadata": {},
   "source": [
    "Print all items, using a while loop to go through all the index numbers:"
   ]
  },
  {
   "cell_type": "code",
   "execution_count": 213,
   "id": "75aa51a7-55b3-448c-9a24-def957a43441",
   "metadata": {},
   "outputs": [
    {
     "name": "stdout",
     "output_type": "stream",
     "text": [
      "apple\n",
      "banana\n",
      "cherry\n"
     ]
    }
   ],
   "source": [
    "thistuple = (\"apple\", \"banana\", \"cherry\")\n",
    "i = 0\n",
    "while i < len(thistuple):\n",
    "  print(thistuple[i])\n",
    "  i = i + 1"
   ]
  },
  {
   "cell_type": "markdown",
   "id": "da2f85e8-d816-4e95-8d5f-07e8c650eda1",
   "metadata": {},
   "source": [
    "Join Tuples"
   ]
  },
  {
   "cell_type": "markdown",
   "id": "5554c979-3291-4985-835e-028ffa57936e",
   "metadata": {},
   "source": [
    "Join two tuples:"
   ]
  },
  {
   "cell_type": "code",
   "execution_count": 217,
   "id": "3c549a15-2cf7-43b9-8380-640baede23e7",
   "metadata": {},
   "outputs": [
    {
     "name": "stdout",
     "output_type": "stream",
     "text": [
      "('a', 'b', 'c', 1, 2, 3)\n"
     ]
    }
   ],
   "source": [
    "tuple1 = (\"a\", \"b\" , \"c\")\n",
    "tuple2 = (1, 2, 3)\n",
    "\n",
    "tuple3 = tuple1 + tuple2\n",
    "print(tuple3)"
   ]
  },
  {
   "cell_type": "markdown",
   "id": "26eb3502-af81-4fae-a344-35c5669ef8a3",
   "metadata": {},
   "source": [
    "Multiply the fruits tuple by 2:"
   ]
  },
  {
   "cell_type": "code",
   "execution_count": 220,
   "id": "bf54bc6d-3c81-4151-83e7-bc048d0b6b98",
   "metadata": {},
   "outputs": [
    {
     "name": "stdout",
     "output_type": "stream",
     "text": [
      "('apple', 'banana', 'cherry', 'apple', 'banana', 'cherry')\n"
     ]
    }
   ],
   "source": [
    "fruits = (\"apple\", \"banana\", \"cherry\")\n",
    "mytuple = fruits * 2\n",
    "\n",
    "print(mytuple)"
   ]
  },
  {
   "cell_type": "markdown",
   "id": "992ada3f-cc5e-4037-bb82-ee43e559a7f6",
   "metadata": {},
   "source": [
    "Tuple Methods"
   ]
  },
  {
   "cell_type": "markdown",
   "id": "f0779b71-788f-439e-bc4c-7881d5f184ac",
   "metadata": {},
   "source": [
    "count() Method:"
   ]
  },
  {
   "cell_type": "code",
   "execution_count": 236,
   "id": "fc703922-79f5-469c-86f1-3c4cfa84aed3",
   "metadata": {},
   "outputs": [
    {
     "name": "stdout",
     "output_type": "stream",
     "text": [
      "1\n"
     ]
    }
   ],
   "source": [
    "fruits = (\"apple\", \"banana\", \"cherry\")\n",
    "print(fruits.count(\"apple\"))"
   ]
  },
  {
   "cell_type": "markdown",
   "id": "97c5703f-88d3-4605-bed0-59146a95bcc1",
   "metadata": {},
   "source": [
    "index() Method:"
   ]
  },
  {
   "cell_type": "code",
   "execution_count": 247,
   "id": "6448e26a-b669-49d0-88d0-791f637a3e5c",
   "metadata": {},
   "outputs": [
    {
     "name": "stdout",
     "output_type": "stream",
     "text": [
      "0\n"
     ]
    }
   ],
   "source": [
    "fruits = (\"apple\", \"banana\", \"cherry\")\n",
    "print(fruits.index(\"apple\"))"
   ]
  },
  {
   "cell_type": "markdown",
   "id": "62213b0a-ce6a-4e4f-a7ae-e6092ee66557",
   "metadata": {},
   "source": [
    "Python Sets"
   ]
  },
  {
   "cell_type": "code",
   "execution_count": 250,
   "id": "f5c32ac9-be01-4b23-b47e-7e4bdb9d8b2e",
   "metadata": {},
   "outputs": [
    {
     "name": "stdout",
     "output_type": "stream",
     "text": [
      "{'cherry', 'apple', 'banana'}\n"
     ]
    }
   ],
   "source": [
    "thisset = {\"apple\", \"banana\", \"cherry\"}\n",
    "print(thisset)"
   ]
  },
  {
   "cell_type": "markdown",
   "id": "792715d2-35db-45c4-a9f9-f97878088646",
   "metadata": {},
   "source": [
    "Duplicate values will be ignored:"
   ]
  },
  {
   "cell_type": "code",
   "execution_count": 253,
   "id": "e9a1b44c-a872-48ef-b4e5-875f84dbe52a",
   "metadata": {},
   "outputs": [
    {
     "name": "stdout",
     "output_type": "stream",
     "text": [
      "{'cherry', 'apple', 'banana'}\n"
     ]
    }
   ],
   "source": [
    "thisset = {\"apple\", \"banana\", \"cherry\", \"apple\"}\n",
    "print(thisset)"
   ]
  },
  {
   "cell_type": "markdown",
   "id": "167794d5-b0c6-4707-b7a1-05a159fd7392",
   "metadata": {},
   "source": [
    "True and 1 is considered the same value, same with False and 0:"
   ]
  },
  {
   "cell_type": "code",
   "execution_count": 261,
   "id": "dc5d9443-8587-445b-9f3b-71da2739ca92",
   "metadata": {},
   "outputs": [
    {
     "name": "stdout",
     "output_type": "stream",
     "text": [
      "{False, True, 2, 'cherry', 'apple', 'banana'}\n"
     ]
    }
   ],
   "source": [
    "thisset = {\"apple\", \"banana\", \"cherry\", True, 1, 2, False, 0}\n",
    "print(thisset)"
   ]
  },
  {
   "cell_type": "markdown",
   "id": "dc130581-47a1-400f-8e7d-eb989d25f133",
   "metadata": {},
   "source": [
    "Get the number of items in a set:"
   ]
  },
  {
   "cell_type": "code",
   "execution_count": 264,
   "id": "6e3adb8a-5b7e-4d5f-8784-31c602597c16",
   "metadata": {},
   "outputs": [
    {
     "name": "stdout",
     "output_type": "stream",
     "text": [
      "3\n"
     ]
    }
   ],
   "source": [
    "thisset = {\"apple\", \"banana\", \"cherry\"}\n",
    "print(len(thisset))"
   ]
  },
  {
   "cell_type": "markdown",
   "id": "46c9cd92-9a4b-444f-b1f7-bfe60fbc7b91",
   "metadata": {},
   "source": [
    "String, int and boolean data types:"
   ]
  },
  {
   "cell_type": "code",
   "execution_count": 267,
   "id": "abb43bbd-95cc-4be4-9036-a95ff9a0f424",
   "metadata": {},
   "outputs": [
    {
     "name": "stdout",
     "output_type": "stream",
     "text": [
      "{'cherry', 'apple', 'banana'}\n",
      "{1, 3, 5, 7, 9}\n",
      "{False, True}\n"
     ]
    }
   ],
   "source": [
    "set1 = {\"apple\", \"banana\", \"cherry\"}\n",
    "set2 = {1, 5, 7, 9, 3}\n",
    "set3 = {True, False, False}\n",
    "print(set1)\n",
    "print(set2)\n",
    "print(set3)"
   ]
  },
  {
   "cell_type": "markdown",
   "id": "35a05496-8a58-4465-b1bd-c857cdbe0ac7",
   "metadata": {},
   "source": [
    "A set with strings, integers and boolean values:"
   ]
  },
  {
   "cell_type": "code",
   "execution_count": 270,
   "id": "31d31859-6807-4223-b569-55168b640218",
   "metadata": {},
   "outputs": [
    {
     "name": "stdout",
     "output_type": "stream",
     "text": [
      "{True, 34, 'abc', 40, 'male'}\n"
     ]
    }
   ],
   "source": [
    "set1 = {\"abc\", 34, True, 40, \"male\"}\n",
    "print(set1)"
   ]
  },
  {
   "cell_type": "markdown",
   "id": "d578f7ff-91ee-4b4e-a214-89c32cee428d",
   "metadata": {},
   "source": [
    "What is the data type of a set?"
   ]
  },
  {
   "cell_type": "code",
   "execution_count": 275,
   "id": "f9b87e56-a22e-4b85-9864-fad57f0e5be8",
   "metadata": {},
   "outputs": [
    {
     "name": "stdout",
     "output_type": "stream",
     "text": [
      "<class 'set'>\n"
     ]
    }
   ],
   "source": [
    "myset = {\"apple\", \"banana\", \"cherry\"}\n",
    "print(type(myset))"
   ]
  },
  {
   "cell_type": "markdown",
   "id": "78ffa2da-6892-4631-9fed-69c53841bef8",
   "metadata": {},
   "source": [
    "Using the set() constructor to make a set:"
   ]
  },
  {
   "cell_type": "code",
   "execution_count": 278,
   "id": "8430c672-8e43-4be6-aa3d-3b42e37ec5da",
   "metadata": {},
   "outputs": [
    {
     "name": "stdout",
     "output_type": "stream",
     "text": [
      "{'cherry', 'apple', 'banana'}\n"
     ]
    }
   ],
   "source": [
    "thisset = set((\"apple\", \"banana\", \"cherry\")) # note the double round-brackets\n",
    "print(thisset)"
   ]
  },
  {
   "cell_type": "markdown",
   "id": "62bdfe55-3bd1-40a7-a10a-2476a9c18aac",
   "metadata": {},
   "source": [
    "Access Set Items"
   ]
  },
  {
   "cell_type": "markdown",
   "id": "6ae01976-5525-4ac6-819c-19213c8b384d",
   "metadata": {},
   "source": [
    "Loop through the set, and print the values:"
   ]
  },
  {
   "cell_type": "code",
   "execution_count": 282,
   "id": "99e08cb5-d88b-4fee-b7bf-d350d39e8e4d",
   "metadata": {},
   "outputs": [
    {
     "name": "stdout",
     "output_type": "stream",
     "text": [
      "cherry\n",
      "apple\n",
      "banana\n"
     ]
    }
   ],
   "source": [
    "thisset = {\"apple\", \"banana\", \"cherry\"}\n",
    "for x in thisset:\n",
    "  print(x)"
   ]
  },
  {
   "cell_type": "markdown",
   "id": "0d4b1b1e-ac2e-48ad-9acb-b1d67ff25daa",
   "metadata": {},
   "source": [
    "Check if \"banana\" is present in the set:"
   ]
  },
  {
   "cell_type": "code",
   "execution_count": 285,
   "id": "3f83485e-311e-4f3a-b401-81d8b389a356",
   "metadata": {},
   "outputs": [
    {
     "name": "stdout",
     "output_type": "stream",
     "text": [
      "True\n"
     ]
    }
   ],
   "source": [
    "thisset = {\"apple\", \"banana\", \"cherry\"}\n",
    "print(\"banana\" in thisset)"
   ]
  },
  {
   "cell_type": "markdown",
   "id": "8659b5a9-202e-4688-84b8-4462a9d290e0",
   "metadata": {},
   "source": [
    "Check if \"banana\" is NOT present in the set:"
   ]
  },
  {
   "cell_type": "code",
   "execution_count": 288,
   "id": "9a319536-a1d8-4a40-a971-0df39bf2dde3",
   "metadata": {},
   "outputs": [
    {
     "name": "stdout",
     "output_type": "stream",
     "text": [
      "False\n"
     ]
    }
   ],
   "source": [
    "thisset = {\"apple\", \"banana\", \"cherry\"}\n",
    "print(\"banana\" not in thisset)"
   ]
  },
  {
   "cell_type": "markdown",
   "id": "87bd5052-fee6-45bf-bdf8-c65cdd6c8520",
   "metadata": {},
   "source": [
    "Add Set Items"
   ]
  },
  {
   "cell_type": "markdown",
   "id": "c310e5f5-aea2-4826-8b6d-f1f6a9786ab7",
   "metadata": {},
   "source": [
    "Add an item to a set, using the add() method:"
   ]
  },
  {
   "cell_type": "code",
   "execution_count": 292,
   "id": "ba7804a2-afdf-4d8a-9650-34b68f7451dc",
   "metadata": {},
   "outputs": [
    {
     "name": "stdout",
     "output_type": "stream",
     "text": [
      "{'orange', 'cherry', 'apple', 'banana'}\n"
     ]
    }
   ],
   "source": [
    "thisset = {\"apple\", \"banana\", \"cherry\"}\n",
    "thisset.add(\"orange\")\n",
    "print(thisset)"
   ]
  },
  {
   "cell_type": "markdown",
   "id": "9a081ccd-e637-47ad-bedd-a3fa8c010810",
   "metadata": {},
   "source": [
    "Add elements from tropical into thisset:"
   ]
  },
  {
   "cell_type": "code",
   "execution_count": 295,
   "id": "ad0bdb6e-0d4c-458e-b8ca-83913e0bbef0",
   "metadata": {},
   "outputs": [
    {
     "name": "stdout",
     "output_type": "stream",
     "text": [
      "{'cherry', 'pineapple', 'apple', 'banana', 'mango', 'papaya'}\n"
     ]
    }
   ],
   "source": [
    "thisset = {\"apple\", \"banana\", \"cherry\"}\n",
    "tropical = {\"pineapple\", \"mango\", \"papaya\"}\n",
    "thisset.update(tropical)\n",
    "print(thisset)"
   ]
  },
  {
   "cell_type": "markdown",
   "id": "59ed1e13-c286-449b-a88e-f37d32d65e54",
   "metadata": {},
   "source": [
    "Add elements of a list to at set:"
   ]
  },
  {
   "cell_type": "code",
   "execution_count": 298,
   "id": "fd67858f-6049-42e4-a214-7813a20011b9",
   "metadata": {},
   "outputs": [
    {
     "name": "stdout",
     "output_type": "stream",
     "text": [
      "{'kiwi', 'cherry', 'banana', 'apple', 'orange'}\n"
     ]
    }
   ],
   "source": [
    "thisset = {\"apple\", \"banana\", \"cherry\"}\n",
    "mylist = [\"kiwi\", \"orange\"]\n",
    "thisset.update(mylist)\n",
    "print(thisset)"
   ]
  },
  {
   "cell_type": "markdown",
   "id": "2b85285e-8281-4e0b-8c7d-6d685ab8ce9c",
   "metadata": {},
   "source": [
    "Remove Set Items"
   ]
  },
  {
   "cell_type": "markdown",
   "id": "d2c6b08e-141b-45fe-a0ad-aaa32cd315d4",
   "metadata": {},
   "source": [
    "Remove \"banana\" by using the remove() method:"
   ]
  },
  {
   "cell_type": "code",
   "execution_count": 302,
   "id": "6c54f109-35bb-413a-95a1-4882663fc62d",
   "metadata": {},
   "outputs": [
    {
     "name": "stdout",
     "output_type": "stream",
     "text": [
      "{'cherry', 'apple'}\n"
     ]
    }
   ],
   "source": [
    "thisset = {\"apple\", \"banana\", \"cherry\"}\n",
    "thisset.remove(\"banana\")\n",
    "print(thisset)"
   ]
  },
  {
   "cell_type": "markdown",
   "id": "5147a0cf-a1c1-47cb-ad76-0bc32f282b61",
   "metadata": {},
   "source": [
    "Remove \"banana\" by using the discard() method:"
   ]
  },
  {
   "cell_type": "code",
   "execution_count": 305,
   "id": "828aca48-6832-4c8a-867c-f76d4cc8d1d1",
   "metadata": {},
   "outputs": [
    {
     "name": "stdout",
     "output_type": "stream",
     "text": [
      "{'cherry', 'apple'}\n"
     ]
    }
   ],
   "source": [
    "thisset = {\"apple\", \"banana\", \"cherry\"}\n",
    "thisset.discard(\"banana\")\n",
    "print(thisset)"
   ]
  },
  {
   "cell_type": "markdown",
   "id": "a9002e17-0388-4c8e-a8c3-75891641491f",
   "metadata": {},
   "source": [
    "Note: If the item to remove does not exist, discard() will NOT raise an error."
   ]
  },
  {
   "cell_type": "markdown",
   "id": "872094f8-caa3-4d8e-93f6-d8c328e8de4e",
   "metadata": {},
   "source": [
    "Remove a random item by using the pop() method:"
   ]
  },
  {
   "cell_type": "code",
   "execution_count": 309,
   "id": "aa8e1285-ec8c-47c1-819f-c807582d132a",
   "metadata": {},
   "outputs": [
    {
     "name": "stdout",
     "output_type": "stream",
     "text": [
      "cherry\n",
      "{'apple', 'banana'}\n"
     ]
    }
   ],
   "source": [
    "thisset = {\"apple\", \"banana\", \"cherry\"}\n",
    "x = thisset.pop()\n",
    "print(x)\n",
    "print(thisset)"
   ]
  },
  {
   "cell_type": "markdown",
   "id": "81e3ca46-0968-427b-8c51-b0e5c8bea21d",
   "metadata": {},
   "source": [
    "Note: Sets are unordered, so when using the pop() method, you do not know which item that gets removed."
   ]
  },
  {
   "cell_type": "markdown",
   "id": "8d0f71a0-8aa6-4ce6-bd6b-cb4267631684",
   "metadata": {},
   "source": [
    "The clear() method empties the set:"
   ]
  },
  {
   "cell_type": "code",
   "execution_count": 315,
   "id": "07bd1f9e-b6d5-424c-85cd-6dfee2a959d9",
   "metadata": {},
   "outputs": [
    {
     "name": "stdout",
     "output_type": "stream",
     "text": [
      "set()\n"
     ]
    }
   ],
   "source": [
    "thisset = {\"apple\", \"banana\", \"cherry\"}\n",
    "thisset.clear()\n",
    "print(thisset)"
   ]
  },
  {
   "cell_type": "markdown",
   "id": "ce921f90-0220-4e3d-beb1-623d7bec9d87",
   "metadata": {},
   "source": [
    "The del keyword will delete the set completely:"
   ]
  },
  {
   "cell_type": "code",
   "execution_count": 333,
   "id": "117ae0dd-97e2-4d0a-b650-9eeaaf212df2",
   "metadata": {},
   "outputs": [
    {
     "ename": "NameError",
     "evalue": "name 'thisset' is not defined",
     "output_type": "error",
     "traceback": [
      "\u001b[1;31m---------------------------------------------------------------------------\u001b[0m",
      "\u001b[1;31mNameError\u001b[0m                                 Traceback (most recent call last)",
      "Cell \u001b[1;32mIn[333], line 3\u001b[0m\n\u001b[0;32m      1\u001b[0m thisset \u001b[38;5;241m=\u001b[39m {\u001b[38;5;124m\"\u001b[39m\u001b[38;5;124mapple\u001b[39m\u001b[38;5;124m\"\u001b[39m, \u001b[38;5;124m\"\u001b[39m\u001b[38;5;124mbanana\u001b[39m\u001b[38;5;124m\"\u001b[39m, \u001b[38;5;124m\"\u001b[39m\u001b[38;5;124mcherry\u001b[39m\u001b[38;5;124m\"\u001b[39m}\n\u001b[0;32m      2\u001b[0m \u001b[38;5;28;01mdel\u001b[39;00m thisset\n\u001b[1;32m----> 3\u001b[0m \u001b[38;5;28mprint\u001b[39m(thisset)\n",
      "\u001b[1;31mNameError\u001b[0m: name 'thisset' is not defined"
     ]
    }
   ],
   "source": [
    "thisset = {\"apple\", \"banana\", \"cherry\"}\n",
    "del thisset\n",
    "print(thisset)"
   ]
  },
  {
   "cell_type": "markdown",
   "id": "b050f377-1a7b-4960-8575-ad48120cc480",
   "metadata": {},
   "source": [
    "Loop Sets"
   ]
  },
  {
   "cell_type": "markdown",
   "id": "494b51b9-40bc-46e3-b569-6aa16952aa35",
   "metadata": {},
   "source": [
    "Loop through the set, and print the values:"
   ]
  },
  {
   "cell_type": "code",
   "execution_count": 336,
   "id": "466230d9-b88f-4f0c-8a9d-e54666114739",
   "metadata": {},
   "outputs": [
    {
     "name": "stdout",
     "output_type": "stream",
     "text": [
      "cherry\n",
      "apple\n",
      "banana\n"
     ]
    }
   ],
   "source": [
    "thisset = {\"apple\", \"banana\", \"cherry\"}\n",
    "for x in thisset:\n",
    "  print(x)"
   ]
  },
  {
   "cell_type": "markdown",
   "id": "1655544a-485e-49fb-aa33-bff5a5c5ed43",
   "metadata": {},
   "source": [
    "Join Sets"
   ]
  },
  {
   "cell_type": "markdown",
   "id": "b5fd389e-3cbc-4ba1-a202-b28990408910",
   "metadata": {},
   "source": [
    "Join set1 and set2 into a new set using union() Method:"
   ]
  },
  {
   "cell_type": "code",
   "execution_count": 342,
   "id": "27e97160-ee9b-45f9-9fcd-770dcf579ed2",
   "metadata": {},
   "outputs": [
    {
     "name": "stdout",
     "output_type": "stream",
     "text": [
      "{'c', 1, 2, 'a', 3, 'b'}\n"
     ]
    }
   ],
   "source": [
    "set1 = {\"a\", \"b\", \"c\"}\n",
    "set2 = {1, 2, 3}\n",
    "set3 = set1.union(set2)\n",
    "print(set3)"
   ]
  },
  {
   "cell_type": "markdown",
   "id": "494faa7a-9ad7-4e74-8e4a-a677eabb763a",
   "metadata": {},
   "source": [
    "Use | to join two sets:"
   ]
  },
  {
   "cell_type": "code",
   "execution_count": 345,
   "id": "ad25a999-1e60-4c14-9504-4678a8611314",
   "metadata": {},
   "outputs": [
    {
     "name": "stdout",
     "output_type": "stream",
     "text": [
      "{'c', 1, 2, 'a', 3, 'b'}\n"
     ]
    }
   ],
   "source": [
    "set1 = {\"a\", \"b\", \"c\"}\n",
    "set2 = {1, 2, 3}\n",
    "set3 = set1 | set2\n",
    "print(set3)"
   ]
  },
  {
   "cell_type": "markdown",
   "id": "f42861e7-5504-4f2d-b9c0-d1a13e562923",
   "metadata": {},
   "source": [
    "Join multiple sets with the union() method:"
   ]
  },
  {
   "cell_type": "code",
   "execution_count": 348,
   "id": "ee95bf38-0351-4bc0-be2f-5f225ed88608",
   "metadata": {},
   "outputs": [
    {
     "name": "stdout",
     "output_type": "stream",
     "text": [
      "{1, 2, 3, 'a', 'cherry', 'bananas', 'b', 'c', 'Elena', 'apple', 'John'}\n"
     ]
    }
   ],
   "source": [
    "set1 = {\"a\", \"b\", \"c\"}\n",
    "set2 = {1, 2, 3}\n",
    "set3 = {\"John\", \"Elena\"}\n",
    "set4 = {\"apple\", \"bananas\", \"cherry\"}\n",
    "\n",
    "myset = set1.union(set2, set3, set4)\n",
    "print(myset)"
   ]
  },
  {
   "cell_type": "markdown",
   "id": "8e35b98c-80c7-41de-a41b-1b4f09e73c41",
   "metadata": {},
   "source": [
    "Use | to join more sets:"
   ]
  },
  {
   "cell_type": "code",
   "execution_count": 351,
   "id": "688029e9-11e0-4114-bb4b-b2149b71964a",
   "metadata": {},
   "outputs": [
    {
     "name": "stdout",
     "output_type": "stream",
     "text": [
      "{1, 2, 3, 'a', 'cherry', 'bananas', 'b', 'c', 'Elena', 'apple', 'John'}\n"
     ]
    }
   ],
   "source": [
    "set1 = {\"a\", \"b\", \"c\"}\n",
    "set2 = {1, 2, 3}\n",
    "set3 = {\"John\", \"Elena\"}\n",
    "set4 = {\"apple\", \"bananas\", \"cherry\"}\n",
    "\n",
    "myset = set1 | set2 | set3 |set4\n",
    "print(myset)"
   ]
  },
  {
   "cell_type": "markdown",
   "id": "21ca959d-19b3-4b0f-af30-e9da964bef1d",
   "metadata": {},
   "source": [
    "Join a set with a tuple:"
   ]
  },
  {
   "cell_type": "code",
   "execution_count": 356,
   "id": "1b0a1624-8ce6-48b3-848e-f926832064c3",
   "metadata": {},
   "outputs": [
    {
     "name": "stdout",
     "output_type": "stream",
     "text": [
      "{1, 2, 3, 'a', 'b', 'c'}\n"
     ]
    }
   ],
   "source": [
    "x = {\"a\", \"b\", \"c\"}\n",
    "y = (1, 2, 3)\n",
    "z = x.union(y)\n",
    "print(z)"
   ]
  },
  {
   "cell_type": "markdown",
   "id": "690d126a-b51f-4f24-ae2c-38776b5a149b",
   "metadata": {},
   "source": [
    "The update() method inserts the items in set2 into set1:"
   ]
  },
  {
   "cell_type": "code",
   "execution_count": 359,
   "id": "5229d158-a874-4010-8ea5-c31a1fa3f122",
   "metadata": {},
   "outputs": [
    {
     "name": "stdout",
     "output_type": "stream",
     "text": [
      "{'c', 1, 2, 'a', 3, 'b'}\n"
     ]
    }
   ],
   "source": [
    "set1 = {\"a\", \"b\" , \"c\"}\n",
    "set2 = {1, 2, 3}\n",
    "set1.update(set2)\n",
    "print(set1)"
   ]
  },
  {
   "cell_type": "markdown",
   "id": "6e6bcc85-41f0-43d3-85be-8a15ec607852",
   "metadata": {},
   "source": [
    "Note: Both union() and update() will exclude any duplicate items."
   ]
  },
  {
   "cell_type": "markdown",
   "id": "85cddb92-cd1e-4aba-8195-8137bbb50156",
   "metadata": {},
   "source": [
    "Join set1 and set2, but keep only the duplicates:"
   ]
  },
  {
   "cell_type": "code",
   "execution_count": 368,
   "id": "bee0d8ea-083f-4d12-8c6d-9e4e8b8187f6",
   "metadata": {},
   "outputs": [
    {
     "name": "stdout",
     "output_type": "stream",
     "text": [
      "{'apple'}\n"
     ]
    }
   ],
   "source": [
    "set1 = {\"apple\", \"banana\", \"cherry\"}\n",
    "set2 = {\"google\", \"microsoft\", \"apple\"}\n",
    "set3 = set1.intersection(set2) #for other types of data too\n",
    "print(set3)"
   ]
  },
  {
   "cell_type": "markdown",
   "id": "28d8ebe9-4f40-4a61-bcbc-30e5e959ca17",
   "metadata": {},
   "source": [
    "Use & to join two sets:"
   ]
  },
  {
   "cell_type": "code",
   "execution_count": 366,
   "id": "7d4c4a4b-c7d6-4ab5-a845-bbc89e9f11f2",
   "metadata": {},
   "outputs": [
    {
     "name": "stdout",
     "output_type": "stream",
     "text": [
      "{'apple'}\n"
     ]
    }
   ],
   "source": [
    "set1 = {\"apple\", \"banana\", \"cherry\"}\n",
    "set2 = {\"google\", \"microsoft\", \"apple\"}\n",
    "set3 = set1 & set2 #only for set to set\n",
    "print(set3)"
   ]
  },
  {
   "cell_type": "markdown",
   "id": "642693f4-e9fa-418c-9f6f-cece16b37dd2",
   "metadata": {},
   "source": [
    "Keep the items that exist in both set1, and set2:"
   ]
  },
  {
   "cell_type": "code",
   "execution_count": 371,
   "id": "5cadb910-4f55-4a91-afb3-f3dc07a5efe9",
   "metadata": {},
   "outputs": [
    {
     "name": "stdout",
     "output_type": "stream",
     "text": [
      "{'apple'}\n"
     ]
    }
   ],
   "source": [
    "set1 = {\"apple\", \"banana\", \"cherry\"}\n",
    "set2 = {\"google\", \"microsoft\", \"apple\"}\n",
    "set1.intersection_update(set2)\n",
    "print(set1)"
   ]
  },
  {
   "cell_type": "markdown",
   "id": "d8772c98-ee5b-44fc-a81e-e59c433639ae",
   "metadata": {},
   "source": [
    "Join sets that contains the values True, False, 1, and 0, and see what is considered as duplicates:"
   ]
  },
  {
   "cell_type": "code",
   "execution_count": 374,
   "id": "ef0ec795-5b69-4202-8b12-9cc9abfac094",
   "metadata": {},
   "outputs": [
    {
     "name": "stdout",
     "output_type": "stream",
     "text": [
      "{False, 1, 'apple'}\n"
     ]
    }
   ],
   "source": [
    "set1 = {\"apple\", 1,  \"banana\", 0, \"cherry\"}\n",
    "set2 = {False, \"google\", 1, \"apple\", 2, True}\n",
    "set3 = set1.intersection(set2)\n",
    "print(set3)"
   ]
  },
  {
   "cell_type": "markdown",
   "id": "45852909-208b-47f3-b3f9-f2fc5452a21a",
   "metadata": {},
   "source": [
    "Keep all items from set1 that are not in set2:"
   ]
  },
  {
   "cell_type": "code",
   "execution_count": 377,
   "id": "e6960901-84a6-4244-80cf-c67bb4438ef2",
   "metadata": {},
   "outputs": [
    {
     "name": "stdout",
     "output_type": "stream",
     "text": [
      "{'cherry', 'banana'}\n"
     ]
    }
   ],
   "source": [
    "set1 = {\"apple\", \"banana\", \"cherry\"}\n",
    "set2 = {\"google\", \"microsoft\", \"apple\"}\n",
    "set3 = set1.difference(set2)\n",
    "print(set3)"
   ]
  },
  {
   "cell_type": "markdown",
   "id": "47570877-f67a-41af-9406-7807c3c244ed",
   "metadata": {},
   "source": [
    "Use - to join two sets:"
   ]
  },
  {
   "cell_type": "code",
   "execution_count": 382,
   "id": "5381fbd3-19c8-429c-b22b-dfdf0b5e9c3d",
   "metadata": {},
   "outputs": [
    {
     "name": "stdout",
     "output_type": "stream",
     "text": [
      "{'cherry', 'banana'}\n"
     ]
    }
   ],
   "source": [
    "set1 = {\"apple\", \"banana\", \"cherry\"}\n",
    "set2 = {\"google\", \"microsoft\", \"apple\"}\n",
    "set3 = set1 - set2\n",
    "print(set3)"
   ]
  },
  {
   "cell_type": "markdown",
   "id": "e4923561-99bd-4324-b8f1-169f6ba729be",
   "metadata": {},
   "source": [
    "Use the difference_update() method to keep the items that are not present in both sets:"
   ]
  },
  {
   "cell_type": "code",
   "execution_count": 385,
   "id": "c7cbf08a-5414-4d49-88ad-9be4a8c2b28e",
   "metadata": {},
   "outputs": [
    {
     "name": "stdout",
     "output_type": "stream",
     "text": [
      "{'cherry', 'banana'}\n"
     ]
    }
   ],
   "source": [
    "set1 = {\"apple\", \"banana\", \"cherry\"}\n",
    "set2 = {\"google\", \"microsoft\", \"apple\"}\n",
    "set1.difference_update(set2)\n",
    "print(set1)"
   ]
  },
  {
   "cell_type": "markdown",
   "id": "f7a58bb6-d240-4e9a-9a6b-21a55b4a5c84",
   "metadata": {},
   "source": [
    "Keep the items that are not present in both sets:"
   ]
  },
  {
   "cell_type": "code",
   "execution_count": 388,
   "id": "9077d009-8ab4-4d48-9199-8f1cdb482fc3",
   "metadata": {},
   "outputs": [
    {
     "name": "stdout",
     "output_type": "stream",
     "text": [
      "{'cherry', 'banana', 'google', 'microsoft'}\n"
     ]
    }
   ],
   "source": [
    "set1 = {\"apple\", \"banana\", \"cherry\"}\n",
    "set2 = {\"google\", \"microsoft\", \"apple\"}\n",
    "set3 = set1.symmetric_difference(set2)\n",
    "print(set3)"
   ]
  },
  {
   "cell_type": "markdown",
   "id": "c467bb81-d34a-4729-b9fb-f9a07228bae2",
   "metadata": {},
   "source": [
    "Use ^ to join two sets:"
   ]
  },
  {
   "cell_type": "code",
   "execution_count": 391,
   "id": "59420cbb-123a-4353-a410-3ce4f5ee2bbb",
   "metadata": {},
   "outputs": [
    {
     "name": "stdout",
     "output_type": "stream",
     "text": [
      "{'cherry', 'banana', 'google', 'microsoft'}\n"
     ]
    }
   ],
   "source": [
    "set1 = {\"apple\", \"banana\", \"cherry\"}\n",
    "set2 = {\"google\", \"microsoft\", \"apple\"}\n",
    "set3 = set1 ^ set2\n",
    "print(set3)"
   ]
  },
  {
   "cell_type": "markdown",
   "id": "996dcc13-6ce2-4adb-8ab3-cf56d5b15721",
   "metadata": {},
   "source": [
    "Use the symmetric_difference_update() method to keep the items that are not present in both sets:"
   ]
  },
  {
   "cell_type": "code",
   "execution_count": 394,
   "id": "3b7e7a9a-9fae-40c3-800a-3cc9c85f2c11",
   "metadata": {},
   "outputs": [
    {
     "name": "stdout",
     "output_type": "stream",
     "text": [
      "{'cherry', 'banana', 'google', 'microsoft'}\n"
     ]
    }
   ],
   "source": [
    "set1 = {\"apple\", \"banana\", \"cherry\"}\n",
    "set2 = {\"google\", \"microsoft\", \"apple\"}\n",
    "set1.symmetric_difference_update(set2)\n",
    "print(set1)"
   ]
  },
  {
   "cell_type": "markdown",
   "id": "3df397dd-a96b-4577-82ed-c249b8392905",
   "metadata": {},
   "source": [
    "Set Methods"
   ]
  },
  {
   "cell_type": "markdown",
   "id": "b5a051bf-904c-4e55-85d3-90aa517bc434",
   "metadata": {},
   "source": [
    "add Method():"
   ]
  },
  {
   "cell_type": "markdown",
   "id": "f540bd22-27db-4ada-a7ac-ab564e03f62b",
   "metadata": {},
   "source": [
    "Add an element to the fruits set:"
   ]
  },
  {
   "cell_type": "code",
   "execution_count": 22,
   "id": "515e4ebf-c704-49ee-90c5-de3aba8fa0fb",
   "metadata": {},
   "outputs": [
    {
     "name": "stdout",
     "output_type": "stream",
     "text": [
      "{'apple', 'banana', 'cherry', 'orange'}\n"
     ]
    }
   ],
   "source": [
    "fruits = {\"apple\", \"banana\", \"cherry\"}\n",
    "fruits.add(\"orange\")\n",
    "print(fruits)"
   ]
  },
  {
   "cell_type": "markdown",
   "id": "d0ec6041-7502-4fa6-b230-5320ddd4648c",
   "metadata": {},
   "source": [
    "clear Method():"
   ]
  },
  {
   "cell_type": "markdown",
   "id": "73fd8a70-8998-4fbd-9c1f-1898c8b5057c",
   "metadata": {},
   "source": [
    "Remove all elements from the fruits set:"
   ]
  },
  {
   "cell_type": "code",
   "execution_count": 25,
   "id": "4a5d63cc-bad4-4753-bb73-7b44f641c3ce",
   "metadata": {},
   "outputs": [
    {
     "name": "stdout",
     "output_type": "stream",
     "text": [
      "set()\n"
     ]
    }
   ],
   "source": [
    "fruits = {\"apple\", \"banana\", \"cherry\"}\n",
    "fruits.clear()\n",
    "print(fruits)"
   ]
  },
  {
   "cell_type": "markdown",
   "id": "af962536-7638-46db-8f85-f9877006afc9",
   "metadata": {},
   "source": [
    "copy() Method:"
   ]
  },
  {
   "cell_type": "markdown",
   "id": "c21367b2-6e19-45d5-862c-aa9cb4fb23bd",
   "metadata": {},
   "source": [
    "Copy the fruits set:"
   ]
  },
  {
   "cell_type": "code",
   "execution_count": 28,
   "id": "68e4270d-ea03-49c8-999c-d191c21883a8",
   "metadata": {},
   "outputs": [
    {
     "name": "stdout",
     "output_type": "stream",
     "text": [
      "{'apple', 'banana', 'cherry'}\n"
     ]
    }
   ],
   "source": [
    "fruits = {\"apple\", \"banana\", \"cherry\"}\n",
    "x = fruits.copy()\n",
    "print(x)"
   ]
  },
  {
   "cell_type": "markdown",
   "id": "38cee667-6f1e-4979-ba53-a8b12fa258c7",
   "metadata": {},
   "source": [
    "difference() Method:"
   ]
  },
  {
   "cell_type": "markdown",
   "id": "c234d4e7-ab48-4354-a7ca-73cc99729bb4",
   "metadata": {},
   "source": [
    "Return a set that contains the items that only exist in set x, and not in set y:"
   ]
  },
  {
   "cell_type": "code",
   "execution_count": 31,
   "id": "6ccc951f-ca8c-4488-9656-32fcced1c2b1",
   "metadata": {},
   "outputs": [
    {
     "name": "stdout",
     "output_type": "stream",
     "text": [
      "{'cherry', 'banana'}\n"
     ]
    }
   ],
   "source": [
    "x = {\"apple\", \"banana\", \"cherry\"}\n",
    "y = {\"google\", \"microsoft\", \"apple\"}\n",
    "z = x.difference(y)\n",
    "print(z)"
   ]
  },
  {
   "cell_type": "markdown",
   "id": "76d9dcbb-53c7-4135-9430-a0c439857e36",
   "metadata": {},
   "source": [
    "difference_update() Method:"
   ]
  },
  {
   "cell_type": "markdown",
   "id": "307142ea-b7ce-43a9-bc58-2c4f4d8e0987",
   "metadata": {},
   "source": [
    "Remove the items that exist in both sets:"
   ]
  },
  {
   "cell_type": "code",
   "execution_count": 36,
   "id": "7cd53c91-e8fd-4510-ad65-55112ab0cadd",
   "metadata": {},
   "outputs": [
    {
     "name": "stdout",
     "output_type": "stream",
     "text": [
      "{'banana', 'cherry'}\n"
     ]
    }
   ],
   "source": [
    "x = {\"apple\", \"banana\", \"cherry\"}\n",
    "y = {\"google\", \"microsoft\", \"apple\"}\n",
    "x.difference_update(y)\n",
    "print(x)"
   ]
  },
  {
   "cell_type": "markdown",
   "id": "712638d9-8a7b-4de6-940e-a6bddabd060c",
   "metadata": {},
   "source": [
    "discard() Method:"
   ]
  },
  {
   "cell_type": "markdown",
   "id": "e7ab6f8b-6141-4fdd-b78f-cc67aafe3a9e",
   "metadata": {},
   "source": [
    "Remove \"banana\" from the set:"
   ]
  },
  {
   "cell_type": "code",
   "execution_count": 40,
   "id": "50eec00c-9e09-41ac-a5ab-35658d8923a2",
   "metadata": {},
   "outputs": [
    {
     "name": "stdout",
     "output_type": "stream",
     "text": [
      "{'apple', 'cherry'}\n"
     ]
    }
   ],
   "source": [
    "fruits = {\"apple\", \"banana\", \"cherry\"}\n",
    "fruits.discard(\"banana\")\n",
    "print(fruits)"
   ]
  },
  {
   "cell_type": "markdown",
   "id": "972c13d9-683d-4caa-92b8-9223a1561269",
   "metadata": {},
   "source": [
    "intersection() Method:"
   ]
  },
  {
   "cell_type": "markdown",
   "id": "13bdf433-92eb-4d4d-a8d1-f52c1a0c1d85",
   "metadata": {},
   "source": [
    "Return a set that contains the items that exist in both set x, and set y:"
   ]
  },
  {
   "cell_type": "code",
   "execution_count": 44,
   "id": "487809ad-7a9e-4549-a023-7c153790f62d",
   "metadata": {},
   "outputs": [
    {
     "name": "stdout",
     "output_type": "stream",
     "text": [
      "{'apple'}\n"
     ]
    }
   ],
   "source": [
    "x = {\"apple\", \"banana\", \"cherry\"}\n",
    "y = {\"google\", \"microsoft\", \"apple\"}\n",
    "z = x.intersection(y)\n",
    "print(z)"
   ]
  },
  {
   "cell_type": "markdown",
   "id": "1d1fb263-7aa3-41d6-a314-e1bf558c39dc",
   "metadata": {},
   "source": [
    "isdisjoint() Method:"
   ]
  },
  {
   "cell_type": "markdown",
   "id": "166a23e2-f1bf-4433-8162-7fb946a42ffc",
   "metadata": {},
   "source": [
    "Return True if no items in set x is present in set y:"
   ]
  },
  {
   "cell_type": "code",
   "execution_count": 48,
   "id": "b78b582a-ac38-4407-9532-a69b492728dd",
   "metadata": {},
   "outputs": [
    {
     "name": "stdout",
     "output_type": "stream",
     "text": [
      "True\n"
     ]
    }
   ],
   "source": [
    "x = {\"apple\", \"banana\", \"cherry\"}\n",
    "y = {\"google\", \"microsoft\", \"facebook\"}\n",
    "z = x.isdisjoint(y)\n",
    "print(z)"
   ]
  },
  {
   "cell_type": "markdown",
   "id": "c258b90e-9348-4a1b-9502-3feff27cd28b",
   "metadata": {},
   "source": [
    "issubset() Method:"
   ]
  },
  {
   "cell_type": "markdown",
   "id": "9e15c28f-9911-4df2-b61f-309be80bad9b",
   "metadata": {},
   "source": [
    "Return True if all items in set x are present in set y:"
   ]
  },
  {
   "cell_type": "code",
   "execution_count": 52,
   "id": "fc31dbad-f450-4460-b009-e0d84fc09faa",
   "metadata": {},
   "outputs": [
    {
     "name": "stdout",
     "output_type": "stream",
     "text": [
      "True\n"
     ]
    }
   ],
   "source": [
    "x = {\"a\", \"b\", \"c\"}\n",
    "y = {\"f\", \"e\", \"d\", \"c\", \"b\", \"a\"}\n",
    "z = x.issubset(y)\n",
    "print(z)"
   ]
  },
  {
   "cell_type": "markdown",
   "id": "c4418221-0a76-4816-aaa8-f297df543c9e",
   "metadata": {},
   "source": [
    "issuperset() Method:"
   ]
  },
  {
   "cell_type": "markdown",
   "id": "f142bf39-9de0-42ee-a8ec-632d4ab32988",
   "metadata": {},
   "source": [
    "Return True if all items of set y are present in set x:"
   ]
  },
  {
   "cell_type": "code",
   "execution_count": 59,
   "id": "fb4d2af8-7efe-402a-a4e7-c71edc8ce124",
   "metadata": {},
   "outputs": [
    {
     "name": "stdout",
     "output_type": "stream",
     "text": [
      "True\n"
     ]
    }
   ],
   "source": [
    "x = {\"f\", \"e\", \"d\", \"c\", \"b\", \"a\"}\n",
    "y = {\"a\", \"b\", \"c\"}\n",
    "z = x.issuperset(y)\n",
    "print(z)"
   ]
  },
  {
   "cell_type": "markdown",
   "id": "23d85796-9f5c-431c-9e92-08d006ea4e40",
   "metadata": {},
   "source": [
    "pop() Method:"
   ]
  },
  {
   "cell_type": "markdown",
   "id": "6f0b6fef-2456-46bd-8f2f-18dbf8c5f347",
   "metadata": {},
   "source": [
    "Remove a random item from the set:"
   ]
  },
  {
   "cell_type": "code",
   "execution_count": 62,
   "id": "01af8737-2d4d-4e7d-b223-f1f416722d87",
   "metadata": {},
   "outputs": [
    {
     "name": "stdout",
     "output_type": "stream",
     "text": [
      "{'banana', 'cherry'}\n"
     ]
    }
   ],
   "source": [
    "fruits = {\"apple\", \"banana\", \"cherry\"}\n",
    "fruits.pop()\n",
    "print(fruits)"
   ]
  },
  {
   "cell_type": "markdown",
   "id": "2e1976e1-b56d-4a13-a31d-ac8d1cd8ae66",
   "metadata": {},
   "source": [
    "remove() Method:"
   ]
  },
  {
   "cell_type": "markdown",
   "id": "e24bc6f7-e000-4b49-b654-cc168d09d265",
   "metadata": {},
   "source": [
    "Remove \"banana\" from the set:"
   ]
  },
  {
   "cell_type": "code",
   "execution_count": 67,
   "id": "20e8992d-7b30-4b65-8503-baf8455c725d",
   "metadata": {},
   "outputs": [
    {
     "name": "stdout",
     "output_type": "stream",
     "text": [
      "{'apple', 'cherry'}\n"
     ]
    }
   ],
   "source": [
    "fruits = {\"apple\", \"banana\", \"cherry\"}\n",
    "fruits.remove(\"banana\")\n",
    "print(fruits)"
   ]
  },
  {
   "cell_type": "markdown",
   "id": "4561e06b-b228-4029-a811-c565675d8896",
   "metadata": {},
   "source": [
    "symmertic_defference() Method:"
   ]
  },
  {
   "cell_type": "markdown",
   "id": "e2572343-f801-4ebe-a94c-df6b256401ea",
   "metadata": {},
   "source": [
    "Return a set that contains all items from both sets, except items that are present in both sets:"
   ]
  },
  {
   "cell_type": "code",
   "execution_count": 71,
   "id": "fce3af92-6193-4aaa-b4f1-efd9a8a11004",
   "metadata": {},
   "outputs": [
    {
     "name": "stdout",
     "output_type": "stream",
     "text": [
      "{'banana', 'microsoft', 'google', 'cherry'}\n"
     ]
    }
   ],
   "source": [
    "x = {\"apple\", \"banana\", \"cherry\"}\n",
    "y = {\"google\", \"microsoft\", \"apple\"}\n",
    "z = x.symmetric_difference(y)\n",
    "print(z)"
   ]
  },
  {
   "cell_type": "markdown",
   "id": "f518f185-6163-4552-82e9-e51a23f5b249",
   "metadata": {},
   "source": [
    "symmetric_difference_update() Method:"
   ]
  },
  {
   "cell_type": "markdown",
   "id": "88847cb6-3d82-4b73-a190-07e4e0f78451",
   "metadata": {},
   "source": [
    "Remove the items that are present in both sets, AND insert the items that is not present in both sets:"
   ]
  },
  {
   "cell_type": "code",
   "execution_count": 75,
   "id": "75acfa66-be68-41c5-8b07-abb20bf29415",
   "metadata": {},
   "outputs": [
    {
     "name": "stdout",
     "output_type": "stream",
     "text": [
      "{'google', 'banana', 'cherry', 'microsoft'}\n"
     ]
    }
   ],
   "source": [
    "x = {\"apple\", \"banana\", \"cherry\"}\n",
    "y = {\"google\", \"microsoft\", \"apple\"}\n",
    "x.symmetric_difference_update(y)\n",
    "print(x)"
   ]
  },
  {
   "cell_type": "markdown",
   "id": "a72c12b7-9d7f-4914-a79a-bc4d207cb054",
   "metadata": {},
   "source": [
    "union() Method:"
   ]
  },
  {
   "cell_type": "markdown",
   "id": "bdbd8b57-d517-400c-9fee-3ca29cd29431",
   "metadata": {},
   "source": [
    "Return a set that contains all items from both sets, duplicates are excluded:"
   ]
  },
  {
   "cell_type": "code",
   "execution_count": 79,
   "id": "26a6f784-ed17-44e6-8c85-f504d84b0200",
   "metadata": {},
   "outputs": [
    {
     "name": "stdout",
     "output_type": "stream",
     "text": [
      "{'cherry', 'google', 'microsoft', 'apple', 'banana'}\n"
     ]
    }
   ],
   "source": [
    "x = {\"apple\", \"banana\", \"cherry\"}\n",
    "y = {\"google\", \"microsoft\", \"apple\"}\n",
    "z = x.union(y)\n",
    "print(z)"
   ]
  },
  {
   "cell_type": "markdown",
   "id": "87eec083-58d3-4b35-bb45-276e910ba971",
   "metadata": {},
   "source": [
    "update() Method:"
   ]
  },
  {
   "cell_type": "markdown",
   "id": "31f9be41-6ad0-419b-8173-be821815705a",
   "metadata": {},
   "source": [
    "Insert the items from set y into set x:"
   ]
  },
  {
   "cell_type": "code",
   "execution_count": 83,
   "id": "9f23d2de-31b9-4c72-8543-8fa6d616bd32",
   "metadata": {},
   "outputs": [
    {
     "name": "stdout",
     "output_type": "stream",
     "text": [
      "{'cherry', 'google', 'microsoft', 'apple', 'banana'}\n"
     ]
    }
   ],
   "source": [
    "x = {\"apple\", \"banana\", \"cherry\"}\n",
    "y = {\"google\", \"microsoft\", \"apple\"}\n",
    "x.update(y)\n",
    "print(x)"
   ]
  },
  {
   "cell_type": "markdown",
   "id": "ffecf75e-88e7-4970-a811-f9d7bab19671",
   "metadata": {},
   "source": [
    "Python Dictionary"
   ]
  },
  {
   "cell_type": "code",
   "execution_count": 88,
   "id": "621a5d54-afc9-41fa-890a-71e5b3ef7eba",
   "metadata": {},
   "outputs": [
    {
     "name": "stdout",
     "output_type": "stream",
     "text": [
      "{'brand': 'Ford', 'model': 'Mustang', 'year': 1964}\n"
     ]
    }
   ],
   "source": [
    "thisdict = {\n",
    "  \"brand\": \"Ford\",\n",
    "  \"model\": \"Mustang\",\n",
    "  \"year\": 1964\n",
    "}\n",
    "print(thisdict)"
   ]
  },
  {
   "cell_type": "markdown",
   "id": "8026e5a6-b94c-47fd-a02f-b8525562257f",
   "metadata": {},
   "source": [
    "Print the \"brand\" value of the dictionary:"
   ]
  },
  {
   "cell_type": "code",
   "execution_count": 91,
   "id": "c382dc07-5429-43be-b84a-3b3745ff7349",
   "metadata": {},
   "outputs": [
    {
     "name": "stdout",
     "output_type": "stream",
     "text": [
      "Ford\n"
     ]
    }
   ],
   "source": [
    "thisdict = {\n",
    "  \"brand\": \"Ford\",\n",
    "  \"model\": \"Mustang\",\n",
    "  \"year\": 1964\n",
    "}\n",
    "print(thisdict[\"brand\"])"
   ]
  },
  {
   "cell_type": "markdown",
   "id": "56283f89-5367-4ae9-ab54-58863b46262b",
   "metadata": {},
   "source": [
    "Duplicate values will overwrite existing values:"
   ]
  },
  {
   "cell_type": "code",
   "execution_count": 94,
   "id": "a895c991-e51d-4b1b-bf26-d0c8265c8a78",
   "metadata": {},
   "outputs": [
    {
     "name": "stdout",
     "output_type": "stream",
     "text": [
      "{'brand': 'Ford', 'model': 'Mustang', 'year': 2020}\n"
     ]
    }
   ],
   "source": [
    "thisdict = {\n",
    "  \"brand\": \"Ford\",\n",
    "  \"model\": \"Mustang\",\n",
    "  \"year\": 1964,\n",
    "  \"year\": 2020\n",
    "}\n",
    "print(thisdict)"
   ]
  },
  {
   "cell_type": "markdown",
   "id": "889206e9-20f5-4065-afea-f0ff6cf1c9db",
   "metadata": {},
   "source": [
    "Print the number of items in the dictionary:"
   ]
  },
  {
   "cell_type": "code",
   "execution_count": 97,
   "id": "2fbbc211-c42c-43c5-8808-eb78b8e98c0d",
   "metadata": {},
   "outputs": [
    {
     "name": "stdout",
     "output_type": "stream",
     "text": [
      "3\n"
     ]
    }
   ],
   "source": [
    "print(len(thisdict))"
   ]
  },
  {
   "cell_type": "markdown",
   "id": "cc376c15-5f25-4044-a860-085f0e07ec4b",
   "metadata": {},
   "source": [
    "String, int, boolean, and list data types:"
   ]
  },
  {
   "cell_type": "code",
   "execution_count": 107,
   "id": "271aa9b9-ac63-499b-906d-8cd955ed6c7d",
   "metadata": {},
   "outputs": [],
   "source": [
    "thisdict = {\n",
    "  \"brand\": \"Ford\",\n",
    "  \"electric\": False,\n",
    "  \"year\": 1964,\n",
    "  \"colors\": [\"red\", \"white\", \"blue\"]\n",
    "}"
   ]
  },
  {
   "cell_type": "markdown",
   "id": "c1833b36-37a6-410c-8b31-c1ad43216a42",
   "metadata": {},
   "source": [
    "Print the data type of a dictionary:"
   ]
  },
  {
   "cell_type": "code",
   "execution_count": 105,
   "id": "72192d0d-b223-4034-a995-d3578a0b7afd",
   "metadata": {},
   "outputs": [
    {
     "name": "stdout",
     "output_type": "stream",
     "text": [
      "<class 'dict'>\n"
     ]
    }
   ],
   "source": [
    "thisdict = {\n",
    "  \"brand\": \"Ford\",\n",
    "  \"model\": \"Mustang\",\n",
    "  \"year\": 1964\n",
    "}\n",
    "print(type(thisdict))"
   ]
  },
  {
   "cell_type": "markdown",
   "id": "0f9409b0-391a-4ee8-ac31-3c368bbc89bc",
   "metadata": {},
   "source": [
    "Using the dict() method to make a dictionary:"
   ]
  },
  {
   "cell_type": "code",
   "execution_count": 110,
   "id": "44637492-8dbf-4f2f-8973-a821e1ce65af",
   "metadata": {},
   "outputs": [
    {
     "name": "stdout",
     "output_type": "stream",
     "text": [
      "{'name': 'John', 'age': 36, 'country': 'Norway'}\n"
     ]
    }
   ],
   "source": [
    "thisdict = dict(name = \"John\", age = 36, country = \"Norway\")\n",
    "print(thisdict)"
   ]
  },
  {
   "cell_type": "markdown",
   "id": "1933e829-eea0-47c4-8302-a0f845300c16",
   "metadata": {},
   "source": [
    "Access Dictionary Items"
   ]
  },
  {
   "cell_type": "markdown",
   "id": "1680d466-7a55-4dd6-b22d-9979bec695ad",
   "metadata": {},
   "source": [
    "Get the value of the \"model\" key:"
   ]
  },
  {
   "cell_type": "code",
   "execution_count": 116,
   "id": "249460bd-1599-4394-b941-1baabc284e5f",
   "metadata": {},
   "outputs": [
    {
     "name": "stdout",
     "output_type": "stream",
     "text": [
      "Mustang\n"
     ]
    }
   ],
   "source": [
    "thisdict = {\n",
    "  \"brand\": \"Ford\",\n",
    "  \"model\": \"Mustang\",\n",
    "  \"year\": 1964\n",
    "}\n",
    "x = thisdict[\"model\"]\n",
    "print(x)"
   ]
  },
  {
   "cell_type": "code",
   "execution_count": 123,
   "id": "20f2cd43-b0e9-4d1f-a6f2-586f2ca7ab0d",
   "metadata": {},
   "outputs": [
    {
     "name": "stdout",
     "output_type": "stream",
     "text": [
      "Mustang\n"
     ]
    }
   ],
   "source": [
    "x = thisdict.get(\"model\")\n",
    "print(x)"
   ]
  },
  {
   "cell_type": "markdown",
   "id": "795d5336-2113-4995-91ad-dda182a6b3a4",
   "metadata": {},
   "source": [
    "Get a list of the keys:"
   ]
  },
  {
   "cell_type": "code",
   "execution_count": 129,
   "id": "c3a4adfd-7249-4065-bb41-1e4e8fb6c3f6",
   "metadata": {},
   "outputs": [
    {
     "name": "stdout",
     "output_type": "stream",
     "text": [
      "dict_keys(['brand', 'model', 'year'])\n"
     ]
    }
   ],
   "source": [
    "x = thisdict.keys()\n",
    "print(x)"
   ]
  },
  {
   "cell_type": "markdown",
   "id": "9e9f93c0-4cec-4627-8004-ffaa4fdfff26",
   "metadata": {},
   "source": [
    "Add a new item to the original dictionary, and see that the keys list gets updated as well:"
   ]
  },
  {
   "cell_type": "code",
   "execution_count": 132,
   "id": "5af3d8b0-1aac-4a69-9c56-e1591530db07",
   "metadata": {},
   "outputs": [
    {
     "name": "stdout",
     "output_type": "stream",
     "text": [
      "dict_keys(['brand', 'model', 'year'])\n",
      "dict_keys(['brand', 'model', 'year', 'color'])\n"
     ]
    }
   ],
   "source": [
    "car = {\n",
    "\"brand\": \"Ford\",\n",
    "\"model\": \"Mustang\",\n",
    "\"year\": 1964\n",
    "}\n",
    "x = car.keys()\n",
    "print(x) #before the change\n",
    "\n",
    "car[\"color\"] = \"white\"\n",
    "print(x) #after the change"
   ]
  },
  {
   "cell_type": "markdown",
   "id": "aad50b6e-7935-48f0-9a0c-b561a7fa04ba",
   "metadata": {},
   "source": [
    "Get a list of the values:"
   ]
  },
  {
   "cell_type": "code",
   "execution_count": 136,
   "id": "9c83b0aa-4523-457a-9576-464e00595d5b",
   "metadata": {},
   "outputs": [
    {
     "name": "stdout",
     "output_type": "stream",
     "text": [
      "dict_values(['Ford', 'Mustang', 1964])\n"
     ]
    }
   ],
   "source": [
    "x = thisdict.values()\n",
    "print(x)"
   ]
  },
  {
   "cell_type": "markdown",
   "id": "33245452-0b88-46c9-8498-c37d6f509ae1",
   "metadata": {},
   "source": [
    "Make a change in the original dictionary, and see that the values list gets updated as well:"
   ]
  },
  {
   "cell_type": "code",
   "execution_count": 139,
   "id": "73eccdd1-7f92-44d8-9b37-91fd15d73a43",
   "metadata": {},
   "outputs": [
    {
     "name": "stdout",
     "output_type": "stream",
     "text": [
      "dict_values(['Ford', 'Mustang', 1964])\n",
      "dict_values(['Ford', 'Mustang', 2020])\n"
     ]
    }
   ],
   "source": [
    "car = {\n",
    "\"brand\": \"Ford\",\n",
    "\"model\": \"Mustang\",\n",
    "\"year\": 1964\n",
    "}\n",
    "\n",
    "x = car.values()\n",
    "print(x) #before the change\n",
    "\n",
    "car[\"year\"] = 2020\n",
    "print(x) #after the change"
   ]
  },
  {
   "cell_type": "markdown",
   "id": "5c561d76-b604-4468-8532-864399127db8",
   "metadata": {},
   "source": [
    "Add a new item to the original dictionary, and see that the values list gets updated as well:"
   ]
  },
  {
   "cell_type": "code",
   "execution_count": 146,
   "id": "b6511a70-5ab4-402c-81df-460a1300f60d",
   "metadata": {},
   "outputs": [
    {
     "name": "stdout",
     "output_type": "stream",
     "text": [
      "dict_values(['Ford', 'Mustang', 1964])\n",
      "dict_values(['Ford', 'Mustang', 1964, 'red'])\n"
     ]
    }
   ],
   "source": [
    "car = {\n",
    "\"brand\": \"Ford\",\n",
    "\"model\": \"Mustang\",\n",
    "\"year\": 1964\n",
    "}\n",
    "\n",
    "x = car.values()\n",
    "print(x) #before the change\n",
    "\n",
    "car[\"color\"] = \"red\"\n",
    "print(x) #after the change"
   ]
  },
  {
   "cell_type": "markdown",
   "id": "fbacd52c-bbc8-4f5d-9121-57741225667a",
   "metadata": {},
   "source": [
    "Get a list of the key:value pairs"
   ]
  },
  {
   "cell_type": "code",
   "execution_count": 153,
   "id": "dc638b99-264f-4e4c-a4bc-ddd7fde47cf2",
   "metadata": {},
   "outputs": [
    {
     "name": "stdout",
     "output_type": "stream",
     "text": [
      "dict_items([('brand', 'Ford'), ('model', 'Mustang'), ('year', 1964)])\n"
     ]
    }
   ],
   "source": [
    "x = thisdict.items()\n",
    "print(x) #return the pairs as a tuplets in a list"
   ]
  },
  {
   "cell_type": "markdown",
   "id": "dc20333e-999d-4f0e-81e3-e0c090d6205b",
   "metadata": {},
   "source": [
    "Make a change in the original dictionary, and see that the items list gets updated as well:"
   ]
  },
  {
   "cell_type": "code",
   "execution_count": 156,
   "id": "c8687619-1f5e-44e5-a776-f673dc75abef",
   "metadata": {},
   "outputs": [
    {
     "name": "stdout",
     "output_type": "stream",
     "text": [
      "dict_items([('brand', 'Ford'), ('model', 'Mustang'), ('year', 1964)])\n",
      "dict_items([('brand', 'Ford'), ('model', 'Mustang'), ('year', 2020)])\n"
     ]
    }
   ],
   "source": [
    "car = {\n",
    "\"brand\": \"Ford\",\n",
    "\"model\": \"Mustang\",\n",
    "\"year\": 1964\n",
    "}\n",
    "\n",
    "x = car.items()\n",
    "print(x) #before the change\n",
    "\n",
    "car[\"year\"] = 2020\n",
    "print(x) #after the change"
   ]
  },
  {
   "cell_type": "markdown",
   "id": "082d9369-960f-4771-9362-9f721cbc36aa",
   "metadata": {},
   "source": [
    "Add a new item to the original dictionary, and see that the items list gets updated as well:"
   ]
  },
  {
   "cell_type": "code",
   "execution_count": 161,
   "id": "2ece2f84-fc2c-43b7-ac96-8b2d990e91c9",
   "metadata": {},
   "outputs": [
    {
     "name": "stdout",
     "output_type": "stream",
     "text": [
      "dict_items([('brand', 'Ford'), ('model', 'Mustang'), ('year', 1964)])\n",
      "dict_items([('brand', 'Ford'), ('model', 'Mustang'), ('year', 1964), ('color', 'red')])\n"
     ]
    }
   ],
   "source": [
    "car = {\n",
    "\"brand\": \"Ford\",\n",
    "\"model\": \"Mustang\",\n",
    "\"year\": 1964\n",
    "}\n",
    "\n",
    "x = car.items()\n",
    "print(x) #before the change\n",
    "\n",
    "car[\"color\"] = \"red\"\n",
    "print(x) #after the chang"
   ]
  },
  {
   "cell_type": "markdown",
   "id": "d060a376-1070-49ae-a474-749529104d91",
   "metadata": {},
   "source": [
    "Check if \"model\" is present in the dictionary:"
   ]
  },
  {
   "cell_type": "code",
   "execution_count": 164,
   "id": "0482e7be-32fb-451d-a5fd-ec62dbd96b1f",
   "metadata": {},
   "outputs": [
    {
     "name": "stdout",
     "output_type": "stream",
     "text": [
      "Yes, 'model' is one of the keys in the thisdict dictionary\n"
     ]
    }
   ],
   "source": [
    "thisdict = {\n",
    "  \"brand\": \"Ford\",\n",
    "  \"model\": \"Mustang\",\n",
    "  \"year\": 1964\n",
    "}\n",
    "if \"model\" in thisdict:\n",
    "  print(\"Yes, 'model' is one of the keys in the thisdict dictionary\")"
   ]
  },
  {
   "cell_type": "markdown",
   "id": "3c05ae3b-e63c-457e-ae27-64cae54678b2",
   "metadata": {},
   "source": [
    "Change Items"
   ]
  },
  {
   "cell_type": "markdown",
   "id": "179c19c9-8c62-4cf8-b3d7-ea60e784b785",
   "metadata": {},
   "source": [
    "Change the \"year\" to 2018:"
   ]
  },
  {
   "cell_type": "code",
   "execution_count": 173,
   "id": "030d29b9-b44f-45a7-b7b2-2d4374e6ee6f",
   "metadata": {},
   "outputs": [
    {
     "name": "stdout",
     "output_type": "stream",
     "text": [
      "{'brand': 'Ford', 'model': 'Mustang', 'year': 2018}\n"
     ]
    }
   ],
   "source": [
    "thisdict = {\n",
    "  \"brand\": \"Ford\",\n",
    "  \"model\": \"Mustang\",\n",
    "  \"year\": 1964\n",
    "}\n",
    "thisdict[\"year\"] = 2018\n",
    "print(thisdict)"
   ]
  },
  {
   "cell_type": "markdown",
   "id": "125cf3ab-3ee7-40ec-b30b-183c9ee813f4",
   "metadata": {},
   "source": [
    "Update the \"year\" of the car by using the update() method:"
   ]
  },
  {
   "cell_type": "code",
   "execution_count": 176,
   "id": "e284d913-7b5a-4f5c-b590-42266e7abde2",
   "metadata": {},
   "outputs": [
    {
     "name": "stdout",
     "output_type": "stream",
     "text": [
      "{'brand': 'Ford', 'model': 'Mustang', 'year': 2020}\n"
     ]
    }
   ],
   "source": [
    "thisdict = {\n",
    "  \"brand\": \"Ford\",\n",
    "  \"model\": \"Mustang\",\n",
    "  \"year\": 1964\n",
    "}\n",
    "thisdict.update({\"year\": 2020})\n",
    "print(thisdict)"
   ]
  },
  {
   "cell_type": "markdown",
   "id": "45d1c5a5-a2a1-42c7-baef-f10e7005b715",
   "metadata": {},
   "source": [
    "Add Dictionary Items"
   ]
  },
  {
   "cell_type": "markdown",
   "id": "021e0b22-cba8-4fe5-9765-ced6968618bd",
   "metadata": {},
   "source": [
    "Adding an item to the dictionary is done by using a new index key and assigning a value to it:"
   ]
  },
  {
   "cell_type": "code",
   "execution_count": 180,
   "id": "5c139687-8f0c-4fed-9665-3814f147b973",
   "metadata": {},
   "outputs": [
    {
     "name": "stdout",
     "output_type": "stream",
     "text": [
      "{'brand': 'Ford', 'model': 'Mustang', 'year': 1964, 'color': 'red'}\n"
     ]
    }
   ],
   "source": [
    "thisdict = {\n",
    "  \"brand\": \"Ford\",\n",
    "  \"model\": \"Mustang\",\n",
    "  \"year\": 1964\n",
    "}\n",
    "thisdict[\"color\"] = \"red\"\n",
    "print(thisdict)"
   ]
  },
  {
   "cell_type": "markdown",
   "id": "d4849f74-5a40-4d33-8439-8da4ccf284d9",
   "metadata": {},
   "source": [
    "Add a color item to the dictionary by using the update() method:"
   ]
  },
  {
   "cell_type": "code",
   "execution_count": 185,
   "id": "fe129bb2-7107-44eb-b25e-c7298c68c9ce",
   "metadata": {},
   "outputs": [
    {
     "name": "stdout",
     "output_type": "stream",
     "text": [
      "{'brand': 'Ford', 'model': 'Mustang', 'year': 1964, 'color': 'red'}\n"
     ]
    }
   ],
   "source": [
    "thisdict = {\n",
    "  \"brand\": \"Ford\",\n",
    "  \"model\": \"Mustang\",\n",
    "  \"year\": 1964\n",
    "}\n",
    "thisdict.update({\"color\": \"red\"})\n",
    "print(thisdict)"
   ]
  },
  {
   "cell_type": "markdown",
   "id": "01ae5202-6c0a-4fc0-b14f-6a1313428baf",
   "metadata": {},
   "source": [
    "Remove Dictionary Items"
   ]
  },
  {
   "cell_type": "markdown",
   "id": "33050d0f-a173-4104-99ed-7b8b3628652d",
   "metadata": {},
   "source": [
    "The pop() method removes the item with the specified key name:"
   ]
  },
  {
   "cell_type": "code",
   "execution_count": 189,
   "id": "2ff99643-cbf0-46c7-b5d7-314c9bf996af",
   "metadata": {},
   "outputs": [
    {
     "name": "stdout",
     "output_type": "stream",
     "text": [
      "{'brand': 'Ford', 'year': 1964}\n"
     ]
    }
   ],
   "source": [
    "thisdict = {\n",
    "  \"brand\": \"Ford\",\n",
    "  \"model\": \"Mustang\",\n",
    "  \"year\": 1964\n",
    "}\n",
    "thisdict.pop(\"model\")\n",
    "print(thisdict)"
   ]
  },
  {
   "cell_type": "markdown",
   "id": "e067b8f7-f18f-4ec7-8ead-b0e3a5805eed",
   "metadata": {},
   "source": [
    "The popitem() method removes the last inserted item (in versions before 3.7, a random item is removed instead):"
   ]
  },
  {
   "cell_type": "code",
   "execution_count": 192,
   "id": "8b4f4ebb-bdba-4d43-9d4f-95a77f3098cd",
   "metadata": {},
   "outputs": [
    {
     "name": "stdout",
     "output_type": "stream",
     "text": [
      "{'brand': 'Ford', 'model': 'Mustang'}\n"
     ]
    }
   ],
   "source": [
    "thisdict = {\n",
    "  \"brand\": \"Ford\",\n",
    "  \"model\": \"Mustang\",\n",
    "  \"year\": 1964\n",
    "}\n",
    "thisdict.popitem()\n",
    "print(thisdict)"
   ]
  },
  {
   "cell_type": "markdown",
   "id": "e5020616-417b-48b6-96f2-13ed8150be82",
   "metadata": {},
   "source": [
    "The del keyword removes the item with the specified key name:"
   ]
  },
  {
   "cell_type": "code",
   "execution_count": 195,
   "id": "349e2925-b1dd-4a49-be9c-68c9cc81c47c",
   "metadata": {},
   "outputs": [
    {
     "name": "stdout",
     "output_type": "stream",
     "text": [
      "{'brand': 'Ford', 'year': 1964}\n"
     ]
    }
   ],
   "source": [
    "thisdict = {\n",
    "  \"brand\": \"Ford\",\n",
    "  \"model\": \"Mustang\",\n",
    "  \"year\": 1964\n",
    "}\n",
    "del thisdict[\"model\"]\n",
    "print(thisdict)"
   ]
  },
  {
   "cell_type": "markdown",
   "id": "15908d3c-7519-4927-a597-45ef0739cebe",
   "metadata": {},
   "source": [
    "The del keyword can also delete the dictionary completely:"
   ]
  },
  {
   "cell_type": "code",
   "execution_count": 198,
   "id": "85537897-4189-4f54-86bb-35aeb5284745",
   "metadata": {},
   "outputs": [
    {
     "ename": "NameError",
     "evalue": "name 'thisdict' is not defined",
     "output_type": "error",
     "traceback": [
      "\u001b[1;31m---------------------------------------------------------------------------\u001b[0m",
      "\u001b[1;31mNameError\u001b[0m                                 Traceback (most recent call last)",
      "Cell \u001b[1;32mIn[198], line 7\u001b[0m\n\u001b[0;32m      1\u001b[0m thisdict \u001b[38;5;241m=\u001b[39m {\n\u001b[0;32m      2\u001b[0m   \u001b[38;5;124m\"\u001b[39m\u001b[38;5;124mbrand\u001b[39m\u001b[38;5;124m\"\u001b[39m: \u001b[38;5;124m\"\u001b[39m\u001b[38;5;124mFord\u001b[39m\u001b[38;5;124m\"\u001b[39m,\n\u001b[0;32m      3\u001b[0m   \u001b[38;5;124m\"\u001b[39m\u001b[38;5;124mmodel\u001b[39m\u001b[38;5;124m\"\u001b[39m: \u001b[38;5;124m\"\u001b[39m\u001b[38;5;124mMustang\u001b[39m\u001b[38;5;124m\"\u001b[39m,\n\u001b[0;32m      4\u001b[0m   \u001b[38;5;124m\"\u001b[39m\u001b[38;5;124myear\u001b[39m\u001b[38;5;124m\"\u001b[39m: \u001b[38;5;241m1964\u001b[39m\n\u001b[0;32m      5\u001b[0m }\n\u001b[0;32m      6\u001b[0m \u001b[38;5;28;01mdel\u001b[39;00m thisdict\n\u001b[1;32m----> 7\u001b[0m \u001b[38;5;28mprint\u001b[39m(thisdict)\n",
      "\u001b[1;31mNameError\u001b[0m: name 'thisdict' is not defined"
     ]
    }
   ],
   "source": [
    "thisdict = {\n",
    "  \"brand\": \"Ford\",\n",
    "  \"model\": \"Mustang\",\n",
    "  \"year\": 1964\n",
    "}\n",
    "del thisdict\n",
    "print(thisdict) #this will cause an error because \"thisdict\" no longer exists"
   ]
  },
  {
   "cell_type": "markdown",
   "id": "8c94bba6-d6cb-4a6e-87de-eb2b9008ca19",
   "metadata": {},
   "source": [
    "The clear() method empties the dictionary:"
   ]
  },
  {
   "cell_type": "code",
   "execution_count": 201,
   "id": "eb25989b-511b-4d82-9e3a-85deb30edfed",
   "metadata": {},
   "outputs": [
    {
     "name": "stdout",
     "output_type": "stream",
     "text": [
      "{}\n"
     ]
    }
   ],
   "source": [
    "thisdict = {\n",
    "  \"brand\": \"Ford\",\n",
    "  \"model\": \"Mustang\",\n",
    "  \"year\": 1964\n",
    "}\n",
    "thisdict.clear()\n",
    "print(thisdict)"
   ]
  },
  {
   "cell_type": "markdown",
   "id": "88444c33-2acd-43c0-8085-811b26144c4e",
   "metadata": {},
   "source": [
    "Loop Through a Dictionary"
   ]
  },
  {
   "cell_type": "markdown",
   "id": "0644ab35-c184-4b8b-9551-fc66d86cd371",
   "metadata": {},
   "source": [
    "Print all key names in the dictionary, one by one:"
   ]
  },
  {
   "cell_type": "code",
   "execution_count": 205,
   "id": "cb755532-65ca-4c05-b596-a3639b457e69",
   "metadata": {},
   "outputs": [],
   "source": [
    "for x in thisdict:\n",
    "  print(x)"
   ]
  },
  {
   "cell_type": "markdown",
   "id": "cb7f4cfc-acf7-4477-9fec-f271e5e8403e",
   "metadata": {},
   "source": [
    "Print all values in the dictionary, one by one:"
   ]
  },
  {
   "cell_type": "code",
   "execution_count": 208,
   "id": "ebff6d3e-c69d-4bf6-bb22-e2bd89bd69da",
   "metadata": {},
   "outputs": [],
   "source": [
    "for x in thisdict:\n",
    "  print(thisdict[x])"
   ]
  },
  {
   "cell_type": "markdown",
   "id": "4950b97c-0975-4691-9a92-da095c75de7f",
   "metadata": {},
   "source": [
    "You can also use the values() method to return values of a dictionary:"
   ]
  },
  {
   "cell_type": "code",
   "execution_count": 211,
   "id": "1b052331-2c5f-4586-8c3b-0a8a61fc6104",
   "metadata": {},
   "outputs": [],
   "source": [
    "for x in thisdict.values():\n",
    "  print(x)"
   ]
  },
  {
   "cell_type": "markdown",
   "id": "b1749c76-4b7c-4837-85ac-91a8ea05ceeb",
   "metadata": {},
   "source": [
    "You can use the keys() method to return the keys of a dictionary:"
   ]
  },
  {
   "cell_type": "code",
   "execution_count": 214,
   "id": "43b2437d-6e52-4e63-935b-a96112f5710e",
   "metadata": {},
   "outputs": [],
   "source": [
    "for x in thisdict.keys():\n",
    "  print(x)"
   ]
  },
  {
   "cell_type": "markdown",
   "id": "56d3176e-f440-4403-9459-d846c24859ec",
   "metadata": {},
   "source": [
    "Loop through both keys and values, by using the items() method:"
   ]
  },
  {
   "cell_type": "code",
   "execution_count": 217,
   "id": "caddb0ad-8d9b-48f6-8acd-9c8f396c3884",
   "metadata": {},
   "outputs": [],
   "source": [
    "for x, y in thisdict.items():\n",
    "  print(x, y)"
   ]
  },
  {
   "cell_type": "markdown",
   "id": "8ffa02d6-e78f-4b3c-aac3-fb6b3762fb68",
   "metadata": {},
   "source": [
    "Copy a Dictionary"
   ]
  },
  {
   "cell_type": "markdown",
   "id": "96263d09-160e-4460-ae39-7c20d0883f5a",
   "metadata": {},
   "source": [
    "Make a copy of a dictionary with the copy() method:"
   ]
  },
  {
   "cell_type": "code",
   "execution_count": 221,
   "id": "66f880db-73a3-4412-9f67-d3376ba075e2",
   "metadata": {},
   "outputs": [
    {
     "name": "stdout",
     "output_type": "stream",
     "text": [
      "{'brand': 'Ford', 'model': 'Mustang', 'year': 1964}\n"
     ]
    }
   ],
   "source": [
    "thisdict = {\n",
    "  \"brand\": \"Ford\",\n",
    "  \"model\": \"Mustang\",\n",
    "  \"year\": 1964\n",
    "}\n",
    "mydict = thisdict.copy()\n",
    "print(mydict)"
   ]
  },
  {
   "cell_type": "markdown",
   "id": "deb717a4-d331-4d44-af0e-822b9cc50e7e",
   "metadata": {},
   "source": [
    "Make a copy of a dictionary with the dict() function:"
   ]
  },
  {
   "cell_type": "code",
   "execution_count": 226,
   "id": "a59d0d8e-a2ca-4a64-a263-f4f5fa58c70b",
   "metadata": {},
   "outputs": [
    {
     "name": "stdout",
     "output_type": "stream",
     "text": [
      "{'brand': 'Ford', 'model': 'Mustang', 'year': 1964}\n"
     ]
    }
   ],
   "source": [
    "thisdict = {\n",
    "  \"brand\": \"Ford\",\n",
    "  \"model\": \"Mustang\",\n",
    "  \"year\": 1964\n",
    "}\n",
    "mydict = dict(thisdict)\n",
    "print(mydict)"
   ]
  },
  {
   "cell_type": "markdown",
   "id": "c22ed26d-e4e2-4bb8-9214-ab215e9fa892",
   "metadata": {},
   "source": [
    "Nested Dictionaries"
   ]
  },
  {
   "cell_type": "markdown",
   "id": "8a3ad30c-ad77-46a4-aa14-a07adc7d6a1d",
   "metadata": {},
   "source": [
    "Create a dictionary that contain three dictionaries:"
   ]
  },
  {
   "cell_type": "code",
   "execution_count": 230,
   "id": "65cde650-55bd-4149-8f16-b2ec61d43d83",
   "metadata": {},
   "outputs": [],
   "source": [
    "myfamily = {\n",
    "  \"child1\" : {\n",
    "    \"name\" : \"Emil\",\n",
    "    \"year\" : 2004\n",
    "  },\n",
    "  \"child2\" : {\n",
    "    \"name\" : \"Tobias\",\n",
    "    \"year\" : 2007\n",
    "  },\n",
    "  \"child3\" : {\n",
    "    \"name\" : \"Linus\",\n",
    "    \"year\" : 2011\n",
    "  }\n",
    "}"
   ]
  },
  {
   "cell_type": "markdown",
   "id": "0d44c20f-422c-4414-8b9a-d24943cce405",
   "metadata": {},
   "source": [
    "Create three dictionaries, then create one dictionary that will contain the other three dictionaries:"
   ]
  },
  {
   "cell_type": "code",
   "execution_count": 233,
   "id": "5b9c7e1e-53fd-43fb-b24e-09f74d141a68",
   "metadata": {},
   "outputs": [],
   "source": [
    "child1 = {\n",
    "  \"name\" : \"Emil\",\n",
    "  \"year\" : 2004\n",
    "}\n",
    "child2 = {\n",
    "  \"name\" : \"Tobias\",\n",
    "  \"year\" : 2007\n",
    "}\n",
    "child3 = {\n",
    "  \"name\" : \"Linus\",\n",
    "  \"year\" : 2011\n",
    "}\n",
    "\n",
    "myfamily = {\n",
    "  \"child1\" : child1,\n",
    "  \"child2\" : child2,\n",
    "  \"child3\" : child3\n",
    "}"
   ]
  },
  {
   "cell_type": "markdown",
   "id": "fbc9714d-72db-4aee-bdd5-8c4ab9555a4c",
   "metadata": {},
   "source": [
    "Print the name of child 2:"
   ]
  },
  {
   "cell_type": "code",
   "execution_count": 236,
   "id": "82898ae8-a86c-47ac-a70c-cab50b784a63",
   "metadata": {},
   "outputs": [
    {
     "name": "stdout",
     "output_type": "stream",
     "text": [
      "Tobias\n"
     ]
    }
   ],
   "source": [
    "print(myfamily[\"child2\"][\"name\"])"
   ]
  },
  {
   "cell_type": "markdown",
   "id": "24cd6555-ba2d-4845-ad6e-e034facf4d26",
   "metadata": {},
   "source": [
    "Loop through the keys and values of all nested dictionaries:"
   ]
  },
  {
   "cell_type": "code",
   "execution_count": 239,
   "id": "fe818efd-871f-428f-ad25-2e266082cb9b",
   "metadata": {},
   "outputs": [
    {
     "name": "stdout",
     "output_type": "stream",
     "text": [
      "child1\n",
      "name: Emil\n",
      "year: 2004\n",
      "child2\n",
      "name: Tobias\n",
      "year: 2007\n",
      "child3\n",
      "name: Linus\n",
      "year: 2011\n"
     ]
    }
   ],
   "source": [
    "for x, obj in myfamily.items():\n",
    "  print(x)\n",
    "\n",
    "  for y in obj:\n",
    "    print(y + ':', obj[y])"
   ]
  },
  {
   "cell_type": "markdown",
   "id": "8f810199-44db-486f-9267-1b1f980bc835",
   "metadata": {},
   "source": [
    "Dictionary Methods"
   ]
  },
  {
   "cell_type": "markdown",
   "id": "53280a92-95f9-4da4-898b-06cb41a8a108",
   "metadata": {},
   "source": [
    "clear() Method:"
   ]
  },
  {
   "cell_type": "markdown",
   "id": "b89ffa37-da91-4b22-ab45-57954903c465",
   "metadata": {},
   "source": [
    "Remove all elements from the car list:"
   ]
  },
  {
   "cell_type": "code",
   "execution_count": 248,
   "id": "ef5e44b4-e2ab-482b-b0c6-c1dcc71e3a02",
   "metadata": {},
   "outputs": [
    {
     "name": "stdout",
     "output_type": "stream",
     "text": [
      "{}\n"
     ]
    }
   ],
   "source": [
    "car = {\n",
    "  \"brand\": \"Ford\",\n",
    "  \"model\": \"Mustang\",\n",
    "  \"year\": 1964\n",
    "}\n",
    "\n",
    "car.clear()\n",
    "print(car)"
   ]
  },
  {
   "cell_type": "markdown",
   "id": "bacb4b66-2825-485c-898b-686455b44c71",
   "metadata": {},
   "source": [
    "Copy the car dictionary:"
   ]
  },
  {
   "cell_type": "code",
   "execution_count": 253,
   "id": "3335eb9f-7436-4db5-a973-75858a0d5e98",
   "metadata": {},
   "outputs": [
    {
     "name": "stdout",
     "output_type": "stream",
     "text": [
      "{'brand': 'Ford', 'model': 'Mustang', 'year': 1964}\n"
     ]
    }
   ],
   "source": [
    "car = {\n",
    "  \"brand\": \"Ford\",\n",
    "  \"model\": \"Mustang\",\n",
    "  \"year\": 1964\n",
    "}\n",
    "\n",
    "x = car.copy()\n",
    "print(x)"
   ]
  },
  {
   "cell_type": "markdown",
   "id": "e7b2dbb5-3633-4f5c-aaff-dd997403b340",
   "metadata": {},
   "source": [
    "fromkeys() Method:"
   ]
  },
  {
   "cell_type": "markdown",
   "id": "5fc0abe8-64b1-4048-910c-9a632b9fa443",
   "metadata": {},
   "source": [
    "Create a dictionary with 3 keys, all with the value 0:"
   ]
  },
  {
   "cell_type": "code",
   "execution_count": 257,
   "id": "7713e449-4a1b-4a12-900e-621953bc4d74",
   "metadata": {},
   "outputs": [
    {
     "name": "stdout",
     "output_type": "stream",
     "text": [
      "{'key1': 0, 'key2': 0, 'key3': 0}\n"
     ]
    }
   ],
   "source": [
    "x = ('key1', 'key2', 'key3')\n",
    "y = 0\n",
    "\n",
    "thisdict = dict.fromkeys(x, y)\n",
    "print(thisdict)"
   ]
  },
  {
   "cell_type": "markdown",
   "id": "94eee4be-6d27-41a7-a76f-d86c2a490abd",
   "metadata": {},
   "source": [
    "get() Method:"
   ]
  },
  {
   "cell_type": "markdown",
   "id": "f557dbeb-2e9f-4803-b59b-7fc6a6248c8c",
   "metadata": {},
   "source": [
    "Get the value of the \"model\" item:"
   ]
  },
  {
   "cell_type": "code",
   "execution_count": 261,
   "id": "5599b015-4680-494d-b608-5c70118af46d",
   "metadata": {},
   "outputs": [
    {
     "name": "stdout",
     "output_type": "stream",
     "text": [
      "Mustang\n"
     ]
    }
   ],
   "source": [
    "car = {\n",
    "  \"brand\": \"Ford\",\n",
    "  \"model\": \"Mustang\",\n",
    "  \"year\": 1964\n",
    "}\n",
    "\n",
    "x = car.get(\"model\")\n",
    "print(x)"
   ]
  },
  {
   "cell_type": "markdown",
   "id": "0d290dc3-3e19-4dab-8145-836f0269ab13",
   "metadata": {},
   "source": [
    "items() Method:"
   ]
  },
  {
   "cell_type": "markdown",
   "id": "fd9daf93-aed5-4e97-afc3-fdc1f17dfd96",
   "metadata": {},
   "source": [
    "Return the dictionary's key-value pairs:"
   ]
  },
  {
   "cell_type": "code",
   "execution_count": 265,
   "id": "7dd2f4b1-6c78-47bc-9606-7bf862c9976a",
   "metadata": {},
   "outputs": [
    {
     "name": "stdout",
     "output_type": "stream",
     "text": [
      "dict_items([('brand', 'Ford'), ('model', 'Mustang'), ('year', 1964)])\n"
     ]
    }
   ],
   "source": [
    "car = {\n",
    "  \"brand\": \"Ford\",\n",
    "  \"model\": \"Mustang\",\n",
    "  \"year\": 1964\n",
    "}\n",
    "\n",
    "x = car.items()\n",
    "print(x)"
   ]
  },
  {
   "cell_type": "markdown",
   "id": "58569565-4785-4ea7-8b90-69ce7620f0a7",
   "metadata": {},
   "source": [
    "keys() Method:"
   ]
  },
  {
   "cell_type": "markdown",
   "id": "96901180-d5f7-46c3-bd4a-90b0f12e972b",
   "metadata": {},
   "source": [
    "Return the keys:"
   ]
  },
  {
   "cell_type": "code",
   "execution_count": 272,
   "id": "accec61b-05a9-43c6-9fa7-12a9d3aa7aff",
   "metadata": {},
   "outputs": [
    {
     "name": "stdout",
     "output_type": "stream",
     "text": [
      "dict_keys(['brand', 'model', 'year'])\n"
     ]
    }
   ],
   "source": [
    "car = {\n",
    "  \"brand\": \"Ford\",\n",
    "  \"model\": \"Mustang\",\n",
    "  \"year\": 1964\n",
    "}\n",
    "\n",
    "x = car.keys()\n",
    "print(x)"
   ]
  },
  {
   "cell_type": "markdown",
   "id": "02cc5e6d-508c-4c13-b2a0-826c1c13b824",
   "metadata": {},
   "source": [
    "pop() Method:"
   ]
  },
  {
   "cell_type": "markdown",
   "id": "cd364016-fe12-4e76-a155-73a64db82f97",
   "metadata": {},
   "source": [
    "Remove \"model\" from the dictionary:"
   ]
  },
  {
   "cell_type": "code",
   "execution_count": 278,
   "id": "4de1e0f7-e298-4551-9625-027411151794",
   "metadata": {},
   "outputs": [
    {
     "name": "stdout",
     "output_type": "stream",
     "text": [
      "{'brand': 'Ford', 'year': 1964}\n"
     ]
    }
   ],
   "source": [
    "car = {\n",
    "  \"brand\": \"Ford\",\n",
    "  \"model\": \"Mustang\",\n",
    "  \"year\": 1964\n",
    "}\n",
    "\n",
    "car.pop(\"model\")\n",
    "print(car)"
   ]
  },
  {
   "cell_type": "markdown",
   "id": "c1d66077-004c-4e0f-8c0b-ab22b32e8a18",
   "metadata": {},
   "source": [
    "popitem() Method:"
   ]
  },
  {
   "cell_type": "code",
   "execution_count": 283,
   "id": "fe63db37-3b81-4bc5-ab46-c90d6c9a48a0",
   "metadata": {},
   "outputs": [
    {
     "name": "stdout",
     "output_type": "stream",
     "text": [
      "{'brand': 'Ford', 'model': 'Mustang'}\n"
     ]
    }
   ],
   "source": [
    "car = {\n",
    "  \"brand\": \"Ford\",\n",
    "  \"model\": \"Mustang\",\n",
    "  \"year\": 1964\n",
    "}\n",
    "\n",
    "car.popitem()\n",
    "print(car)"
   ]
  },
  {
   "cell_type": "markdown",
   "id": "31601fd4-5461-47c6-941d-ccaf562c4945",
   "metadata": {},
   "source": [
    "setdefault() Method:"
   ]
  },
  {
   "cell_type": "markdown",
   "id": "5fa47fd6-1fe5-4ea0-a96c-07a2080f3337",
   "metadata": {},
   "source": [
    "Get the value of the \"model\" item:"
   ]
  },
  {
   "cell_type": "code",
   "execution_count": 287,
   "id": "0d02f4c9-194e-47c0-bb13-06cb95058925",
   "metadata": {},
   "outputs": [
    {
     "name": "stdout",
     "output_type": "stream",
     "text": [
      "Mustang\n"
     ]
    }
   ],
   "source": [
    "car = {\n",
    "  \"brand\": \"Ford\",\n",
    "  \"model\": \"Mustang\",\n",
    "  \"year\": 1964\n",
    "}\n",
    "\n",
    "x = car.setdefault(\"model\", \"Bronco\")\n",
    "print(x)"
   ]
  },
  {
   "cell_type": "markdown",
   "id": "f95dc580-981a-49b8-a6bb-201e6da188c4",
   "metadata": {},
   "source": [
    "update() Method:"
   ]
  },
  {
   "cell_type": "markdown",
   "id": "f22e4a5a-f091-44cc-af46-de6d24aa7953",
   "metadata": {},
   "source": [
    "Insert an item to the dictionary:"
   ]
  },
  {
   "cell_type": "code",
   "execution_count": 291,
   "id": "a63f97fc-b9f0-4606-985b-5ea67d42e570",
   "metadata": {},
   "outputs": [
    {
     "name": "stdout",
     "output_type": "stream",
     "text": [
      "{'brand': 'Ford', 'model': 'Mustang', 'year': 1964, 'color': 'White'}\n"
     ]
    }
   ],
   "source": [
    "car = {\n",
    "  \"brand\": \"Ford\",\n",
    "  \"model\": \"Mustang\",\n",
    "  \"year\": 1964\n",
    "}\n",
    "\n",
    "car.update({\"color\": \"White\"})\n",
    "print(car)"
   ]
  },
  {
   "cell_type": "markdown",
   "id": "6f4c5d30-b659-4b49-9c7e-1591d84df88f",
   "metadata": {},
   "source": [
    "values() Method:"
   ]
  },
  {
   "cell_type": "markdown",
   "id": "887e1249-2e31-4ff7-a02b-0d9f9e160848",
   "metadata": {},
   "source": [
    "Return the values:"
   ]
  },
  {
   "cell_type": "code",
   "execution_count": 295,
   "id": "643e1d61-6506-4c5d-8f91-99eedc2ad9a7",
   "metadata": {},
   "outputs": [
    {
     "name": "stdout",
     "output_type": "stream",
     "text": [
      "dict_values(['Ford', 'Mustang', 1964])\n"
     ]
    }
   ],
   "source": [
    "car = {\n",
    "  \"brand\": \"Ford\",\n",
    "  \"model\": \"Mustang\",\n",
    "  \"year\": 1964\n",
    "}\n",
    "\n",
    "x = car.values()\n",
    "print(x)"
   ]
  },
  {
   "cell_type": "markdown",
   "id": "8dd8b70a-5a6e-47b3-a443-47c22ad089d6",
   "metadata": {},
   "source": [
    "Python If Else"
   ]
  },
  {
   "cell_type": "markdown",
   "id": "9cec4c26-6a87-4cbf-b44b-cb3039d62735",
   "metadata": {},
   "source": [
    "If statement:"
   ]
  },
  {
   "cell_type": "code",
   "execution_count": 299,
   "id": "5534d119-cbfa-407e-8911-0f84356618f0",
   "metadata": {},
   "outputs": [
    {
     "name": "stdout",
     "output_type": "stream",
     "text": [
      "b is greater than a\n"
     ]
    }
   ],
   "source": [
    "a = 33\n",
    "b = 200\n",
    "if b > a:\n",
    "  print(\"b is greater than a\")"
   ]
  },
  {
   "cell_type": "markdown",
   "id": "9b2ecb30-b809-4a6f-a3a2-48bd8ff3bd39",
   "metadata": {},
   "source": [
    "If statement, without indentation (will raise an error):"
   ]
  },
  {
   "cell_type": "code",
   "execution_count": 302,
   "id": "0de65d1f-d701-4a57-9e8d-766e01265991",
   "metadata": {},
   "outputs": [
    {
     "ename": "IndentationError",
     "evalue": "expected an indented block after 'if' statement on line 3 (1443227691.py, line 4)",
     "output_type": "error",
     "traceback": [
      "\u001b[1;36m  Cell \u001b[1;32mIn[302], line 4\u001b[1;36m\u001b[0m\n\u001b[1;33m    print(\"b is greater than a\") # you will get an error\u001b[0m\n\u001b[1;37m    ^\u001b[0m\n\u001b[1;31mIndentationError\u001b[0m\u001b[1;31m:\u001b[0m expected an indented block after 'if' statement on line 3\n"
     ]
    }
   ],
   "source": [
    "a = 33\n",
    "b = 200\n",
    "if b > a:\n",
    "print(\"b is greater than a\") # you will get an error"
   ]
  },
  {
   "cell_type": "markdown",
   "id": "2ae818ed-24b0-41ca-9761-53aecddbbfcb",
   "metadata": {},
   "source": [
    "The elif keyword is Python's way of saying \"if the previous conditions were not true, then try this condition\"."
   ]
  },
  {
   "cell_type": "code",
   "execution_count": 305,
   "id": "200f96f8-fe5f-4838-a72f-a0bae13d34d2",
   "metadata": {},
   "outputs": [
    {
     "name": "stdout",
     "output_type": "stream",
     "text": [
      "a and b are equal\n"
     ]
    }
   ],
   "source": [
    "a = 33\n",
    "b = 33\n",
    "if b > a:\n",
    "  print(\"b is greater than a\")\n",
    "elif a == b:\n",
    "  print(\"a and b are equal\")"
   ]
  },
  {
   "cell_type": "markdown",
   "id": "6eb1b83a-08ab-4ec8-aa01-4ffd756a8522",
   "metadata": {},
   "source": [
    "The else keyword catches anything which isn't caught by the preceding conditions."
   ]
  },
  {
   "cell_type": "code",
   "execution_count": 308,
   "id": "e954fecc-7e65-4ff7-ba31-3583c40998f0",
   "metadata": {},
   "outputs": [
    {
     "name": "stdout",
     "output_type": "stream",
     "text": [
      "a is greater than b\n"
     ]
    }
   ],
   "source": [
    "a = 200\n",
    "b = 33\n",
    "if b > a:\n",
    "  print(\"b is greater than a\")\n",
    "elif a == b:\n",
    "  print(\"a and b are equal\")\n",
    "else:\n",
    "  print(\"a is greater than b\")"
   ]
  },
  {
   "cell_type": "markdown",
   "id": "bb4043a0-2668-4ec8-b2d5-d5124f72cea4",
   "metadata": {},
   "source": [
    "You can also have an else without the elif:"
   ]
  },
  {
   "cell_type": "code",
   "execution_count": 311,
   "id": "3c84cf39-b8c2-4d9e-93aa-af712e7c98d7",
   "metadata": {},
   "outputs": [
    {
     "name": "stdout",
     "output_type": "stream",
     "text": [
      "b is not greater than a\n"
     ]
    }
   ],
   "source": [
    "a = 200\n",
    "b = 33\n",
    "if b > a:\n",
    "  print(\"b is greater than a\")\n",
    "else:\n",
    "  print(\"b is not greater than a\")"
   ]
  },
  {
   "cell_type": "markdown",
   "id": "c81b8728-c0f8-4b29-a24e-c4b94598f9a4",
   "metadata": {},
   "source": [
    "One line if statement:"
   ]
  },
  {
   "cell_type": "code",
   "execution_count": 316,
   "id": "60961ad7-c0f0-446d-9335-f4f8d7a2b697",
   "metadata": {},
   "outputs": [
    {
     "name": "stdout",
     "output_type": "stream",
     "text": [
      "a is greater than b\n"
     ]
    }
   ],
   "source": [
    "if a > b: print(\"a is greater than b\")"
   ]
  },
  {
   "cell_type": "code",
   "execution_count": 318,
   "id": "71e129f2-9105-40d9-91b6-80a0238ac53f",
   "metadata": {},
   "outputs": [
    {
     "name": "stdout",
     "output_type": "stream",
     "text": [
      "B\n"
     ]
    }
   ],
   "source": [
    "a = 2\n",
    "b = 330\n",
    "print(\"A\") if a > b else print(\"B\")"
   ]
  },
  {
   "cell_type": "markdown",
   "id": "8375157f-a8f9-48b5-a909-802e2ed9610c",
   "metadata": {},
   "source": [
    "One line if else statement, with 3 conditions:"
   ]
  },
  {
   "cell_type": "code",
   "execution_count": 327,
   "id": "4e74bff3-4b23-45ba-86c9-99e25d53f920",
   "metadata": {},
   "outputs": [
    {
     "name": "stdout",
     "output_type": "stream",
     "text": [
      "=\n"
     ]
    }
   ],
   "source": [
    "a = 330\n",
    "b = 330\n",
    "print(\"A\") if a > b else print(\"=\") if a == b else print(\"B\")"
   ]
  },
  {
   "cell_type": "markdown",
   "id": "27744f61-4c59-463e-968a-c78dc83b7cea",
   "metadata": {},
   "source": [
    "Test if a is greater than b, AND if c is greater than a:"
   ]
  },
  {
   "cell_type": "code",
   "execution_count": 330,
   "id": "a45f9bc3-7762-478b-8791-d0098676ad98",
   "metadata": {},
   "outputs": [
    {
     "name": "stdout",
     "output_type": "stream",
     "text": [
      "Both conditions are True\n"
     ]
    }
   ],
   "source": [
    "a = 200\n",
    "b = 33\n",
    "c = 500\n",
    "if a > b and c > a:\n",
    "  print(\"Both conditions are True\")"
   ]
  },
  {
   "cell_type": "markdown",
   "id": "35a0a6b9-dc0d-4a59-818a-d43a7137c747",
   "metadata": {},
   "source": [
    "Test if a is greater than b, OR if a is greater than c:"
   ]
  },
  {
   "cell_type": "code",
   "execution_count": 333,
   "id": "d67e6497-49df-4995-b1c3-b368fd05b675",
   "metadata": {},
   "outputs": [
    {
     "name": "stdout",
     "output_type": "stream",
     "text": [
      "At least one of the conditions is True\n"
     ]
    }
   ],
   "source": [
    "a = 200\n",
    "b = 33\n",
    "c = 500\n",
    "if a > b or a > c:\n",
    "  print(\"At least one of the conditions is True\")"
   ]
  },
  {
   "cell_type": "markdown",
   "id": "b6659b67-c9e6-4c79-a4a9-6122a7a6d2f6",
   "metadata": {},
   "source": [
    "Test if a is NOT greater than b:"
   ]
  },
  {
   "cell_type": "code",
   "execution_count": 336,
   "id": "fb4d02cf-2790-4fc3-8c98-d0a7e3af7c48",
   "metadata": {},
   "outputs": [
    {
     "name": "stdout",
     "output_type": "stream",
     "text": [
      "a is NOT greater than b\n"
     ]
    }
   ],
   "source": [
    "a = 33\n",
    "b = 200\n",
    "if not a > b:\n",
    "  print(\"a is NOT greater than b\")"
   ]
  },
  {
   "cell_type": "markdown",
   "id": "b26698af-2fc9-4777-a720-34a78f5d0acf",
   "metadata": {},
   "source": [
    "You can have if statements inside if statements, this is called nested if statements."
   ]
  },
  {
   "cell_type": "code",
   "execution_count": 339,
   "id": "92396eea-4b12-498e-a31c-d36c1aae3952",
   "metadata": {},
   "outputs": [
    {
     "name": "stdout",
     "output_type": "stream",
     "text": [
      "Above ten,\n",
      "and also above 20!\n"
     ]
    }
   ],
   "source": [
    "x = 41\n",
    "\n",
    "if x > 10:\n",
    "  print(\"Above ten,\")\n",
    "  if x > 20:\n",
    "    print(\"and also above 20!\")\n",
    "  else:\n",
    "    print(\"but not above 20.\")"
   ]
  },
  {
   "cell_type": "markdown",
   "id": "146e3be6-d9bd-4a56-a0b9-460c0d0340fa",
   "metadata": {},
   "source": [
    "if statements cannot be empty, but if you for some reason have an if statement with no content, put in the pass statement to avoid getting an error."
   ]
  },
  {
   "cell_type": "code",
   "execution_count": 342,
   "id": "498428ec-f22b-4034-956e-4a70354b7d53",
   "metadata": {},
   "outputs": [],
   "source": [
    "a = 33\n",
    "b = 200\n",
    "\n",
    "if b > a:\n",
    "  pass"
   ]
  },
  {
   "cell_type": "markdown",
   "id": "e6c0cc71-4dd6-49d9-a4f5-a0e263d3b23d",
   "metadata": {},
   "source": [
    "Python While Loops"
   ]
  },
  {
   "cell_type": "markdown",
   "id": "a960b390-b138-4860-9cd5-6d7082ce4132",
   "metadata": {},
   "source": [
    "Print i as long as i is less than 6:"
   ]
  },
  {
   "cell_type": "code",
   "execution_count": 346,
   "id": "ce8e2a27-bda1-4062-95eb-f4380f8f1b9a",
   "metadata": {},
   "outputs": [
    {
     "name": "stdout",
     "output_type": "stream",
     "text": [
      "1\n",
      "2\n",
      "3\n",
      "4\n",
      "5\n"
     ]
    }
   ],
   "source": [
    "i = 1\n",
    "while i < 6:\n",
    "  print(i)\n",
    "  i += 1"
   ]
  },
  {
   "cell_type": "markdown",
   "id": "da6d7f6d-59b5-4bf4-afba-143b3b23ecea",
   "metadata": {},
   "source": [
    "Exit the loop when i is 3:"
   ]
  },
  {
   "cell_type": "code",
   "execution_count": 349,
   "id": "593d778a-f729-4bd1-87a6-7c3f70fb112e",
   "metadata": {},
   "outputs": [
    {
     "name": "stdout",
     "output_type": "stream",
     "text": [
      "1\n",
      "2\n",
      "3\n"
     ]
    }
   ],
   "source": [
    "i = 1\n",
    "while i < 6:\n",
    "  print(i)\n",
    "  if i == 3:\n",
    "    break\n",
    "  i += 1"
   ]
  },
  {
   "cell_type": "markdown",
   "id": "a50125a0-2067-4741-b648-3f38866b044c",
   "metadata": {},
   "source": [
    "Continue to the next iteration if i is 3:"
   ]
  },
  {
   "cell_type": "code",
   "execution_count": 352,
   "id": "fe697695-1177-402f-9c66-8fbb29ac7776",
   "metadata": {},
   "outputs": [
    {
     "name": "stdout",
     "output_type": "stream",
     "text": [
      "1\n",
      "2\n",
      "4\n",
      "5\n",
      "6\n"
     ]
    }
   ],
   "source": [
    "i = 0\n",
    "while i < 6:\n",
    "  i += 1\n",
    "  if i == 3:\n",
    "    continue\n",
    "  print(i)"
   ]
  },
  {
   "cell_type": "markdown",
   "id": "dcba94e7-0889-47b6-ab81-aa93b4ab377b",
   "metadata": {},
   "source": [
    "Print a message once the condition is false:"
   ]
  },
  {
   "cell_type": "code",
   "execution_count": 355,
   "id": "180fad51-938d-429f-9b83-5e20d6dc3b0c",
   "metadata": {},
   "outputs": [
    {
     "name": "stdout",
     "output_type": "stream",
     "text": [
      "1\n",
      "2\n",
      "3\n",
      "4\n",
      "5\n",
      "i is no longer less than 6\n"
     ]
    }
   ],
   "source": [
    "i = 1\n",
    "while i < 6:\n",
    "  print(i)\n",
    "  i += 1\n",
    "else:\n",
    "  print(\"i is no longer less than 6\")"
   ]
  },
  {
   "cell_type": "markdown",
   "id": "2840e287-8aec-40df-8988-ed7d1376933f",
   "metadata": {},
   "source": [
    "Python For Loops"
   ]
  },
  {
   "cell_type": "markdown",
   "id": "ce8e45c6-a0a8-4bfc-9430-ce758cf370da",
   "metadata": {},
   "source": [
    "Print each fruit in a fruit list:"
   ]
  },
  {
   "cell_type": "code",
   "execution_count": 359,
   "id": "4dbd522a-863e-4ab1-b13f-c912c83ac7f0",
   "metadata": {},
   "outputs": [
    {
     "name": "stdout",
     "output_type": "stream",
     "text": [
      "apple\n",
      "banana\n",
      "cherry\n"
     ]
    }
   ],
   "source": [
    "fruits = [\"apple\", \"banana\", \"cherry\"]\n",
    "for x in fruits:\n",
    "  print(x)"
   ]
  },
  {
   "cell_type": "markdown",
   "id": "a6448f62-ca08-4d14-bbe1-2b436d92d1e2",
   "metadata": {},
   "source": [
    "Loop through the letters in the word \"banana\":"
   ]
  },
  {
   "cell_type": "code",
   "execution_count": 362,
   "id": "f712093a-3b0c-4f96-8055-bbdf36015129",
   "metadata": {},
   "outputs": [
    {
     "name": "stdout",
     "output_type": "stream",
     "text": [
      "b\n",
      "a\n",
      "n\n",
      "a\n",
      "n\n",
      "a\n"
     ]
    }
   ],
   "source": [
    "for x in \"banana\":\n",
    "  print(x)"
   ]
  },
  {
   "cell_type": "markdown",
   "id": "fe7db41b-8897-4686-a8c5-5f7ea55c4779",
   "metadata": {},
   "source": [
    "Exit the loop when x is \"banana\":"
   ]
  },
  {
   "cell_type": "code",
   "execution_count": 365,
   "id": "bbea6e9f-2996-47db-8ce1-125c72e124d0",
   "metadata": {},
   "outputs": [
    {
     "name": "stdout",
     "output_type": "stream",
     "text": [
      "apple\n",
      "banana\n"
     ]
    }
   ],
   "source": [
    "fruits = [\"apple\", \"banana\", \"cherry\"]\n",
    "for x in fruits:\n",
    "  print(x)\n",
    "  if x == \"banana\":\n",
    "    break"
   ]
  },
  {
   "cell_type": "markdown",
   "id": "c17eebd1-3750-440a-8a96-e311d71d4e09",
   "metadata": {},
   "source": [
    "Exit the loop when x is \"banana\", but this time the break comes before the print:"
   ]
  },
  {
   "cell_type": "code",
   "execution_count": 368,
   "id": "61b590e0-9cf9-4a29-9cb7-259d783ace63",
   "metadata": {},
   "outputs": [
    {
     "name": "stdout",
     "output_type": "stream",
     "text": [
      "apple\n"
     ]
    }
   ],
   "source": [
    "fruits = [\"apple\", \"banana\", \"cherry\"]\n",
    "for x in fruits:\n",
    "  if x == \"banana\":\n",
    "    break\n",
    "  print(x)"
   ]
  },
  {
   "cell_type": "markdown",
   "id": "7cc62edc-315d-465b-9047-2d6f2d335d87",
   "metadata": {},
   "source": [
    "Do not print banana:"
   ]
  },
  {
   "cell_type": "code",
   "execution_count": 371,
   "id": "c27c1de3-681b-441b-9685-0d5369a9c3f7",
   "metadata": {},
   "outputs": [
    {
     "name": "stdout",
     "output_type": "stream",
     "text": [
      "apple\n",
      "cherry\n"
     ]
    }
   ],
   "source": [
    "fruits = [\"apple\", \"banana\", \"cherry\"]\n",
    "for x in fruits:\n",
    "  if x == \"banana\":\n",
    "    continue\n",
    "  print(x)"
   ]
  },
  {
   "cell_type": "markdown",
   "id": "1695d99e-6b9f-49d6-ba31-9d8bce3ac865",
   "metadata": {},
   "source": [
    "Using the range() function:"
   ]
  },
  {
   "cell_type": "code",
   "execution_count": 374,
   "id": "6a124c4f-7e91-49df-9f56-22ceef6867dc",
   "metadata": {},
   "outputs": [
    {
     "name": "stdout",
     "output_type": "stream",
     "text": [
      "0\n",
      "1\n",
      "2\n",
      "3\n",
      "4\n",
      "5\n"
     ]
    }
   ],
   "source": [
    "for x in range(6):\n",
    "  print(x)"
   ]
  },
  {
   "cell_type": "markdown",
   "id": "913683ee-897e-4b63-8bee-32280b9ebb35",
   "metadata": {},
   "source": [
    "Using the start parameter:"
   ]
  },
  {
   "cell_type": "code",
   "execution_count": 377,
   "id": "d038951c-8af3-4a7a-83bd-0423e325f2ec",
   "metadata": {},
   "outputs": [
    {
     "name": "stdout",
     "output_type": "stream",
     "text": [
      "2\n",
      "3\n",
      "4\n",
      "5\n"
     ]
    }
   ],
   "source": [
    "for x in range(2, 6):\n",
    "  print(x)"
   ]
  },
  {
   "cell_type": "markdown",
   "id": "5970457c-a0db-4002-ace9-6b3e51cf779c",
   "metadata": {},
   "source": [
    "Increment the sequence with 3 (default is 1):"
   ]
  },
  {
   "cell_type": "code",
   "execution_count": 380,
   "id": "6f9fb254-b3f8-42bd-9400-0b33f01cdb03",
   "metadata": {},
   "outputs": [
    {
     "name": "stdout",
     "output_type": "stream",
     "text": [
      "2\n",
      "5\n",
      "8\n",
      "11\n",
      "14\n",
      "17\n",
      "20\n",
      "23\n",
      "26\n",
      "29\n"
     ]
    }
   ],
   "source": [
    "for x in range(2, 30, 3):\n",
    "  print(x)"
   ]
  },
  {
   "cell_type": "markdown",
   "id": "5abf90e4-61ee-48c5-9b25-a800f204b911",
   "metadata": {},
   "source": [
    "Print all numbers from 0 to 5, and print a message when the loop has ended:"
   ]
  },
  {
   "cell_type": "code",
   "execution_count": 387,
   "id": "cc3c5701-c565-4a78-a187-234854981b71",
   "metadata": {},
   "outputs": [
    {
     "name": "stdout",
     "output_type": "stream",
     "text": [
      "0\n",
      "1\n",
      "2\n",
      "3\n",
      "4\n",
      "5\n",
      "Finally finished!\n"
     ]
    }
   ],
   "source": [
    "for x in range(6):\n",
    "  print(x)\n",
    "else:\n",
    "  print(\"Finally finished!\")"
   ]
  },
  {
   "cell_type": "markdown",
   "id": "1c901c4f-b9aa-4021-8f4f-ee892aba7478",
   "metadata": {},
   "source": [
    "Break the loop when x is 3, and see what happens with the else block:"
   ]
  },
  {
   "cell_type": "code",
   "execution_count": 390,
   "id": "aabba49c-6853-4131-bc00-45256052a449",
   "metadata": {},
   "outputs": [
    {
     "name": "stdout",
     "output_type": "stream",
     "text": [
      "0\n",
      "1\n",
      "2\n"
     ]
    }
   ],
   "source": [
    "for x in range(6):\n",
    "  if x == 3: break\n",
    "  print(x)\n",
    "else:\n",
    "  print(\"Finally finished!\")"
   ]
  },
  {
   "cell_type": "markdown",
   "id": "a98fe7bc-9c31-46af-a3f7-6504961cb972",
   "metadata": {},
   "source": [
    "Print each adjective for every fruit:"
   ]
  },
  {
   "cell_type": "code",
   "execution_count": 393,
   "id": "0ab8b687-17d8-47bc-8af7-8c34b1147dd4",
   "metadata": {},
   "outputs": [
    {
     "name": "stdout",
     "output_type": "stream",
     "text": [
      "red apple\n",
      "red banana\n",
      "red cherry\n",
      "big apple\n",
      "big banana\n",
      "big cherry\n",
      "tasty apple\n",
      "tasty banana\n",
      "tasty cherry\n"
     ]
    }
   ],
   "source": [
    "adj = [\"red\", \"big\", \"tasty\"]\n",
    "fruits = [\"apple\", \"banana\", \"cherry\"]\n",
    "\n",
    "for x in adj:\n",
    "  for y in fruits:\n",
    "    print(x, y)"
   ]
  },
  {
   "cell_type": "markdown",
   "id": "2b07663e-1f3d-47b0-b6c3-f7938af800a5",
   "metadata": {},
   "source": [
    "for loops cannot be empty, but if you for some reason have a for loop with no content, put in the pass statement to avoid getting an error."
   ]
  },
  {
   "cell_type": "code",
   "execution_count": 396,
   "id": "013d4df8-e502-4224-8003-d2c40476ccc4",
   "metadata": {},
   "outputs": [],
   "source": [
    "for x in [0, 1, 2]:\n",
    "  pass"
   ]
  },
  {
   "cell_type": "code",
   "execution_count": null,
   "id": "509175f9-539b-45a4-9af3-2f3ca8f1e88d",
   "metadata": {},
   "outputs": [],
   "source": []
  }
 ],
 "metadata": {
  "kernelspec": {
   "display_name": "Python [conda env:base] *",
   "language": "python",
   "name": "conda-base-py"
  },
  "language_info": {
   "codemirror_mode": {
    "name": "ipython",
    "version": 3
   },
   "file_extension": ".py",
   "mimetype": "text/x-python",
   "name": "python",
   "nbconvert_exporter": "python",
   "pygments_lexer": "ipython3",
   "version": "3.12.7"
  }
 },
 "nbformat": 4,
 "nbformat_minor": 5
}
