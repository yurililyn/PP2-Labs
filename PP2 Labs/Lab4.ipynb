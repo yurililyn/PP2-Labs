{
 "cells": [
  {
   "cell_type": "markdown",
   "id": "20d57cc5-2098-4e1d-b878-71113b58c114",
   "metadata": {},
   "source": [
    "Python Iterators"
   ]
  },
  {
   "cell_type": "markdown",
   "id": "34f29d6f-c4f2-4296-b046-3860e79e76d6",
   "metadata": {},
   "source": [
    "Return an iterator from a tuple, and print each value:"
   ]
  },
  {
   "cell_type": "code",
   "execution_count": 7,
   "id": "309390d6-db88-419b-b231-ab1c02c4a8c4",
   "metadata": {},
   "outputs": [
    {
     "name": "stdout",
     "output_type": "stream",
     "text": [
      "apple\n",
      "banana\n",
      "cherry\n"
     ]
    }
   ],
   "source": [
    "mytuple = (\"apple\", \"banana\", \"cherry\")\n",
    "myit = iter(mytuple)\n",
    "\n",
    "print(next(myit))\n",
    "print(next(myit))\n",
    "print(next(myit))"
   ]
  },
  {
   "cell_type": "markdown",
   "id": "3c3678e4-6bf3-421e-8ac6-628cfa406e37",
   "metadata": {},
   "source": [
    "Strings are also iterable objects, containing a sequence of characters:"
   ]
  },
  {
   "cell_type": "code",
   "execution_count": 10,
   "id": "141dd8dc-f6b5-4513-b13b-e3ff553dcc99",
   "metadata": {},
   "outputs": [
    {
     "name": "stdout",
     "output_type": "stream",
     "text": [
      "b\n",
      "a\n",
      "n\n",
      "a\n",
      "n\n",
      "a\n"
     ]
    }
   ],
   "source": [
    "mystr = \"banana\"\n",
    "myit = iter(mystr)\n",
    "\n",
    "print(next(myit))\n",
    "print(next(myit))\n",
    "print(next(myit))\n",
    "print(next(myit))\n",
    "print(next(myit))\n",
    "print(next(myit))"
   ]
  },
  {
   "cell_type": "markdown",
   "id": "98ba483d-8b12-473b-b320-7adcac65c56c",
   "metadata": {},
   "source": [
    "Iterate the values of a tuple:"
   ]
  },
  {
   "cell_type": "code",
   "execution_count": 64,
   "id": "4891b4de-8137-4728-9db5-557d9ef4505a",
   "metadata": {},
   "outputs": [
    {
     "name": "stdout",
     "output_type": "stream",
     "text": [
      "apple\n",
      "banana\n",
      "cherry\n"
     ]
    }
   ],
   "source": [
    "mytuple = (\"apple\", \"banana\", \"cherry\")\n",
    "\n",
    "for x in mytuple:\n",
    "  print(x)"
   ]
  },
  {
   "cell_type": "markdown",
   "id": "348e61bd-c680-4a10-85e5-b089d1a5868f",
   "metadata": {},
   "source": [
    "Iterate the characters of a string:"
   ]
  },
  {
   "cell_type": "code",
   "execution_count": 17,
   "id": "ab4f6d77-7ecf-444b-a714-8c3cf3df9624",
   "metadata": {},
   "outputs": [
    {
     "name": "stdout",
     "output_type": "stream",
     "text": [
      "b\n",
      "a\n",
      "n\n",
      "a\n",
      "n\n",
      "a\n"
     ]
    }
   ],
   "source": [
    "mystr = \"banana\"\n",
    "\n",
    "for x in mystr:\n",
    "  print(x)"
   ]
  },
  {
   "cell_type": "markdown",
   "id": "9af1c334-fb12-4087-8fed-2ed2865e16f9",
   "metadata": {},
   "source": [
    "Create an iterator that returns numbers, starting with 1, and each sequence will increase by one (returning 1,2,3,4,5 etc.):"
   ]
  },
  {
   "cell_type": "code",
   "execution_count": 22,
   "id": "67712a61-33e8-4bf8-83e4-d3107e186116",
   "metadata": {},
   "outputs": [
    {
     "name": "stdout",
     "output_type": "stream",
     "text": [
      "1\n",
      "2\n",
      "3\n",
      "4\n",
      "5\n"
     ]
    }
   ],
   "source": [
    "class MyNumbers:\n",
    "  def __iter__(self):\n",
    "    self.a = 1\n",
    "    return self\n",
    "\n",
    "  def __next__(self):\n",
    "    x = self.a\n",
    "    self.a += 1\n",
    "    return x\n",
    "\n",
    "myclass = MyNumbers()\n",
    "myiter = iter(myclass)\n",
    "\n",
    "print(next(myiter))\n",
    "print(next(myiter))\n",
    "print(next(myiter))\n",
    "print(next(myiter))\n",
    "print(next(myiter))"
   ]
  },
  {
   "cell_type": "markdown",
   "id": "3dd27d76-45dc-4f04-9b89-b93a72ad21de",
   "metadata": {},
   "source": [
    "To prevent the iteration from going on rever, we can use the StopIteration statement."
   ]
  },
  {
   "cell_type": "markdown",
   "id": "a9c47acf-8e5e-4974-a9d8-0d8489a42377",
   "metadata": {},
   "source": [
    "Stop after 20 iterations:"
   ]
  },
  {
   "cell_type": "code",
   "execution_count": 28,
   "id": "3b22bb06-b997-41eb-a3bb-32db838380ef",
   "metadata": {},
   "outputs": [
    {
     "name": "stdout",
     "output_type": "stream",
     "text": [
      "1\n",
      "2\n",
      "3\n",
      "4\n",
      "5\n",
      "6\n",
      "7\n",
      "8\n",
      "9\n",
      "10\n",
      "11\n",
      "12\n",
      "13\n",
      "14\n",
      "15\n",
      "16\n",
      "17\n",
      "18\n",
      "19\n",
      "20\n"
     ]
    }
   ],
   "source": [
    "class MyNumbers:\n",
    "  def __iter__(self):\n",
    "    self.a = 1\n",
    "    return self\n",
    "\n",
    "  def __next__(self):\n",
    "    if self.a <= 20:\n",
    "      x = self.a\n",
    "      self.a += 1\n",
    "      return x\n",
    "    else:\n",
    "      raise StopIteration\n",
    "\n",
    "myclass = MyNumbers()\n",
    "myiter = iter(myclass)\n",
    "\n",
    "for x in myiter:\n",
    "  print(x)"
   ]
  },
  {
   "cell_type": "markdown",
   "id": "d93edcc2-fe88-4489-8ac5-68006b71491c",
   "metadata": {},
   "source": [
    "Python Scope"
   ]
  },
  {
   "cell_type": "markdown",
   "id": "b4b967fc-ae4e-4ca2-b121-29e417fe7946",
   "metadata": {},
   "source": [
    "A variable created inside a function is available inside that function:"
   ]
  },
  {
   "cell_type": "code",
   "execution_count": 32,
   "id": "4d180c26-f548-4175-8750-cd83e700f766",
   "metadata": {},
   "outputs": [
    {
     "name": "stdout",
     "output_type": "stream",
     "text": [
      "300\n"
     ]
    }
   ],
   "source": [
    "def myfunc():\n",
    "  x = 300\n",
    "  print(x)\n",
    "\n",
    "myfunc()"
   ]
  },
  {
   "cell_type": "markdown",
   "id": "d0ffbff8-486c-41e9-8b5f-ffabc29ec8e3",
   "metadata": {},
   "source": [
    "The local variable can be accessed from a function within the function:"
   ]
  },
  {
   "cell_type": "code",
   "execution_count": 35,
   "id": "cfe602b1-b278-4d48-b09d-c44c42662e03",
   "metadata": {},
   "outputs": [
    {
     "name": "stdout",
     "output_type": "stream",
     "text": [
      "300\n"
     ]
    }
   ],
   "source": [
    "def myfunc():\n",
    "  x = 300\n",
    "  def myinnerfunc():\n",
    "    print(x)\n",
    "  myinnerfunc()\n",
    "\n",
    "myfunc()"
   ]
  },
  {
   "cell_type": "markdown",
   "id": "a0099d42-1000-4749-b81f-1460bfc577f5",
   "metadata": {},
   "source": [
    "Global Scope"
   ]
  },
  {
   "cell_type": "markdown",
   "id": "da2d260a-e1db-4369-a9a8-5e02ccc55d5e",
   "metadata": {},
   "source": [
    "A variable created outside of a function is global and can be used by anyone:"
   ]
  },
  {
   "cell_type": "code",
   "execution_count": 39,
   "id": "c189a3c4-bd23-4eb0-8fc3-1a5598ff7c23",
   "metadata": {},
   "outputs": [
    {
     "name": "stdout",
     "output_type": "stream",
     "text": [
      "300\n",
      "300\n"
     ]
    }
   ],
   "source": [
    "x = 300\n",
    "\n",
    "def myfunc():\n",
    "  print(x)\n",
    "\n",
    "myfunc()\n",
    "\n",
    "print(x)"
   ]
  },
  {
   "cell_type": "markdown",
   "id": "b61185db-9edc-4515-beeb-bfdafef65955",
   "metadata": {},
   "source": [
    "The function will print the local x, and then the code will print the global x:"
   ]
  },
  {
   "cell_type": "code",
   "execution_count": 42,
   "id": "556567ff-5d09-4ce8-a4c4-ff710eb5a2f9",
   "metadata": {},
   "outputs": [
    {
     "name": "stdout",
     "output_type": "stream",
     "text": [
      "200\n",
      "300\n"
     ]
    }
   ],
   "source": [
    "x = 300\n",
    "\n",
    "def myfunc():\n",
    "  x = 200\n",
    "  print(x)\n",
    "\n",
    "myfunc()\n",
    "\n",
    "print(x)"
   ]
  },
  {
   "cell_type": "markdown",
   "id": "e96c744b-01eb-4e5b-8800-633d8ece92b7",
   "metadata": {},
   "source": [
    "Global Keyword"
   ]
  },
  {
   "cell_type": "markdown",
   "id": "f7840da4-8e60-4a44-af1a-b1f8c337a8dd",
   "metadata": {},
   "source": [
    "If you use the global keyword, the variable belongs to the global scope:"
   ]
  },
  {
   "cell_type": "code",
   "execution_count": 94,
   "id": "9a2ddea3-278e-4e5a-8745-3e174f334b12",
   "metadata": {},
   "outputs": [
    {
     "name": "stdout",
     "output_type": "stream",
     "text": [
      "300\n"
     ]
    }
   ],
   "source": [
    "def myfunc():\n",
    "    global x\n",
    "    x = 300\n",
    "\n",
    "myfunc()\n",
    "\n",
    "print(x)"
   ]
  },
  {
   "cell_type": "markdown",
   "id": "19ffb8a7-72f5-48d3-8ce3-2580f8964861",
   "metadata": {},
   "source": [
    "To change the value of a global variable inside a function, refer to the variable by using the global keyword:"
   ]
  },
  {
   "cell_type": "code",
   "execution_count": 97,
   "id": "00a62890-be1b-4b8e-aac2-12b284fbc1a9",
   "metadata": {},
   "outputs": [
    {
     "name": "stdout",
     "output_type": "stream",
     "text": [
      "200\n"
     ]
    }
   ],
   "source": [
    "x = 300\n",
    "\n",
    "def myfunc():\n",
    "  global x\n",
    "  x = 200\n",
    "\n",
    "myfunc()\n",
    "\n",
    "print(x)"
   ]
  },
  {
   "cell_type": "markdown",
   "id": "3569c933-636d-4ed4-8991-d1faaea2390f",
   "metadata": {},
   "source": [
    "If you use the nonlocal keyword, the variable will belong to the outer function:"
   ]
  },
  {
   "cell_type": "code",
   "execution_count": 18,
   "id": "4e30e019-2715-4206-9f66-1d4bcd2630bd",
   "metadata": {},
   "outputs": [
    {
     "name": "stdout",
     "output_type": "stream",
     "text": [
      "hello\n"
     ]
    }
   ],
   "source": [
    "def myfunc1():\n",
    "  x = \"Jane\"\n",
    "  def myfunc2():\n",
    "    nonlocal x\n",
    "    x = \"hello\"\n",
    "  myfunc2()\n",
    "  return x\n",
    "\n",
    "print(myfunc1())"
   ]
  },
  {
   "cell_type": "markdown",
   "id": "4632c53a-2d70-4d09-a550-9afdaa96a392",
   "metadata": {},
   "source": [
    "Python Datetime"
   ]
  },
  {
   "cell_type": "markdown",
   "id": "a64113c8-af3a-45d3-9bb9-80bf6345dda4",
   "metadata": {},
   "source": [
    "Import the datetime module and display the current date:"
   ]
  },
  {
   "cell_type": "code",
   "execution_count": 22,
   "id": "86e08db4-c8e6-4ee2-afbe-67d81775fd97",
   "metadata": {},
   "outputs": [
    {
     "name": "stdout",
     "output_type": "stream",
     "text": [
      "2025-02-18 11:33:14.364119\n"
     ]
    }
   ],
   "source": [
    "import datetime\n",
    "\n",
    "x = datetime.datetime.now()\n",
    "print(x)"
   ]
  },
  {
   "cell_type": "markdown",
   "id": "ab2f73ca-ab1f-4cb6-8697-60de2beaa363",
   "metadata": {},
   "source": [
    "Return the year and name of weekday:"
   ]
  },
  {
   "cell_type": "code",
   "execution_count": 25,
   "id": "55095fa9-dd04-4dd3-8ed9-165bce2814b2",
   "metadata": {},
   "outputs": [
    {
     "name": "stdout",
     "output_type": "stream",
     "text": [
      "2025\n",
      "Tuesday\n"
     ]
    }
   ],
   "source": [
    "import datetime\n",
    "\n",
    "x = datetime.datetime.now()\n",
    "\n",
    "print(x.year)\n",
    "print(x.strftime(\"%A\"))"
   ]
  },
  {
   "cell_type": "markdown",
   "id": "70a84c07-f21c-48ed-8756-6ae2d45954e3",
   "metadata": {},
   "source": [
    "Create a date object:"
   ]
  },
  {
   "cell_type": "code",
   "execution_count": 28,
   "id": "13ac7cd4-1511-4c49-826b-2e36bf6434a8",
   "metadata": {},
   "outputs": [
    {
     "name": "stdout",
     "output_type": "stream",
     "text": [
      "2020-05-17 00:00:00\n"
     ]
    }
   ],
   "source": [
    "import datetime\n",
    "\n",
    "x = datetime.datetime(2020, 5, 17)\n",
    "\n",
    "print(x)"
   ]
  },
  {
   "cell_type": "markdown",
   "id": "4e077847-92b7-4b8a-b5bd-92ab9765d52f",
   "metadata": {},
   "source": [
    "Display the name of the month:"
   ]
  },
  {
   "cell_type": "code",
   "execution_count": 31,
   "id": "1ada4081-5ea7-4f90-996e-e4399a691573",
   "metadata": {},
   "outputs": [
    {
     "name": "stdout",
     "output_type": "stream",
     "text": [
      "June\n"
     ]
    }
   ],
   "source": [
    "import datetime\n",
    "\n",
    "x = datetime.datetime(2018, 6, 1)\n",
    "\n",
    "print(x.strftime(\"%B\"))"
   ]
  },
  {
   "cell_type": "markdown",
   "id": "31072850-2b3e-4e01-9877-14eb98a19c64",
   "metadata": {},
   "source": [
    "Python Math"
   ]
  },
  {
   "cell_type": "markdown",
   "id": "14a6d613-4928-488d-9338-149cbc9eaca0",
   "metadata": {},
   "source": [
    "The min() and max() functions can be used to find the lowest or highest value in an iterable:"
   ]
  },
  {
   "cell_type": "code",
   "execution_count": 37,
   "id": "89b6d24b-323f-45e7-8806-a4a805e4db6e",
   "metadata": {},
   "outputs": [
    {
     "name": "stdout",
     "output_type": "stream",
     "text": [
      "5\n",
      "25\n"
     ]
    }
   ],
   "source": [
    "x = min(5, 10, 25)\n",
    "y = max(5, 10, 25)\n",
    "\n",
    "print(x)\n",
    "print(y)"
   ]
  },
  {
   "cell_type": "markdown",
   "id": "c96a50e2-ce52-4b6a-9397-b29a32112d98",
   "metadata": {},
   "source": [
    "The abs() function returns the absolute (positive) value of the specified number:"
   ]
  },
  {
   "cell_type": "code",
   "execution_count": 40,
   "id": "f80fb636-5bbe-4ceb-8415-8d9b89bf26d0",
   "metadata": {},
   "outputs": [
    {
     "name": "stdout",
     "output_type": "stream",
     "text": [
      "7.25\n"
     ]
    }
   ],
   "source": [
    "x = abs(-7.25)\n",
    "\n",
    "print(x)"
   ]
  },
  {
   "cell_type": "markdown",
   "id": "27180896-bd49-4a3b-9aa1-ccaadc3b6940",
   "metadata": {},
   "source": [
    "Return the value of 4 to the power of 3 (same as 4 * 4 * 4):"
   ]
  },
  {
   "cell_type": "code",
   "execution_count": 43,
   "id": "b51ec4e9-384f-4282-83a8-66e9a8626ea6",
   "metadata": {},
   "outputs": [
    {
     "name": "stdout",
     "output_type": "stream",
     "text": [
      "64\n"
     ]
    }
   ],
   "source": [
    "x = pow(4, 3)\n",
    "\n",
    "print(x)"
   ]
  },
  {
   "cell_type": "markdown",
   "id": "b14a2440-f51c-4394-a21e-16af6e257483",
   "metadata": {},
   "source": [
    "Python has also a built-in module called math, which extends the list of mathematical functions."
   ]
  },
  {
   "cell_type": "code",
   "execution_count": 46,
   "id": "6d0713c4-bc3f-405a-934e-6d5f9c8ea8ca",
   "metadata": {},
   "outputs": [
    {
     "name": "stdout",
     "output_type": "stream",
     "text": [
      "8.0\n"
     ]
    }
   ],
   "source": [
    "import math\n",
    "\n",
    "x = math.sqrt(64)\n",
    "\n",
    "print(x)"
   ]
  },
  {
   "cell_type": "markdown",
   "id": "0707bfe3-b489-46d9-b5ef-c7a6ea1583ed",
   "metadata": {},
   "source": [
    "The math.ceil() method rounds a number upwards to its nearest integer, and the math.floor() method rounds a number downwards to its nearest integer, and returns the result:"
   ]
  },
  {
   "cell_type": "code",
   "execution_count": 49,
   "id": "0d95c76a-19c9-4b2f-b6c7-18f9f42a9720",
   "metadata": {},
   "outputs": [
    {
     "name": "stdout",
     "output_type": "stream",
     "text": [
      "2\n",
      "1\n"
     ]
    }
   ],
   "source": [
    "import math\n",
    "\n",
    "x = math.ceil(1.4)\n",
    "y = math.floor(1.4)\n",
    "\n",
    "print(x) # returns 2\n",
    "print(y) # returns 1"
   ]
  },
  {
   "cell_type": "markdown",
   "id": "a25601f9-b83e-4b8b-8ada-27903162c039",
   "metadata": {},
   "source": [
    "The math.pi constant, returns the value of PI (3.14...):"
   ]
  },
  {
   "cell_type": "code",
   "execution_count": 52,
   "id": "a88a8288-e784-4338-ad3c-9cc3aab3a7a5",
   "metadata": {},
   "outputs": [
    {
     "name": "stdout",
     "output_type": "stream",
     "text": [
      "3.141592653589793\n"
     ]
    }
   ],
   "source": [
    "import math\n",
    "\n",
    "x = math.pi\n",
    "\n",
    "print(x)"
   ]
  },
  {
   "cell_type": "markdown",
   "id": "38eee591-8fba-4a33-bc6d-ba473471b8de",
   "metadata": {},
   "source": [
    "Python JSON"
   ]
  },
  {
   "cell_type": "markdown",
   "id": "99c9732c-f878-4574-98f4-2dd6ffe6d66f",
   "metadata": {},
   "source": [
    "If you have a JSON string, you can parse it by using the json.loads() method."
   ]
  },
  {
   "cell_type": "markdown",
   "id": "0fcddd20-b13b-45e6-ab54-2024264867fd",
   "metadata": {},
   "source": [
    "Convert from JSON to Python:"
   ]
  },
  {
   "cell_type": "code",
   "execution_count": 57,
   "id": "1faae5bd-8f05-4c1e-bfbb-584ef9eda0b3",
   "metadata": {},
   "outputs": [
    {
     "name": "stdout",
     "output_type": "stream",
     "text": [
      "30\n"
     ]
    }
   ],
   "source": [
    "import json\n",
    "\n",
    "# some JSON:\n",
    "x =  '{ \"name\":\"John\", \"age\":30, \"city\":\"New York\"}'\n",
    "\n",
    "# parse x:\n",
    "y = json.loads(x)\n",
    "\n",
    "# the result is a Python dictionary:\n",
    "print(y[\"age\"])"
   ]
  },
  {
   "cell_type": "markdown",
   "id": "ed7fe2b7-db48-45c0-b70f-5926405253da",
   "metadata": {},
   "source": [
    "Convert from Python to JSON:"
   ]
  },
  {
   "cell_type": "code",
   "execution_count": 60,
   "id": "6dcf792c-022f-4412-89ff-ab524429b7e3",
   "metadata": {},
   "outputs": [
    {
     "name": "stdout",
     "output_type": "stream",
     "text": [
      "{\"name\": \"John\", \"age\": 30, \"city\": \"New York\"}\n"
     ]
    }
   ],
   "source": [
    "import json\n",
    "\n",
    "# a Python object (dict):\n",
    "x = {\n",
    "  \"name\": \"John\",\n",
    "  \"age\": 30,\n",
    "  \"city\": \"New York\"\n",
    "}\n",
    "\n",
    "# convert into JSON:\n",
    "y = json.dumps(x)\n",
    "\n",
    "# the result is a JSON string:\n",
    "print(y)"
   ]
  },
  {
   "cell_type": "markdown",
   "id": "d9fdd42d-a404-452b-8a86-cc70c1442d2f",
   "metadata": {},
   "source": [
    "Convert Python objects into JSON strings, and print the values:"
   ]
  },
  {
   "cell_type": "code",
   "execution_count": 63,
   "id": "c4d43429-36c8-4eff-9f44-810251445cd2",
   "metadata": {},
   "outputs": [
    {
     "name": "stdout",
     "output_type": "stream",
     "text": [
      "{\"name\": \"John\", \"age\": 30}\n",
      "[\"apple\", \"bananas\"]\n",
      "[\"apple\", \"bananas\"]\n",
      "\"hello\"\n",
      "42\n",
      "31.76\n",
      "true\n",
      "false\n",
      "null\n"
     ]
    }
   ],
   "source": [
    "import json\n",
    "\n",
    "print(json.dumps({\"name\": \"John\", \"age\": 30}))\n",
    "print(json.dumps([\"apple\", \"bananas\"]))\n",
    "print(json.dumps((\"apple\", \"bananas\")))\n",
    "print(json.dumps(\"hello\"))\n",
    "print(json.dumps(42))\n",
    "print(json.dumps(31.76))\n",
    "print(json.dumps(True))\n",
    "print(json.dumps(False))\n",
    "print(json.dumps(None))"
   ]
  },
  {
   "cell_type": "markdown",
   "id": "99d1e6c6-cc06-41bb-b42f-f9abf7aef3c0",
   "metadata": {},
   "source": [
    "Convert a Python object containing all the legal data types:"
   ]
  },
  {
   "cell_type": "code",
   "execution_count": 66,
   "id": "919db5b7-2c41-40ad-b873-05d86b784805",
   "metadata": {},
   "outputs": [
    {
     "name": "stdout",
     "output_type": "stream",
     "text": [
      "{\"name\": \"John\", \"age\": 30, \"married\": true, \"divorced\": false, \"children\": [\"Ann\", \"Billy\"], \"pets\": null, \"cars\": [{\"model\": \"BMW 230\", \"mpg\": 27.5}, {\"model\": \"Ford Edge\", \"mpg\": 24.1}]}\n"
     ]
    }
   ],
   "source": [
    "import json\n",
    "\n",
    "x = {\n",
    "  \"name\": \"John\",\n",
    "  \"age\": 30,\n",
    "  \"married\": True,\n",
    "  \"divorced\": False,\n",
    "  \"children\": (\"Ann\",\"Billy\"),\n",
    "  \"pets\": None,\n",
    "  \"cars\": [\n",
    "    {\"model\": \"BMW 230\", \"mpg\": 27.5},\n",
    "    {\"model\": \"Ford Edge\", \"mpg\": 24.1}\n",
    "  ]\n",
    "}\n",
    "\n",
    "print(json.dumps(x))"
   ]
  },
  {
   "cell_type": "markdown",
   "id": "3f0b46ca-73f2-4291-9d28-d3cc977e0263",
   "metadata": {},
   "source": [
    "Use the indent parameter to define the numbers of indents:"
   ]
  },
  {
   "cell_type": "code",
   "execution_count": 70,
   "id": "2647d832-d4b6-4f33-8ad8-5211934f08f4",
   "metadata": {},
   "outputs": [
    {
     "data": {
      "text/plain": [
       "'{\\n    \"name\": \"John\",\\n    \"age\": 30,\\n    \"married\": true,\\n    \"divorced\": false,\\n    \"children\": [\\n        \"Ann\",\\n        \"Billy\"\\n    ],\\n    \"pets\": null,\\n    \"cars\": [\\n        {\\n            \"model\": \"BMW 230\",\\n            \"mpg\": 27.5\\n        },\\n        {\\n            \"model\": \"Ford Edge\",\\n            \"mpg\": 24.1\\n        }\\n    ]\\n}'"
      ]
     },
     "execution_count": 70,
     "metadata": {},
     "output_type": "execute_result"
    }
   ],
   "source": [
    "json.dumps(x, indent=4)"
   ]
  },
  {
   "cell_type": "markdown",
   "id": "3081a96c-a926-4f11-83f6-7281c7fb8448",
   "metadata": {},
   "source": [
    "Use the separators parameter to change the default separator:"
   ]
  },
  {
   "cell_type": "code",
   "execution_count": 73,
   "id": "1da3f4e0-9547-441a-8e14-d84dfa7f8145",
   "metadata": {},
   "outputs": [
    {
     "data": {
      "text/plain": [
       "'{\\n    \"name\" = \"John\". \\n    \"age\" = 30. \\n    \"married\" = true. \\n    \"divorced\" = false. \\n    \"children\" = [\\n        \"Ann\". \\n        \"Billy\"\\n    ]. \\n    \"pets\" = null. \\n    \"cars\" = [\\n        {\\n            \"model\" = \"BMW 230\". \\n            \"mpg\" = 27.5\\n        }. \\n        {\\n            \"model\" = \"Ford Edge\". \\n            \"mpg\" = 24.1\\n        }\\n    ]\\n}'"
      ]
     },
     "execution_count": 73,
     "metadata": {},
     "output_type": "execute_result"
    }
   ],
   "source": [
    "json.dumps(x, indent=4, separators=(\". \", \" = \"))"
   ]
  },
  {
   "cell_type": "markdown",
   "id": "aecfe37c-156e-4268-9a0e-fbd0553252b0",
   "metadata": {},
   "source": [
    "Use the sort_keys parameter to specify if the result should be sorted or not:"
   ]
  },
  {
   "cell_type": "code",
   "execution_count": 78,
   "id": "e061cde3-0487-4163-8641-bed7cdb2a2dd",
   "metadata": {},
   "outputs": [
    {
     "data": {
      "text/plain": [
       "'{\\n    \"age\": 30,\\n    \"cars\": [\\n        {\\n            \"model\": \"BMW 230\",\\n            \"mpg\": 27.5\\n        },\\n        {\\n            \"model\": \"Ford Edge\",\\n            \"mpg\": 24.1\\n        }\\n    ],\\n    \"children\": [\\n        \"Ann\",\\n        \"Billy\"\\n    ],\\n    \"divorced\": false,\\n    \"married\": true,\\n    \"name\": \"John\",\\n    \"pets\": null\\n}'"
      ]
     },
     "execution_count": 78,
     "metadata": {},
     "output_type": "execute_result"
    }
   ],
   "source": [
    "json.dumps(x, indent=4, sort_keys=True)"
   ]
  },
  {
   "cell_type": "markdown",
   "id": "af125df3-c1e8-4e66-aaa6-67a7ba1c68bc",
   "metadata": {},
   "source": [
    "Math exercises:"
   ]
  },
  {
   "cell_type": "code",
   "execution_count": 110,
   "id": "46181ae9-1632-4f16-b02f-a26dfa23c5d2",
   "metadata": {},
   "outputs": [
    {
     "name": "stdin",
     "output_type": "stream",
     "text": [
      "Input degree: 15\n"
     ]
    },
    {
     "ename": "ValueError",
     "evalue": "Format specifier missing precision",
     "output_type": "error",
     "traceback": [
      "\u001b[1;31m---------------------------------------------------------------------------\u001b[0m",
      "\u001b[1;31mValueError\u001b[0m                                Traceback (most recent call last)",
      "Cell \u001b[1;32mIn[110], line 4\u001b[0m\n\u001b[0;32m      2\u001b[0m x \u001b[38;5;241m=\u001b[39m \u001b[38;5;28mint\u001b[39m(\u001b[38;5;28minput\u001b[39m(\u001b[38;5;124m\"\u001b[39m\u001b[38;5;124mInput degree:\u001b[39m\u001b[38;5;124m\"\u001b[39m))\n\u001b[0;32m      3\u001b[0m result \u001b[38;5;241m=\u001b[39m math\u001b[38;5;241m.\u001b[39mradians(x)\n\u001b[1;32m----> 4\u001b[0m \u001b[38;5;28mprint\u001b[39m(\u001b[38;5;124mf\u001b[39m\u001b[38;5;124m\"\u001b[39m\u001b[38;5;132;01m{\u001b[39;00mresult\u001b[38;5;132;01m:\u001b[39;00m\u001b[38;5;124m.f4\u001b[39m\u001b[38;5;132;01m}\u001b[39;00m\u001b[38;5;124m\"\u001b[39m)\n",
      "\u001b[1;31mValueError\u001b[0m: Format specifier missing precision"
     ]
    }
   ],
   "source": [
    "# import math\n",
    "x = int(input(\"Input degree:\"))\n",
    "result = math.radians(x)\n",
    "print(f\"{result:.f4}\")"
   ]
  },
  {
   "cell_type": "markdown",
   "id": "3ce09edc-8c49-4221-9955-6885fc9838e7",
   "metadata": {},
   "source": [
    "Math Exercises:"
   ]
  },
  {
   "cell_type": "code",
   "execution_count": 4,
   "id": "537eaa7d-24ad-4eb6-8dae-42a14068402d",
   "metadata": {},
   "outputs": [
    {
     "name": "stdin",
     "output_type": "stream",
     "text": [
      "Input degree:  15\n"
     ]
    },
    {
     "name": "stdout",
     "output_type": "stream",
     "text": [
      "Output radian:  0.2617993877991494\n"
     ]
    }
   ],
   "source": [
    "import math\n",
    "x = int(input(\"Input degree: \"))\n",
    "print(\"Output radian: \", math.radians(x))"
   ]
  },
  {
   "cell_type": "code",
   "execution_count": 10,
   "id": "673097ec-3c55-4326-8c21-1f685936f1b9",
   "metadata": {},
   "outputs": [
    {
     "name": "stdin",
     "output_type": "stream",
     "text": [
      "Height:  5\n",
      "Base, first value:  5\n",
      "Base, second value:  6\n"
     ]
    },
    {
     "name": "stdout",
     "output_type": "stream",
     "text": [
      "Expected Output:  27.5\n"
     ]
    }
   ],
   "source": [
    "x = int(input(\"Height: \"))\n",
    "y = int(input(\"Base, first value: \"))\n",
    "z = int(input(\"Base, second value: \"))\n",
    "print(\"Expected Output: \", float((y+z)/2) * x)"
   ]
  },
  {
   "cell_type": "code",
   "execution_count": 22,
   "id": "355a7d21-b472-47c6-a0ec-69055085981c",
   "metadata": {},
   "outputs": [
    {
     "name": "stdin",
     "output_type": "stream",
     "text": [
      "Input number of sides:  4\n",
      "Input the length of a side:  25\n"
     ]
    },
    {
     "name": "stdout",
     "output_type": "stream",
     "text": [
      "625\n"
     ]
    }
   ],
   "source": [
    "import math\n",
    "x = int(input(\"Input number of sides: \"))\n",
    "y = int(input(\"Input the length of a side: \"))\n",
    "print(int((x*math.pow(y, 2)) / (4*(math.tan(math.pi/x)))))"
   ]
  },
  {
   "cell_type": "code",
   "execution_count": 24,
   "id": "9061922c-b83b-4d52-b9c8-7cc14921e02c",
   "metadata": {},
   "outputs": [
    {
     "name": "stdin",
     "output_type": "stream",
     "text": [
      "Length of base:  4\n",
      "Height of parallelogram:  5\n"
     ]
    },
    {
     "name": "stdout",
     "output_type": "stream",
     "text": [
      "Expected output:  20.0\n"
     ]
    }
   ],
   "source": [
    "x = float(input(\"Length of base: \"))\n",
    "y = float(input(\"Height of parallelogram: \"))\n",
    "print(\"Expected output: \", x*y)"
   ]
  },
  {
   "cell_type": "markdown",
   "id": "a9e2fec2-075c-4f43-b639-a7dd612a8e71",
   "metadata": {},
   "source": [
    "Python iterators and generators Excercises:"
   ]
  },
  {
   "cell_type": "code",
   "execution_count": 51,
   "id": "d71e86e7-af8d-4d18-b1f3-04098783264a",
   "metadata": {},
   "outputs": [
    {
     "name": "stdin",
     "output_type": "stream",
     "text": [
      "Enter a number:  4\n"
     ]
    },
    {
     "name": "stdout",
     "output_type": "stream",
     "text": [
      "0 1 4 9 16 "
     ]
    }
   ],
   "source": [
    "def squareGen(n):\n",
    "    for i in range(n + 1):\n",
    "        yield i ** 2\n",
    "\n",
    "N = int(input(\"Enter a number: \"))\n",
    "for square in squareGen(N):\n",
    "    print(square, end=\" \")"
   ]
  },
  {
   "cell_type": "code",
   "execution_count": 45,
   "id": "19598220-b9c7-4b83-86ec-83ea51ff911a",
   "metadata": {},
   "outputs": [
    {
     "name": "stdin",
     "output_type": "stream",
     "text": [
      "Enter a number:  4\n"
     ]
    },
    {
     "name": "stdout",
     "output_type": "stream",
     "text": [
      "0, 2, 4\n"
     ]
    }
   ],
   "source": [
    "def evenGen(n):\n",
    "    for i in range(0, n + 1, 2):\n",
    "        yield i\n",
    "\n",
    "n = int(input(\"Enter a number: \"))\n",
    "print(\", \".join(map(str, evenGen(n))))"
   ]
  },
  {
   "cell_type": "code",
   "execution_count": 47,
   "id": "cec31544-c1e5-44c8-979f-e0a32e831d5e",
   "metadata": {},
   "outputs": [
    {
     "name": "stdin",
     "output_type": "stream",
     "text": [
      "Enter a number:  5\n"
     ]
    },
    {
     "name": "stdout",
     "output_type": "stream",
     "text": [
      "0 "
     ]
    }
   ],
   "source": [
    "def divisible_by_3_and_4(n):\n",
    "    for i in range(n + 1):\n",
    "        if i % 3 == 0 and i % 4 == 0:\n",
    "            yield i\n",
    "\n",
    "n = int(input(\"Enter a number: \"))\n",
    "for num in divisible_by_3_and_4(n):\n",
    "    print(num, end=\" \")"
   ]
  },
  {
   "cell_type": "code",
   "execution_count": 49,
   "id": "fbae5607-a53b-41b2-a128-705a49d116d0",
   "metadata": {},
   "outputs": [
    {
     "name": "stdin",
     "output_type": "stream",
     "text": [
      "Enter the start number:  4\n",
      "Enter the end number:  5\n"
     ]
    },
    {
     "name": "stdout",
     "output_type": "stream",
     "text": [
      "16 25 "
     ]
    }
   ],
   "source": [
    "def squares(a, b):\n",
    "    for i in range(a, b + 1):\n",
    "        yield i ** 2\n",
    "\n",
    "a = int(input(\"Enter the start number: \"))\n",
    "b = int(input(\"Enter the end number: \"))\n",
    "\n",
    "for square in squares(a, b):\n",
    "    print(square, end=\" \")"
   ]
  },
  {
   "cell_type": "code",
   "execution_count": 53,
   "id": "53c11ad7-d031-4568-8c17-3595886a40d0",
   "metadata": {},
   "outputs": [
    {
     "name": "stdin",
     "output_type": "stream",
     "text": [
      "Input the number:  5\n"
     ]
    },
    {
     "name": "stdout",
     "output_type": "stream",
     "text": [
      "5 4 3 2 1 0 "
     ]
    }
   ],
   "source": [
    "def gen(n):\n",
    "    for i in range(n, -1, -1):\n",
    "        yield i\n",
    "\n",
    "N = int(input(\"Input the number: \"))\n",
    "for num in gen(N):\n",
    "    print(num, end=\" \")"
   ]
  },
  {
   "cell_type": "markdown",
   "id": "2e4a9afc-25c7-4f0e-90bb-05b66fe9357e",
   "metadata": {},
   "source": [
    "Python date Excercises:"
   ]
  },
  {
   "cell_type": "code",
   "execution_count": 56,
   "id": "da44eb4f-727b-4cb4-a1d0-f26024e99269",
   "metadata": {},
   "outputs": [
    {
     "name": "stdout",
     "output_type": "stream",
     "text": [
      "Current Date: 2025-02-19\n",
      "Date after subtracting 5 days: 2025-02-14\n"
     ]
    }
   ],
   "source": [
    "from datetime import datetime, timedelta\n",
    "\n",
    "currentDate = datetime.today()\n",
    "newDate = currentDate - timedelta(days=5)\n",
    "\n",
    "print(\"Current Date:\", currentDate.date())\n",
    "print(\"Date after subtracting 5 days:\", newDate.date())"
   ]
  },
  {
   "cell_type": "code",
   "execution_count": 58,
   "id": "26e7528e-0ccc-4cc0-ab49-d6706aeb85e2",
   "metadata": {},
   "outputs": [
    {
     "name": "stdout",
     "output_type": "stream",
     "text": [
      "Yesterday: 2025-02-18\n",
      "Today: 2025-02-19\n",
      "Tomorrow: 2025-02-20\n"
     ]
    }
   ],
   "source": [
    "from datetime import datetime, timedelta\n",
    "\n",
    "today = datetime.today()\n",
    "yesterday = today - timedelta(days=1)\n",
    "tomorrow = today + timedelta(days=1)\n",
    "\n",
    "print(\"Yesterday:\", yesterday.date())\n",
    "print(\"Today:\", today.date())\n",
    "print(\"Tomorrow:\", tomorrow.date())"
   ]
  },
  {
   "cell_type": "code",
   "execution_count": 60,
   "id": "603b5823-1dcb-46ed-999e-85b8a07238ae",
   "metadata": {},
   "outputs": [
    {
     "name": "stdout",
     "output_type": "stream",
     "text": [
      "Original datetime: 2025-02-19 22:26:07.094891\n",
      "Datetime without microseconds: 2025-02-19 22:26:07\n"
     ]
    }
   ],
   "source": [
    "from datetime import datetime\n",
    "\n",
    "currentTime = datetime.now()\n",
    "newTime = currentTime.replace(microsecond=0)\n",
    "\n",
    "print(\"Original datetime:\", currentTime)\n",
    "print(\"Datetime without microseconds:\", newTime)\n"
   ]
  },
  {
   "cell_type": "code",
   "execution_count": 66,
   "id": "a5458f57-51f3-4567-948f-605c1e1a1121",
   "metadata": {},
   "outputs": [
    {
     "name": "stdin",
     "output_type": "stream",
     "text": [
      "Enter first date (YYYY-MM-DD HH:MM:SS):  2004-12-23 11:40:29\n",
      "Enter second date (YYYY-MM-DD HH:MM:SS):  2020-05-18 10:20:15\n"
     ]
    },
    {
     "name": "stdout",
     "output_type": "stream",
     "text": [
      "Difference in seconds: 485995186.0\n"
     ]
    }
   ],
   "source": [
    "from datetime import datetime\n",
    "\n",
    "date1_str = input(\"Enter first date (YYYY-MM-DD HH:MM:SS): \")\n",
    "date2_str = input(\"Enter second date (YYYY-MM-DD HH:MM:SS): \")\n",
    "\n",
    "date1 = datetime.strptime(date1_str, \"%Y-%m-%d %H:%M:%S\")\n",
    "date2 = datetime.strptime(date2_str, \"%Y-%m-%d %H:%M:%S\")\n",
    "\n",
    "difference = abs((date2 - date1).total_seconds())\n",
    "\n",
    "print(f\"Difference in seconds: {difference}\")"
   ]
  }
 ],
 "metadata": {
  "kernelspec": {
   "display_name": "Python [conda env:base] *",
   "language": "python",
   "name": "conda-base-py"
  },
  "language_info": {
   "codemirror_mode": {
    "name": "ipython",
    "version": 3
   },
   "file_extension": ".py",
   "mimetype": "text/x-python",
   "name": "python",
   "nbconvert_exporter": "python",
   "pygments_lexer": "ipython3",
   "version": "3.12.7"
  }
 },
 "nbformat": 4,
 "nbformat_minor": 5
}
