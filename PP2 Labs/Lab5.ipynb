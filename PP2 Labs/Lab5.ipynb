{
 "cells": [
  {
   "cell_type": "markdown",
   "id": "9b7238f4-cef0-4887-824f-b44677e278a8",
   "metadata": {},
   "source": [
    "Python RegEx"
   ]
  },
  {
   "cell_type": "markdown",
   "id": "dfee7ad1-59a3-4bf4-b705-9365a1fe77f8",
   "metadata": {},
   "source": [
    "Python has a built-in package called re, which can be used to work with Regular Expressions."
   ]
  },
  {
   "cell_type": "markdown",
   "id": "fbf8aa49-6537-46a2-86f7-2212ab0c36ef",
   "metadata": {},
   "source": [
    "Search the string to see if it starts with \"The\" and ends with \"Spain\":"
   ]
  },
  {
   "cell_type": "code",
   "execution_count": 8,
   "id": "9cbaf365-cb66-4d9b-8899-986db7435f45",
   "metadata": {},
   "outputs": [],
   "source": [
    "import re\n",
    "\n",
    "txt = \"The rain in Spain\"\n",
    "x = re.search(\"^The.*Spain$\", txt)"
   ]
  },
  {
   "cell_type": "markdown",
   "id": "85483902-75be-413c-b32a-9306d724d054",
   "metadata": {},
   "source": [
    "The re module offers a set of functions that allows us to search a string for a match:"
   ]
  },
  {
   "cell_type": "markdown",
   "id": "2a28c6aa-bfde-4613-a2d1-ea56065b8693",
   "metadata": {},
   "source": [
    "findall() function:"
   ]
  },
  {
   "cell_type": "markdown",
   "id": "bb6344e3-e4c1-4d1c-a3d9-da495f150a7d",
   "metadata": {},
   "source": [
    "Print a list of all matches:"
   ]
  },
  {
   "cell_type": "code",
   "execution_count": 13,
   "id": "5f86e3e3-c06c-4bc5-a7c4-f434a8e030e1",
   "metadata": {},
   "outputs": [
    {
     "name": "stdout",
     "output_type": "stream",
     "text": [
      "['ai', 'ai']\n"
     ]
    }
   ],
   "source": [
    "import re\n",
    "\n",
    "txt = \"The rain in Spain\"\n",
    "x = re.findall(\"ai\", txt)\n",
    "print(x)"
   ]
  },
  {
   "cell_type": "markdown",
   "id": "7a3e1501-44e9-4591-b582-924fd48e9f41",
   "metadata": {},
   "source": [
    "Return an empty list if no match was found:"
   ]
  },
  {
   "cell_type": "code",
   "execution_count": 16,
   "id": "96334d00-c5ae-4602-9a93-1099ae11256c",
   "metadata": {},
   "outputs": [
    {
     "name": "stdout",
     "output_type": "stream",
     "text": [
      "[]\n"
     ]
    }
   ],
   "source": [
    "import re\n",
    "\n",
    "txt = \"The rain in Spain\"\n",
    "x = re.findall(\"Portugal\", txt)\n",
    "print(x)"
   ]
  },
  {
   "cell_type": "markdown",
   "id": "69780de9-5d3c-4449-881b-5fd6dbff1666",
   "metadata": {},
   "source": [
    "search() function:"
   ]
  },
  {
   "cell_type": "markdown",
   "id": "7793a2a0-7528-45bd-8db8-2b31ce5401b9",
   "metadata": {},
   "source": [
    "The search() function searches the string for a match, and returns a Match object if there is a match."
   ]
  },
  {
   "cell_type": "markdown",
   "id": "b294b996-94fb-4688-9d8c-0728cb0d8d5a",
   "metadata": {},
   "source": [
    "Search for the first white-space character in the string:"
   ]
  },
  {
   "cell_type": "code",
   "execution_count": 27,
   "id": "ca4e65de-ea13-476d-9320-f6aa37bff993",
   "metadata": {},
   "outputs": [
    {
     "name": "stdout",
     "output_type": "stream",
     "text": [
      "The first white-space character is located in position: 3\n"
     ]
    }
   ],
   "source": [
    "import re\n",
    "\n",
    "txt = \"The rain in Spain\"\n",
    "x = re.search(\" \", txt)\n",
    "\n",
    "print(\"The first white-space character is located in position:\", x.start())"
   ]
  },
  {
   "cell_type": "markdown",
   "id": "69d7e5b7-19ca-45c6-a7b4-a02e43a22ce5",
   "metadata": {},
   "source": [
    "Make a search that returns no match:"
   ]
  },
  {
   "cell_type": "code",
   "execution_count": 20,
   "id": "235b8b46-8337-4335-aeeb-96c5dade084d",
   "metadata": {},
   "outputs": [
    {
     "name": "stdout",
     "output_type": "stream",
     "text": [
      "None\n"
     ]
    }
   ],
   "source": [
    "import re\n",
    "\n",
    "txt = \"The rain in Spain\"\n",
    "x = re.search(\"Portugal\", txt)\n",
    "print(x)"
   ]
  },
  {
   "cell_type": "markdown",
   "id": "fd5ed6c9-1fcf-4eda-a6ad-f015c94a0a03",
   "metadata": {},
   "source": [
    "split() function:"
   ]
  },
  {
   "cell_type": "markdown",
   "id": "a7c90809-1f2d-4c2d-a4c2-1382629481f1",
   "metadata": {},
   "source": [
    "Split at each white-space character:"
   ]
  },
  {
   "cell_type": "code",
   "execution_count": 25,
   "id": "53a250eb-538e-4347-be37-7b31ae7990a7",
   "metadata": {},
   "outputs": [
    {
     "name": "stdout",
     "output_type": "stream",
     "text": [
      "['The', 'rain', 'in', 'Spain']\n"
     ]
    }
   ],
   "source": [
    "import re\n",
    "\n",
    "txt = \"The rain in Spain\"\n",
    "x = re.split(\" \", txt)\n",
    "print(x)"
   ]
  },
  {
   "cell_type": "markdown",
   "id": "cb6d2cd8-df2a-44c3-9e3b-605a22da437b",
   "metadata": {},
   "source": [
    "Split the string only at the first occurrence:"
   ]
  },
  {
   "cell_type": "code",
   "execution_count": 23,
   "id": "24b2cb57-7ca1-45ab-8056-442d82a4405d",
   "metadata": {},
   "outputs": [
    {
     "name": "stdout",
     "output_type": "stream",
     "text": [
      "['The', 'rain', 'in Spain']\n"
     ]
    }
   ],
   "source": [
    "import re\n",
    "\n",
    "txt = \"The rain in Spain\"\n",
    "x = re.split(\" \", txt, 2)\n",
    "print(x)"
   ]
  },
  {
   "cell_type": "markdown",
   "id": "10c82b46-6e16-4f20-a5b9-8fc5bb61e344",
   "metadata": {},
   "source": [
    "sub() function:"
   ]
  },
  {
   "cell_type": "markdown",
   "id": "a01f6eb4-03b2-4b2f-9118-ed47bcdeabde",
   "metadata": {},
   "source": [
    "Replace every white-space character with the number 9:"
   ]
  },
  {
   "cell_type": "code",
   "execution_count": 21,
   "id": "a17d4bed-0863-4453-a7c8-8ded2e4d224e",
   "metadata": {},
   "outputs": [
    {
     "name": "stdout",
     "output_type": "stream",
     "text": [
      "The9rain9in9Spain\n"
     ]
    }
   ],
   "source": [
    "import re\n",
    "\n",
    "txt = \"The rain in Spain\"\n",
    "x = re.sub(\" \", \"9\", txt)\n",
    "print(x)"
   ]
  },
  {
   "cell_type": "markdown",
   "id": "348698b4-2bf1-4c2f-882a-7998ab61e518",
   "metadata": {},
   "source": [
    "Replace the first 2 occurrences:"
   ]
  },
  {
   "cell_type": "code",
   "execution_count": 31,
   "id": "5e17a102-0ae4-45b5-acae-163d8dcd3c08",
   "metadata": {},
   "outputs": [
    {
     "name": "stdout",
     "output_type": "stream",
     "text": [
      "The9rain9in Spain\n"
     ]
    }
   ],
   "source": [
    "import re\n",
    "\n",
    "txt = \"The rain in Spain\"\n",
    "x = re.sub(\" \", \"9\", txt, 2)\n",
    "print(x)"
   ]
  },
  {
   "cell_type": "markdown",
   "id": "818493bf-a86f-4426-9ce4-95998faf97e2",
   "metadata": {},
   "source": [
    "Match Object"
   ]
  },
  {
   "cell_type": "markdown",
   "id": "b8ff7b43-bc28-4fbd-9dc0-0657da1788ad",
   "metadata": {},
   "source": [
    "Do a search that will return a Match Object:"
   ]
  },
  {
   "cell_type": "code",
   "execution_count": 37,
   "id": "04fe76ce-9f61-447b-a6d1-5ab864c2b67f",
   "metadata": {},
   "outputs": [
    {
     "name": "stdout",
     "output_type": "stream",
     "text": [
      "<re.Match object; span=(5, 7), match='ai'>\n"
     ]
    }
   ],
   "source": [
    "import re\n",
    "\n",
    "txt = \"The rain in Spain\"\n",
    "x = re.search(\"ai\", txt)\n",
    "print(x)"
   ]
  },
  {
   "cell_type": "markdown",
   "id": "e11147a9-bf91-4d55-a72c-b8f0d98189e0",
   "metadata": {},
   "source": [
    "Print the position (start- and end-position) of the first match occurrence."
   ]
  },
  {
   "cell_type": "markdown",
   "id": "970e21c9-7468-4bc8-8cdf-ba4c4bfec836",
   "metadata": {},
   "source": [
    "The regular expression looks for any words that starts with an upper case \"S\":"
   ]
  },
  {
   "cell_type": "code",
   "execution_count": 41,
   "id": "c33fd294-43a9-4a6b-b7e1-6387366c7ac9",
   "metadata": {},
   "outputs": [
    {
     "name": "stdout",
     "output_type": "stream",
     "text": [
      "(12, 17)\n"
     ]
    }
   ],
   "source": [
    "import re\n",
    "\n",
    "txt = \"The rain in Spain\"\n",
    "x = re.search(r\"\\bS\\w+\", txt)\n",
    "print(x.span())"
   ]
  },
  {
   "cell_type": "markdown",
   "id": "d274c553-97c1-4397-8520-9ca715e2b6bd",
   "metadata": {},
   "source": [
    "Print the string passed into the function:"
   ]
  },
  {
   "cell_type": "code",
   "execution_count": 44,
   "id": "139b40eb-4b9a-4e04-ba7c-bedc75ff299d",
   "metadata": {},
   "outputs": [
    {
     "name": "stdout",
     "output_type": "stream",
     "text": [
      "The rain in Spain\n"
     ]
    }
   ],
   "source": [
    "import re\n",
    "\n",
    "txt = \"The rain in Spain\"\n",
    "x = re.search(r\"\\bS\\w+\", txt)\n",
    "print(x.string)"
   ]
  },
  {
   "cell_type": "markdown",
   "id": "8ecd8ac1-19b4-49a6-ae58-652aa9e50f07",
   "metadata": {},
   "source": [
    "Print the part of the string where there was a match."
   ]
  },
  {
   "cell_type": "markdown",
   "id": "93e6e7e6-efab-4d80-8978-f6eeaa70b182",
   "metadata": {},
   "source": [
    "The regular expression looks for any words that starts with an upper case \"S\":"
   ]
  },
  {
   "cell_type": "code",
   "execution_count": 48,
   "id": "17200a85-07fc-4f6d-9566-6ce36d5d1ada",
   "metadata": {},
   "outputs": [
    {
     "name": "stdout",
     "output_type": "stream",
     "text": [
      "Spain\n"
     ]
    }
   ],
   "source": [
    "import re\n",
    "\n",
    "txt = \"The rain in Spain\"\n",
    "x = re.search(r\"\\bS\\w+\", txt)\n",
    "print(x.group())"
   ]
  },
  {
   "cell_type": "markdown",
   "id": "f3d52d60-3a9c-420a-8906-4ae2afedde10",
   "metadata": {},
   "source": [
    "RegEx Exercises:"
   ]
  },
  {
   "cell_type": "markdown",
   "id": "055a16bf-90ad-4be5-b8bb-c8404ca8ef9b",
   "metadata": {},
   "source": [
    "Task 1:"
   ]
  },
  {
   "cell_type": "code",
   "execution_count": 50,
   "id": "4b9edfb1-e2bf-4422-9d2f-693dfdba51f5",
   "metadata": {},
   "outputs": [
    {
     "name": "stdout",
     "output_type": "stream",
     "text": [
      "a: Match found\n",
      "ab: Match found\n",
      "abba: Match not found\n",
      "abbbbbbbb: Match found\n",
      "aab: Match not found\n",
      "baa: Match not found\n"
     ]
    }
   ],
   "source": [
    "import re\n",
    "\n",
    "def matchString(txt):\n",
    "    pattern = r\"ab*\" #check for one a and then any ammount of b\n",
    "    if re.fullmatch(pattern, txt):\n",
    "        return \"Match found\"\n",
    "    else:\n",
    "        return \"Match not found\"\n",
    "\n",
    "myListOfStrings = [\"a\", \"ab\", \"abba\", \"abbbbbbbb\", \"aab\", \"baa\"]\n",
    "for string in myListOfStrings:\n",
    "    print(f\"{string}: {matchString(string)}\")"
   ]
  },
  {
   "cell_type": "markdown",
   "id": "9dc2ed21-e884-454e-bfa2-b64bb51c7ed9",
   "metadata": {},
   "source": [
    "Task 2:"
   ]
  },
  {
   "cell_type": "code",
   "execution_count": 48,
   "id": "2d805251-e892-4bac-9d8f-ac2c4e428af9",
   "metadata": {},
   "outputs": [
    {
     "name": "stdout",
     "output_type": "stream",
     "text": [
      "a: Match not found\n",
      "ab: Match not found\n",
      "abba: Match not found\n",
      "abb: Match found\n",
      "aab: Match not found\n",
      "ba: Match not found\n",
      "abbb: Match found\n",
      "abbbb: Match not found\n"
     ]
    }
   ],
   "source": [
    "import re\n",
    "\n",
    "def matchString(txt):\n",
    "    pattern = r\"ab{2,3}\" #check for one a and then for 2 or 3 b's\n",
    "    if re.fullmatch(pattern, txt):\n",
    "        return \"Match found\"\n",
    "    else:\n",
    "        return \"Match not found\"\n",
    "\n",
    "myListOfStrings = [\"a\", \"ab\", \"abba\", \"abb\", \"aab\", \"ba\", \"abbb\", \"abbbb\"]\n",
    "for string in myListOfStrings:\n",
    "    print(f\"{string}: {matchString(string)}\")"
   ]
  },
  {
   "cell_type": "markdown",
   "id": "4b1a918c-3699-48f9-a5f5-3534802ded83",
   "metadata": {},
   "source": [
    "Task 3:"
   ]
  },
  {
   "cell_type": "code",
   "execution_count": 44,
   "id": "a537dfc8-b30f-4dae-8727-0b4de7a36c5e",
   "metadata": {},
   "outputs": [
    {
     "name": "stdout",
     "output_type": "stream",
     "text": [
      "hello_world: Match found\n",
      "my_name_is: Match found\n",
      "Test_String: Match not found\n",
      "no_underscore: Match found\n",
      "one_two_three: Match found\n",
      "UPPER_CASE: Match not found\n",
      "snake_case_example: Match found\n"
     ]
    }
   ],
   "source": [
    "import re\n",
    "\n",
    "def matchString(txt):\n",
    "    pattern = r\"[a-z]+(_[a-z]+)+\" # finds all lowercase words followed with underscore sign\n",
    "    if re.fullmatch(pattern, txt):\n",
    "        return \"Match found\"\n",
    "    else:\n",
    "        return \"Match not found\"\n",
    "\n",
    "myListOfStrings = [\n",
    "    \"hello_world\",\n",
    "    \"my_name_is\",\n",
    "    \"Test_String\",\n",
    "    \"no_underscore\",\n",
    "    \"one_two_three\",\n",
    "    \"UPPER_CASE\",\n",
    "    \"snake_case_example\"\n",
    "]\n",
    "\n",
    "for string in myListOfStrings:\n",
    "    print(f\"{string}: {matchString(string)}\")"
   ]
  },
  {
   "cell_type": "markdown",
   "id": "0e2e4e68-8a4c-44c0-97c8-12a480f01994",
   "metadata": {},
   "source": [
    "Task 4:"
   ]
  },
  {
   "cell_type": "code",
   "execution_count": 67,
   "id": "62357770-6056-466a-b54a-01ae7ee3df4a",
   "metadata": {},
   "outputs": [
    {
     "name": "stdout",
     "output_type": "stream",
     "text": [
      "Hello World: Match found\n",
      "Python is Fun: Match found\n",
      "This is a Test: Match found\n",
      "PYTHON is great: Match not found\n",
      "hello world: Match not found\n",
      "camelCaseExample: Match found\n"
     ]
    }
   ],
   "source": [
    "import re\n",
    "\n",
    "def matchString(txt):\n",
    "    pattern = r\"[A-Z][a-z]+\" # finds all capitalised words in the sentence\n",
    "    if re.findall(pattern, txt):\n",
    "        return \"Match found\"\n",
    "    else:\n",
    "        return \"Match not found\"\n",
    "\n",
    "myListOfStrings = [\n",
    "    \"Hello World\",\n",
    "    \"Python is Fun\",\n",
    "    \"This is a Test\",\n",
    "    \"PYTHON is great\",\n",
    "    \"hello world\",\n",
    "    \"camelCaseExample\"\n",
    "]\n",
    "\n",
    "for string in myListOfStrings:\n",
    "    print(f\"{string}: {matchString(string)}\")"
   ]
  },
  {
   "cell_type": "markdown",
   "id": "79b6711c-ccb0-4393-b6d9-a516b2b5f712",
   "metadata": {},
   "source": [
    "Task 5:"
   ]
  },
  {
   "cell_type": "code",
   "execution_count": 73,
   "id": "da33704f-a8e2-43e8-9579-27b541095fc3",
   "metadata": {},
   "outputs": [
    {
     "name": "stdout",
     "output_type": "stream",
     "text": [
      "ab: Match found\n",
      "a123b: Match found\n",
      "axyzb: Match found\n",
      "a_b: Match found\n",
      "acb: Match found\n",
      "ahello_b: Match found\n",
      "a: Match not found\n",
      "b: Match not found\n",
      "ba: Match not found\n",
      "abc: Match not found\n",
      "aaa: Match not found\n",
      "bab: Match not found\n"
     ]
    }
   ],
   "source": [
    "import re\n",
    "\n",
    "def matchString(txt):\n",
    "    pattern = r\"^a.*b$\" # finds word starts with a followed by anything but ending with b\n",
    "    if re.findall(pattern, txt):\n",
    "        return \"Match found\"\n",
    "    else:\n",
    "        return \"Match not found\"\n",
    "\n",
    "myListOfStrings = [ \"ab\", \"a123b\", \"axyzb\", \"a_b\", \"acb\", \"ahello_b\", \"a\", \"b\", \"ba\", \"abc\", \"aaa\", \"bab\" ]\n",
    "\n",
    "for string in myListOfStrings:\n",
    "    print(f\"{string}: {matchString(string)}\")"
   ]
  },
  {
   "cell_type": "markdown",
   "id": "59abde78-02b2-49ab-bdc7-d5b12f5ea1f7",
   "metadata": {},
   "source": [
    "Task 6:"
   ]
  },
  {
   "cell_type": "code",
   "execution_count": 109,
   "id": "54834fdd-2b59-4668-9ef4-15b5a98dbfc2",
   "metadata": {},
   "outputs": [
    {
     "name": "stdout",
     "output_type": "stream",
     "text": [
      "Hello::world:\n",
      "Python:is:great:\n",
      "Comma::dot::space:test\n",
      "NoSpecialCharactersHere\n",
      "Multiple:::::spaces:here\n",
      "A:B:C:D:E:F\n"
     ]
    }
   ],
   "source": [
    "import re\n",
    "\n",
    "def replaceSighsToColon(txt):\n",
    "    pattern = r\"[ ,.]\"\n",
    "    return re.sub(pattern, \":\", txt)\n",
    "\n",
    "myListOfStrings = [\n",
    "    \"Hello, world.\",\n",
    "    \"Python is great.\",\n",
    "    \"Comma, dot. space test\",\n",
    "    \"NoSpecialCharactersHere\",\n",
    "    \"Multiple     spaces here\",\n",
    "    \"A,B.C D,E.F\"\n",
    "]\n",
    "\n",
    "for string in myListOfStrings:\n",
    "    print(replaceSighsToColon(string))"
   ]
  },
  {
   "cell_type": "markdown",
   "id": "7e2fa0fe-086d-4ea8-9afe-a300b6fb4c26",
   "metadata": {},
   "source": [
    "Task 7:"
   ]
  },
  {
   "cell_type": "code",
   "execution_count": 96,
   "id": "b5702a2d-0e16-4c3b-a90b-850b7151fffb",
   "metadata": {},
   "outputs": [
    {
     "name": "stdout",
     "output_type": "stream",
     "text": [
      "'hello_world' → 'helloWorld'\n",
      "'python_is_awesome' → 'pythonIsAwesome'\n",
      "'convert_snake_to_camel' → 'convertSnakeToCamel'\n",
      "'this_is_a_test' → 'thisIsATest'\n",
      "'singleword' → 'singleword'\n"
     ]
    }
   ],
   "source": [
    "import re\n",
    "\n",
    "def snakeToCamel(snakeStr):\n",
    "    words = snakeStr.split('_')\n",
    "    return words[0] + ''.join(word.capitalize() for word in words[1:])\n",
    "\n",
    "myListOfStrings = [\n",
    "    \"hello_world\",\n",
    "    \"python_is_awesome\",\n",
    "    \"convert_snake_to_camel\",\n",
    "    \"this_is_a_test\",\n",
    "    \"singleword\"\n",
    "]\n",
    "\n",
    "for string in myListOfStrings:\n",
    "    print(f\"'{string}' → '{snakeToCamel(string)}'\")"
   ]
  },
  {
   "cell_type": "markdown",
   "id": "42fd7e40-85e7-4e5a-9f77-72b64090558a",
   "metadata": {},
   "source": [
    "Task 8:"
   ]
  },
  {
   "cell_type": "code",
   "execution_count": 107,
   "id": "e7afa2a4-64c2-4b77-9481-ebd62f78f0f9",
   "metadata": {},
   "outputs": [
    {
     "name": "stdout",
     "output_type": "stream",
     "text": [
      "HelloWorld: ['Hello', 'World']\n",
      "PythonIsAwesome: ['Python', 'Is', 'Awesome']\n",
      "SplitAtUppercase: ['Split', 'At', 'Uppercase']\n",
      "ThisIsATest: ['This', 'Is', 'A', 'Test']\n",
      "NoUppercase: ['No', 'Uppercase']\n",
      "UPPERCASE: ['U', 'P', 'P', 'E', 'R', 'C', 'A', 'S', 'E']\n",
      "camelCaseExample: ['Case', 'Example']\n"
     ]
    }
   ],
   "source": [
    "import re\n",
    "\n",
    "def stringToList(txt):\n",
    "    return re.findall(r\"[A-Z][^A-Z]*\", txt)\n",
    "\n",
    "myListOfStrings = [\n",
    "    \"HelloWorld\",\n",
    "    \"PythonIsAwesome\",\n",
    "    \"SplitAtUppercase\",\n",
    "    \"ThisIsATest\",\n",
    "    \"NoUppercase\",\n",
    "    \"UPPERCASE\",\n",
    "    \"camelCaseExample\"\n",
    "]\n",
    "\n",
    "for string in myListOfStrings:\n",
    "    print(f\"{string}: {stringToList(string)}\")"
   ]
  },
  {
   "cell_type": "markdown",
   "id": "6a5f3eed-9979-4431-8d18-08f7fa87549f",
   "metadata": {},
   "source": [
    "Task 9:"
   ]
  },
  {
   "cell_type": "code",
   "execution_count": 124,
   "id": "f9bf84a1-cecb-4569-b3fc-f9500585f1de",
   "metadata": {},
   "outputs": [
    {
     "name": "stdout",
     "output_type": "stream",
     "text": [
      "'HelloWorld' → 'Hello World'\n",
      "'PythonIsAwesome' → 'Python Is Awesome'\n",
      "'InsertSpacesBetweenWords' → 'Insert Spaces Between Words'\n",
      "'ThisIsATest' → 'This Is ATest'\n",
      "'NoUppercase' → 'No Uppercase'\n",
      "'UPPERCASE' → 'UPPERCASE'\n",
      "'camelCaseExample' → 'camel Case Example'\n"
     ]
    }
   ],
   "source": [
    "import re\n",
    "\n",
    "def insertSpaces(txt):\n",
    "    return re.sub(r'([a-z])([A-Z])', r'\\1 \\2', txt)\n",
    "\n",
    "test_strings = [\n",
    "    \"HelloWorld\",\n",
    "    \"PythonIsAwesome\",\n",
    "    \"InsertSpacesBetweenWords\",\n",
    "    \"ThisIsATest\",\n",
    "    \"NoUppercase\",\n",
    "    \"UPPERCASE\",\n",
    "    \"camelCaseExample\"\n",
    "]\n",
    "\n",
    "for string in test_strings:\n",
    "    print(f\"'{string}' → '{insertSpaces(string)}'\")"
   ]
  },
  {
   "cell_type": "markdown",
   "id": "1746cb5c-7f04-42b3-96b7-8e156ecb7d5c",
   "metadata": {},
   "source": [
    "Task 10:"
   ]
  },
  {
   "cell_type": "code",
   "execution_count": 130,
   "id": "53dd8810-3b0a-48e9-9467-1fe3a0f61438",
   "metadata": {},
   "outputs": [
    {
     "name": "stdout",
     "output_type": "stream",
     "text": [
      "'HelloWorld' → 'hello_world'\n",
      "'PythonIsAwesome' → 'python_is_awesome'\n",
      "'CamelToSnake' → 'camel_to_snake'\n",
      "'ThisIsATest' → 'this_is_atest'\n",
      "'ConvertCamelCase' → 'convert_camel_case'\n",
      "'simpleTestCase' → 'simple_test_case'\n"
     ]
    }
   ],
   "source": [
    "import re\n",
    "\n",
    "def camelToSnake(camelStr):\n",
    "    return re.sub(r'([a-z])([A-Z])', r'\\1_\\2', camelStr).lower()\n",
    "\n",
    "myListOfStrings = [\n",
    "    \"HelloWorld\",\n",
    "    \"PythonIsAwesome\",\n",
    "    \"CamelToSnake\",\n",
    "    \"ThisIsATest\",\n",
    "    \"ConvertCamelCase\",\n",
    "    \"simpleTestCase\"\n",
    "]\n",
    "\n",
    "for string in myListOfStrings:\n",
    "    print(f\"'{string}' → '{camelToSnake(string)}'\")"
   ]
  },
  {
   "cell_type": "code",
   "execution_count": null,
   "id": "cacb3751-bc7c-4d6d-9e32-98d353111ebc",
   "metadata": {},
   "outputs": [],
   "source": []
  }
 ],
 "metadata": {
  "kernelspec": {
   "display_name": "Python [conda env:base] *",
   "language": "python",
   "name": "conda-base-py"
  },
  "language_info": {
   "codemirror_mode": {
    "name": "ipython",
    "version": 3
   },
   "file_extension": ".py",
   "mimetype": "text/x-python",
   "name": "python",
   "nbconvert_exporter": "python",
   "pygments_lexer": "ipython3",
   "version": "3.12.7"
  }
 },
 "nbformat": 4,
 "nbformat_minor": 5
}
