{
 "cells": [
  {
   "cell_type": "markdown",
   "id": "5116d39b-49e2-42c0-ae9d-f30d282edfc8",
   "metadata": {},
   "source": [
    "Task 1:"
   ]
  },
  {
   "cell_type": "code",
   "execution_count": 1,
   "id": "f292063b-2206-422f-a148-7f6565f21e2a",
   "metadata": {},
   "outputs": [
    {
     "name": "stdin",
     "output_type": "stream",
     "text": [
      "Введите путь к директории:  D:\\GAMES\n"
     ]
    },
    {
     "name": "stdout",
     "output_type": "stream",
     "text": [
      "\n",
      "Каталоги:\n",
      "['BlueStacks', 'Bread and Fred', 'Call of Duty 4', 'Clone Drone in the DANGER ZONE', \"Death's Door\", 'DOOM', 'Fallout 4', 'Genshin Impact', 'Geometry Dash v2.112', 'Gunfire Reborn', 'Haste', 'HoloCure', 'Inscryption', 'Jackbox', 'Jump King', 'League of Legends', 'Left 4 Dead 2', 'Nobody Saves The World', 'One Step From Eden', 'Outlast 2', 'Pamel Party', 'Patch', 'Phasmophobia', 'Riot Games', 'Sifu', 'Skyrim - Legendary Edition', 'Slay the Spire', 'Slime Rancher', 'VALORANT', 'Wildfrost']\n",
      "\n",
      "Файлы:\n",
      "['BandagedBD_Windows.exe', 'desktop.ini', 'Jackbox.zip']\n",
      "\n",
      "Все каталоги и файлы:\n",
      "['BandagedBD_Windows.exe', 'BlueStacks', 'Bread and Fred', 'Call of Duty 4', 'Clone Drone in the DANGER ZONE', \"Death's Door\", 'desktop.ini', 'DOOM', 'Fallout 4', 'Genshin Impact', 'Geometry Dash v2.112', 'Gunfire Reborn', 'Haste', 'HoloCure', 'Inscryption', 'Jackbox', 'Jackbox.zip', 'Jump King', 'League of Legends', 'Left 4 Dead 2', 'Nobody Saves The World', 'One Step From Eden', 'Outlast 2', 'Pamel Party', 'Patch', 'Phasmophobia', 'Riot Games', 'Sifu', 'Skyrim - Legendary Edition', 'Slay the Spire', 'Slime Rancher', 'VALORANT', 'Wildfrost']\n"
     ]
    }
   ],
   "source": [
    "import os\n",
    "\n",
    "def list_directories(path):\n",
    "    directories = []\n",
    "    \n",
    "    for item in os.listdir(path):\n",
    "        full_path = os.path.join(path, item)\n",
    "        if os.path.isdir(full_path):\n",
    "            directories.append(item)\n",
    "    \n",
    "    return directories\n",
    "\n",
    "def list_files(path):\n",
    "    files = []\n",
    "    \n",
    "    for item in os.listdir(path):\n",
    "        full_path = os.path.join(path, item)\n",
    "        if os.path.isfile(full_path):\n",
    "            files.append(item)\n",
    "    \n",
    "    return files\n",
    "\n",
    "def list_all(path):\n",
    "    return os.listdir(path)\n",
    "\n",
    "if __name__ == \"__main__\": # Проверка для того чтобы скрипт запроса пути не происходил автоматически при его импорте в другие файлы как модуль с функциями\n",
    "    path = input(\"Введите путь к директории: \")\n",
    "    \n",
    "    if not os.path.exists(path):\n",
    "        print(\"Неверный путь. Пожалуйста, введите корректный путь к директории.\")\n",
    "    else:\n",
    "        print(\"\\nКаталоги:\")\n",
    "        print(list_directories(path))\n",
    "        \n",
    "        print(\"\\nФайлы:\")\n",
    "        print(list_files(path))\n",
    "        \n",
    "        print(\"\\nВсе каталоги и файлы:\")\n",
    "        print(list_all(path))"
   ]
  },
  {
   "cell_type": "markdown",
   "id": "98841338-c7ae-4cd3-9b6f-9e4cdc85b023",
   "metadata": {},
   "source": [
    "Task 2:"
   ]
  },
  {
   "cell_type": "code",
   "execution_count": 40,
   "id": "8f6a3c26-9474-45ea-bc8b-e3b227867ba4",
   "metadata": {},
   "outputs": [
    {
     "name": "stdin",
     "output_type": "stream",
     "text": [
      "Введите путь к директории:  D:\\labTestFolder\\myDemoFile\n"
     ]
    },
    {
     "name": "stdout",
     "output_type": "stream",
     "text": [
      "\n",
      "Проверка доступа к пути:\n",
      "Существует: True\n",
      "Читаемый: True\n",
      "Записываемый: True\n",
      "Исполняемый: True\n"
     ]
    }
   ],
   "source": [
    "def check_path_access(path):\n",
    "    \"\"\"Проверяет доступ к указанному пути: существование, чтение, запись и выполнение.\"\"\"\n",
    "    print(\"\\nПроверка доступа к пути:\")\n",
    "    print(f\"Существует: {os.path.exists(path)}\")\n",
    "    print(f\"Читаемый: {os.access(path, os.R_OK)}\")\n",
    "    print(f\"Записываемый: {os.access(path, os.W_OK)}\")\n",
    "    print(f\"Исполняемый: {os.access(path, os.X_OK)}\")\n",
    "\n",
    "if __name__ == \"__main__\": # Проверка для того чтобы скрипт запроса пути не происходил автоматически при его импорте в другие файлы как модуль с функциями\n",
    "    path = input(\"Введите путь к директории: \")\n",
    "\n",
    "    if not os.path.exists(path):\n",
    "        print(\"Неверный путь. Пожалуйста, введите корректный путь к директории.\")\n",
    "    else:\n",
    "        check_path_access(path)"
   ]
  },
  {
   "cell_type": "code",
   "execution_count": 38,
   "id": "75420d67-9578-4cc5-af30-e41276270fd8",
   "metadata": {},
   "outputs": [
    {
     "name": "stdin",
     "output_type": "stream",
     "text": [
      "Введите путь к директории:  D:\\labTestFolder\\myDemoFile\n"
     ]
    },
    {
     "name": "stdout",
     "output_type": "stream",
     "text": [
      "Это файл: myDemoFile\n",
      "Расположен в директории: D:\\labTestFolder\n"
     ]
    }
   ],
   "source": [
    "def check_path_details(path):\n",
    "    \"\"\"Проверяет, является ли путь файлом или директорией, и выводит его части.\"\"\"\n",
    "    if os.path.exists(path):\n",
    "        if os.path.isfile(path):\n",
    "            print(f\"Это файл: {os.path.basename(path)}\")\n",
    "            print(f\"Расположен в директории: {os.path.dirname(path)}\")\n",
    "        elif os.path.isdir(path):\n",
    "            print(f\"Это директория: {path}\")\n",
    "    else:\n",
    "        print(\"Путь не существует.\")\n",
    "\n",
    "if __name__ == \"__main__\": # Проверка для того чтобы скрипт запроса пути не происходил автоматически при его импорте в другие файлы как модуль с функциями\n",
    "    path = input(\"Введите путь к директории: \")\n",
    "    check_path_details(path)"
   ]
  },
  {
   "cell_type": "markdown",
   "id": "f02e979e-6536-4317-bf68-7a2aea53de65",
   "metadata": {},
   "source": [
    "Task 3:"
   ]
  },
  {
   "cell_type": "code",
   "execution_count": 36,
   "id": "44826daa-8157-4fd6-8d55-37f548620161",
   "metadata": {},
   "outputs": [
    {
     "name": "stdin",
     "output_type": "stream",
     "text": [
      "Введите путь:  D:\\labTestFolder\\myDemoFile\n"
     ]
    },
    {
     "name": "stdout",
     "output_type": "stream",
     "text": [
      "Путь 'D:\\labTestFolder\\myDemoFile' существует.\n",
      "Это файл: myDemoFile\n",
      "Расположен в директории: D:\\labTestFolder\n"
     ]
    }
   ],
   "source": [
    "import os\n",
    "\n",
    "def check_path(path):\n",
    "    \"\"\"Проверяет, существует ли путь, и определяет его части.\"\"\"\n",
    "    if os.path.exists(path):\n",
    "        print(f\"Путь '{path}' существует.\")\n",
    "        \n",
    "        if os.path.isfile(path):\n",
    "            print(f\"Это файл: {os.path.basename(path)}\")\n",
    "            print(f\"Расположен в директории: {os.path.dirname(path)}\")\n",
    "        elif os.path.isdir(path):\n",
    "            print(f\"Это директория: {path}\")\n",
    "    else:\n",
    "        print(f\"Путь '{path}' не существует.\")\n",
    "\n",
    "path = input(\"Введите путь: \")\n",
    "check_path(path)"
   ]
  },
  {
   "cell_type": "markdown",
   "id": "a9a165fd-e1b3-409c-b4e0-c0681279d101",
   "metadata": {},
   "source": [
    "Task 4:"
   ]
  },
  {
   "cell_type": "code",
   "execution_count": 34,
   "id": "fb147be7-fb55-48fd-b8b8-0b027914785d",
   "metadata": {},
   "outputs": [
    {
     "name": "stdin",
     "output_type": "stream",
     "text": [
      "Введите путь к директории:  D:\\labTestFolder\\myDemoFile\n"
     ]
    },
    {
     "name": "stdout",
     "output_type": "stream",
     "text": [
      "Файл D:\\labTestFolder\\myDemoFile содержит 15 строк(и).\n"
     ]
    }
   ],
   "source": [
    "import os\n",
    "\n",
    "def count_lines_in_file(file_path):\n",
    "    \"\"\"Подсчитывает количество строк в текстовом файле.\"\"\"\n",
    "    if os.path.isfile(file_path):\n",
    "        try:\n",
    "            with open(file_path, 'r', encoding='utf-8') as file:\n",
    "                line_count = sum(1 for line in file)\n",
    "            print(f\"Файл {file_path} содержит {line_count} строк(и).\")\n",
    "        except Exception as e:\n",
    "            print(f\"Ошибка при чтении файла: {e}\")\n",
    "    else:\n",
    "        print(\"Указанный путь не является файлом.\")\n",
    "\n",
    "path = input(\"Введите путь к директории: \")\n",
    "\n",
    "if not os.path.exists(path):\n",
    "        print(\"Неверный путь. Пожалуйста, введите корректный путь к директории.\")\n",
    "else:\n",
    "    count_lines_in_file(path)"
   ]
  },
  {
   "cell_type": "markdown",
   "id": "9b8aec7b-16d2-4f21-8855-bccfd22d04a0",
   "metadata": {},
   "source": [
    "Task 5:"
   ]
  },
  {
   "cell_type": "code",
   "execution_count": 67,
   "id": "0f343201-e8de-4043-8ef7-011a579af271",
   "metadata": {},
   "outputs": [
    {
     "name": "stdout",
     "output_type": "stream",
     "text": [
      "Список успешно записан в файл myDemoFile.txt.\n",
      "First\n",
      "Second\n",
      "Third\n",
      "Fourth\n",
      "\n"
     ]
    }
   ],
   "source": [
    "def write_list_to_file(file_path, data_list):\n",
    "    \"\"\"Записывает список строк в файл, каждая строка с новой строки.\"\"\"\n",
    "    try:\n",
    "        with open(file_path, 'w', encoding='utf-8') as file:\n",
    "            for item in data_list:\n",
    "                file.write(f\"{item}\\n\")\n",
    "        print(f\"Список успешно записан в файл {file_path}.\")\n",
    "    except Exception as e:\n",
    "        print(f\"Ошибка при записи файла: {e}\")\n",
    "\n",
    "data = [\"First\", \"Second\", \"Third\", \"Fourth\"]\n",
    "file_name = \"myDemoFile.txt\"\n",
    "\n",
    "write_list_to_file(file_name, data)\n",
    "\n",
    "f = open(\"myDemoFile.txt\", \"r\")\n",
    "print(f.read())\n",
    "f.close()"
   ]
  },
  {
   "cell_type": "code",
   "execution_count": 69,
   "id": "70054bfa-9215-4b4f-98d5-23d19af37547",
   "metadata": {},
   "outputs": [
    {
     "name": "stdout",
     "output_type": "stream",
     "text": [
      "Файлы A-Z созданы в директории: labFolderTest\n",
      "['A.txt', 'B.txt', 'C.txt', 'D.txt', 'E.txt', 'F.txt', 'G.txt', 'H.txt', 'I.txt', 'J.txt', 'K.txt', 'L.txt', 'M.txt', 'N.txt', 'O.txt', 'P.txt', 'Q.txt', 'R.txt', 'S.txt', 'T.txt', 'U.txt', 'V.txt', 'W.txt', 'X.txt', 'Y.txt', 'Z.txt']\n"
     ]
    }
   ],
   "source": [
    "import string\n",
    "import os\n",
    "\n",
    "def generate_text_files(directory):\n",
    "    \"\"\"Создает 26 текстовых файлов (A.txt - Z.txt) в указанной директории.\"\"\"\n",
    "    if not os.path.exists(directory):\n",
    "        os.makedirs(directory)\n",
    "    \n",
    "    for letter in string.ascii_uppercase:\n",
    "        file_path = os.path.join(directory, f\"{letter}.txt\")\n",
    "        with open(file_path, 'w', encoding='utf-8') as file:\n",
    "            file.write(f\"Файл {letter}.txt создан.\\n\")\n",
    "    \n",
    "    print(f\"Файлы A-Z созданы в директории: {directory}\")\n",
    "\n",
    "output_dir = \"labFolderTest\"\n",
    "generate_text_files(output_dir)\n",
    "\n",
    "print(os.listdir(\"labFolderTest\"))"
   ]
  },
  {
   "cell_type": "code",
   "execution_count": 77,
   "id": "c4fa0c79-8bfc-474c-b386-c2e9f7a6584d",
   "metadata": {},
   "outputs": [
    {
     "name": "stdout",
     "output_type": "stream",
     "text": [
      "Файл origFile.txt успешно скопирован в copyFile.txt.\n",
      "Some text\n",
      "Some text\n",
      "Some text\n",
      "Some text\n",
      "Some text\n",
      "Some text\n",
      "Some text\n",
      "Some text\n",
      "Some text\n",
      "Some text\n",
      "Some text\n",
      "Some text\n",
      "Some text\n",
      "Some text\n",
      "Some text\n",
      "\n"
     ]
    }
   ],
   "source": [
    "def copy_file(source_file, destination_file):\n",
    "    \"\"\"Копирует содержимое одного файла в другой.\"\"\"\n",
    "    try:\n",
    "        with open(source_file, 'r', encoding='utf-8') as src:\n",
    "            with open(destination_file, 'w', encoding='utf-8') as dest:\n",
    "                for line in src:\n",
    "                    dest.write(line)\n",
    "        print(f\"Файл {source_file} успешно скопирован в {destination_file}.\")\n",
    "    except FileNotFoundError:\n",
    "        print(\"Ошибка: Исходный файл не найден.\")\n",
    "    except Exception as e:\n",
    "        print(f\"Ошибка при копировании файла: {e}\")\n",
    "\n",
    "source = \"origFile.txt\"  # Укажите имя исходного файла\n",
    "destination = \"copyFile.txt\"  # Укажите имя файла назначения\n",
    "\n",
    "copy_file(source, destination)\n",
    "\n",
    "f = open(\"copyFile.txt\", \"r\")\n",
    "print(f.read())"
   ]
  },
  {
   "cell_type": "markdown",
   "id": "e9201dac-9fab-4e30-aed1-fa2b3d936c05",
   "metadata": {},
   "source": [
    "BuildInFunction Excersises:"
   ]
  },
  {
   "cell_type": "markdown",
   "id": "3d6c5d66-0714-40d5-98e7-dbb5eead2673",
   "metadata": {},
   "source": [
    "Task 1:"
   ]
  },
  {
   "cell_type": "code",
   "execution_count": null,
   "id": "ba18bcaa-217a-4dae-b5a3-e56676fd2e03",
   "metadata": {},
   "outputs": [],
   "source": [
    "def multiply_list(numbers):\n",
    "    \"\"\"Перемножает все числа в списке без использования модулей.\"\"\"\n",
    "    result = 1\n",
    "    for num in numbers:\n",
    "        result *= num  # Умножаем каждое число\n",
    "    return result\n",
    "\n",
    "num_list = [2, 3, 4, 5]\n",
    "result = multiply_list(num_list)\n",
    "\n",
    "print(f\"Произведение чисел списка {num_list} равно {result}.\")"
   ]
  },
  {
   "cell_type": "markdown",
   "id": "99221567-a231-4b81-8afc-46d574b053dc",
   "metadata": {},
   "source": [
    "Task 2:"
   ]
  },
  {
   "cell_type": "code",
   "execution_count": null,
   "id": "24bf55df-7a2c-4125-a68e-51ee3b294e4b",
   "metadata": {},
   "outputs": [],
   "source": [
    "def count_case_letters(text):\n",
    "    \"\"\"Считает количество заглавных и строчных букв в строке с использованием цикла.\"\"\"\n",
    "    upper_count = 0  # Счетчик заглавных букв\n",
    "    lower_count = 0  # Счетчик строчных букв\n",
    "\n",
    "    for char in text:  # Перебираем каждый символ в строке\n",
    "        if char.isupper():\n",
    "            upper_count += 1  # Увеличиваем счетчик заглавных букв\n",
    "        elif char.islower():\n",
    "            lower_count += 1  # Увеличиваем счетчик строчных букв\n",
    "\n",
    "    print(f\"Заглавных букв: {upper_count}\")\n",
    "    print(f\"Строчных букв: {lower_count}\")\n",
    "\n",
    "user_input = input(\"Введите строку: \")\n",
    "count_case_letters(user_input)"
   ]
  },
  {
   "cell_type": "markdown",
   "id": "2194816c-dac5-42a8-b3b5-3a9444f33fd4",
   "metadata": {},
   "source": [
    "Task 3:"
   ]
  },
  {
   "cell_type": "code",
   "execution_count": null,
   "id": "1c924938-8010-4298-b18f-8da64313c2ae",
   "metadata": {},
   "outputs": [],
   "source": [
    "def is_palindrome(text):\n",
    "    \"\"\"Проверяет, является ли строка палиндромом.\"\"\"\n",
    "    \n",
    "    cleaned_text = \"\"\n",
    "    for char in text:\n",
    "        if char.isalnum():  # Проверяем, является ли символ буквой или цифрой\n",
    "            cleaned_text += char.lower()  # Добавляем символ в нижнем регистре\n",
    "    \n",
    "    reversed_text = cleaned_text[::-1]  # Переворачиваем строку\n",
    "    if cleaned_text == reversed_text:\n",
    "        return True\n",
    "    else:\n",
    "        return False\n",
    "\n",
    "user_input = input(\"Введите строку: \")\n",
    "if is_palindrome(user_input):\n",
    "    print(\"Это палиндром\")"
   ]
  },
  {
   "cell_type": "markdown",
   "id": "0c7374b0-05bb-4405-b777-51997b2bb599",
   "metadata": {},
   "source": [
    "Task 4:"
   ]
  },
  {
   "cell_type": "code",
   "execution_count": null,
   "id": "17d25d17-1fbe-42e5-857c-80e569fca31b",
   "metadata": {},
   "outputs": [],
   "source": [
    "import time\n",
    "import math\n",
    "\n",
    "def delayed_sqrt(number, delay_ms):\n",
    "    \"\"\"Вычисляет квадратный корень числа после задержки.\"\"\"\n",
    "    time.sleep(delay_ms / 1000)  # Переводим миллисекунды в секунды\n",
    "    result = math.sqrt(number)\n",
    "    print(f\"Square root of {number} after {delay_ms} milliseconds is {result}\")\n",
    "\n",
    "num = int(input(\"Введите число: \"))\n",
    "delay = int(input(\"Введите задержку в миллисекундах: \"))\n",
    "\n",
    "delayed_sqrt(num, delay)"
   ]
  },
  {
   "cell_type": "markdown",
   "id": "1d5d4a54-2ed1-4d8b-9e42-4f03d087144e",
   "metadata": {},
   "source": [
    "Task 5:"
   ]
  },
  {
   "cell_type": "code",
   "execution_count": null,
   "id": "9e4d70a7-c581-4d05-b454-5d8f8d4a598c",
   "metadata": {},
   "outputs": [],
   "source": [
    "def all_elements_true(tup):\n",
    "    \"\"\"Возвращает True, если все элементы кортежа истинные, иначе False.\"\"\"\n",
    "    return all(tup)  # Встроенная функция all() проверяет все элементы\n",
    "\n",
    "sample_tuple = (True, 1, \"Hello\", [1, 2])  # Все элементы истинные\n",
    "print(all_elements_true(sample_tuple))  # Выведет: True\n",
    "\n",
    "sample_tuple2 = (True, 0, \"Hello\", [])  # Есть ложные элементы (0, пустой список)\n",
    "print(all_elements_true(sample_tuple2))  # Выведет: False\n"
   ]
  },
  {
   "cell_type": "code",
   "execution_count": null,
   "id": "cee0ce70-0fc2-4f54-97fb-19c950cdbe46",
   "metadata": {},
   "outputs": [],
   "source": []
  }
 ],
 "metadata": {
  "kernelspec": {
   "display_name": "Python [conda env:base] *",
   "language": "python",
   "name": "conda-base-py"
  },
  "language_info": {
   "codemirror_mode": {
    "name": "ipython",
    "version": 3
   },
   "file_extension": ".py",
   "mimetype": "text/x-python",
   "name": "python",
   "nbconvert_exporter": "python",
   "pygments_lexer": "ipython3",
   "version": "3.12.7"
  }
 },
 "nbformat": 4,
 "nbformat_minor": 5
}
